{
  "nbformat": 4,
  "nbformat_minor": 0,
  "metadata": {
    "colab": {
      "provenance": []
    },
    "kernelspec": {
      "name": "python3",
      "display_name": "Python 3"
    },
    "language_info": {
      "name": "python"
    }
  },
  "cells": [
    {
      "cell_type": "markdown",
      "source": [
        "## Perceptron"
      ],
      "metadata": {
        "id": "MO_0hW2hPGgH"
      }
    },
    {
      "cell_type": "code",
      "source": [
        "import numpy as np\n",
        "import matplotlib.pyplot as plt\n",
        "\n",
        "class Perceptron:\n",
        "\n",
        "    def predict(self, X):\n",
        "        return (np.dot(self.add_bias(X), self.weights) >= 0) * 1\n",
        "\n",
        "    def fit(self, X, y, itr=1000, lr=0.0001):\n",
        "        X = self.add_bias(X)\n",
        "        self.weights = np.zeros(X.shape[1])\n",
        "        for _ in range(itr):\n",
        "            self.weights += lr * np.dot((y - self.predict(X[:,1:])), X)\n",
        "\n",
        "    def add_bias(self,X):\n",
        "        return np.insert(X, 0, np.ones(X.shape[0]), axis=1)"
      ],
      "metadata": {
        "id": "euGA9Z_5BDrS"
      },
      "execution_count": null,
      "outputs": []
    },
    {
      "cell_type": "code",
      "source": [
        "def plot_hyperplane(X, y, weights, bias):\n",
        "    \"\"\"\n",
        "    Plots the dataset and the estimated decision hyperplane\n",
        "    \"\"\"\n",
        "    slope = - weights[0]/weights[1]\n",
        "    intercept = - bias/weights[1]\n",
        "    x_hyperplane = np.linspace(-10,10,10)\n",
        "    y_hyperplane = slope * x_hyperplane + intercept\n",
        "    fig = plt.figure(figsize=(8,6))\n",
        "    plt.scatter(X[:,0], X[:,1], c=y)\n",
        "    plt.plot(x_hyperplane, y_hyperplane, '-')\n",
        "    plt.title(\"Dataset and fitted decision hyperplane\")\n",
        "    plt.xlabel(\"First feature\")\n",
        "    plt.ylabel(\"Second feature\")\n",
        "    plt.show()"
      ],
      "metadata": {
        "id": "oUUR4xXIBKTQ"
      },
      "execution_count": null,
      "outputs": []
    },
    {
      "cell_type": "code",
      "source": [
        "from sklearn.datasets import load_digits\n",
        "from sklearn.metrics import accuracy_score\n",
        "X, y = load_digits(return_X_y=True)\n",
        "clf = Perceptron()\n",
        "clf.fit(X, (y==9)*1)\n",
        "pre = clf.predict(X)\n",
        "accuracy_score((y==9)*1, pre) # Predicting 9"
      ],
      "metadata": {
        "colab": {
          "base_uri": "https://localhost:8080/"
        },
        "id": "MM7ulGBvBO6P",
        "outputId": "8995ec4d-7af8-4cd1-b1f9-2f4294dcf81a"
      },
      "execution_count": null,
      "outputs": [
        {
          "output_type": "execute_result",
          "data": {
            "text/plain": [
              "0.9905397885364496"
            ]
          },
          "metadata": {},
          "execution_count": 20
        }
      ]
    },
    {
      "cell_type": "code",
      "source": [
        "\n",
        "# This will handle any type of binary target int or categorical\n",
        "class Perceptron2:\n",
        "\n",
        "    def predict(self, X):\n",
        "        X = self.add_bias(X)\n",
        "        convert_to_class = lambda c: self.classes[1] if c >= 0 else self.classes[0]\n",
        "        return np.vectorize(convert_to_class)(X.dot(self.weights))\n",
        "\n",
        "    def fit(self, X, y, epochs=1000, lr=0.001):\n",
        "        self.classes = np.unique(y)\n",
        "        X = self.add_bias(X)\n",
        "        y = (y == self.classes[1]) * 1\n",
        "        self.weights = np.zeros(X.shape[1])\n",
        "        for _ in range(epochs):\n",
        "            self.weights += lr * np.dot((y - self.predict(X[:,1:])), X)\n",
        "\n",
        "    def add_bias(self,X):\n",
        "        return np.insert(X, 0, np.ones(X.shape[0]), axis=1)"
      ],
      "metadata": {
        "id": "y5xoWFyuBQso"
      },
      "execution_count": null,
      "outputs": []
    },
    {
      "cell_type": "code",
      "source": [
        "from sklearn.datasets import load_digits\n",
        "from sklearn.metrics import accuracy_score\n",
        "X, y = load_digits(return_X_y=True)\n",
        "clf = Perceptron2()\n",
        "clf.fit(X, (y==9)*1)\n",
        "pre = clf.predict(X)\n",
        "accuracy_score((y==9)*1, pre) # Predicting 9"
      ],
      "metadata": {
        "colab": {
          "base_uri": "https://localhost:8080/"
        },
        "id": "5YRDTXVWBVyN",
        "outputId": "c55e6197-19a3-4fcf-f65b-6f5780ac7f01"
      },
      "execution_count": null,
      "outputs": [
        {
          "output_type": "execute_result",
          "data": {
            "text/plain": [
              "0.9922092376182526"
            ]
          },
          "metadata": {},
          "execution_count": 23
        }
      ]
    },
    {
      "cell_type": "code",
      "source": [
        "from sklearn.datasets import make_blobs\n",
        "from sklearn.model_selection import train_test_split\n",
        "\n",
        "X, y = make_blobs(n_samples=1000, centers=2)\n",
        "fig = plt.figure(figsize=(8,6))\n",
        "plt.scatter(X[:,0], X[:,1], c=y)\n",
        "plt.title(\"Dataset\")\n",
        "plt.xlabel(\"First feature\")\n",
        "plt.ylabel(\"Second feature\")\n",
        "plt.show()"
      ],
      "metadata": {
        "colab": {
          "base_uri": "https://localhost:8080/",
          "height": 564
        },
        "id": "WIh4egpZBnXu",
        "outputId": "b7263982-4621-4d17-c1c5-c42aa7a67721"
      },
      "execution_count": null,
      "outputs": [
        {
          "output_type": "display_data",
          "data": {
            "text/plain": [
              "<Figure size 800x600 with 1 Axes>"
            ],
            "image/png": "[encoded data removed]"
          },
          "metadata": {}
        }
      ]
    },
    {
      "cell_type": "code",
      "source": [
        "X_train, X_test, y_train, y_test = train_test_split(X, y)\n",
        "p = Perceptron()\n",
        "p.fit(X_train, y_train)\n",
        "y_p_train = p.predict(X_train)\n",
        "y_p_test = p.predict(X_test)\n",
        "print(\"training accuracy: {} %\".format(100 - np.mean(np.abs(y_p_train - y_train)) * 100))\n",
        "print(\"test accuracy: {} %\".format(100 - np.mean(np.abs(y_p_test - y_test)) * 100))"
      ],
      "metadata": {
        "colab": {
          "base_uri": "https://localhost:8080/"
        },
        "id": "FWkeCn7zBs_H",
        "outputId": "83249a65-3dc9-4585-a31d-757ab3166282"
      },
      "execution_count": null,
      "outputs": [
        {
          "output_type": "stream",
          "name": "stdout",
          "text": [
            "training accuracy: 100.0 %\n",
            "test accuracy: 100.0 %\n"
          ]
        }
      ]
    },
    {
      "cell_type": "code",
      "source": [
        "plot_hyperplane(X, y, p.weights[1:], p.weights[0])"
      ],
      "metadata": {
        "colab": {
          "base_uri": "https://localhost:8080/",
          "height": 564
        },
        "id": "fY5skVJ6BwNW",
        "outputId": "1bb4c40d-8854-4a54-b221-ec9716f5404a"
      },
      "execution_count": null,
      "outputs": [
        {
          "output_type": "display_data",
          "data": {
            "text/plain": [
              "<Figure size 800x600 with 1 Axes>"
            ],
            "image/png": "[encoded data removed]"
          },
          "metadata": {}
        }
      ]
    },
    {
      "cell_type": "markdown",
      "source": [
        "------------------------------------------------------------------------------------------"
      ],
      "metadata": {
        "id": "t_RfnfHVQDet"
      }
    },
    {
      "cell_type": "markdown",
      "source": [
        "## Backpropagation"
      ],
      "metadata": {
        "id": "K44G6MkrPO74"
      }
    },
    {
      "cell_type": "code",
      "source": [
        "# Calculate the derivative of an neuron output\n",
        "def transfer_derivative(output):\n",
        "\treturn output * (1.0 - output)\n",
        "\n",
        "# Backpropagate error and store in neurons\n",
        "def backward_propagate_error(network, expected):\n",
        "\tfor i in reversed(range(len(network))):\n",
        "\t\tlayer = network[i]\n",
        "\t\terrors = list()\n",
        "\t\tif i != len(network)-1:\n",
        "\t\t\tfor j in range(len(layer)):\n",
        "\t\t\t\terror = 0.0\n",
        "\t\t\t\tfor neuron in network[i + 1]:\n",
        "\t\t\t\t\terror += (neuron['weights'][j] * neuron['delta'])\n",
        "\t\t\t\terrors.append(error)\n",
        "\t\telse:\n",
        "\t\t\tfor j in range(len(layer)):\n",
        "\t\t\t\tneuron = layer[j]\n",
        "\t\t\t\terrors.append(expected[j] - neuron['output'])\n",
        "\t\tfor j in range(len(layer)):\n",
        "\t\t\tneuron = layer[j]\n",
        "\t\t\tneuron['delta'] = errors[j] * transfer_derivative(neuron['output'])\n",
        "\n",
        "# test backpropagation of error\n",
        "network = [[{'output': 0.7105668883115941, 'weights': [0.13436424411240122, 0.8474337369372327, 0.763774618976614]}],\n",
        "\t\t[{'output': 0.6213859615555266, 'weights': [0.2550690257394217, 0.49543508709194095]}, {'output': 0.6573693455986976, 'weights': [0.4494910647887381, 0.651592972722763]}]]\n",
        "expected = [0, 1]\n",
        "backward_propagate_error(network, expected)\n",
        "for layer in network:\n",
        "\tprint(layer)"
      ],
      "metadata": {
        "colab": {
          "base_uri": "https://localhost:8080/"
        },
        "id": "Azv6pKarQC8S",
        "outputId": "591c0798-1339-4bc3-d843-56072521f646"
      },
      "execution_count": null,
      "outputs": [
        {
          "output_type": "stream",
          "name": "stdout",
          "text": [
            "[{'output': 0.7105668883115941, 'weights': [0.13436424411240122, 0.8474337369372327, 0.763774618976614], 'delta': -0.0005348048046610517}]\n",
            "[{'output': 0.6213859615555266, 'weights': [0.2550690257394217, 0.49543508709194095], 'delta': -0.14619064683582808}, {'output': 0.6573693455986976, 'weights': [0.4494910647887381, 0.651592972722763], 'delta': 0.0771723774346327}]\n"
          ]
        }
      ]
    },
    {
      "cell_type": "code",
      "source": [
        "import sys\n",
        "import json\n",
        "from pathlib import Path\n",
        "import numpy as np\n",
        "import keras\n",
        "from keras.datasets import cifar10\n",
        "from keras.models import Sequential\n",
        "from keras.layers import Dense, Dropout, Activation, Flatten\n",
        "from keras.layers import Conv2D, MaxPooling2D\n",
        "\n",
        "# global static variables\n",
        "dtype_mult = 255.0 # unit8\n",
        "num_classes = 10\n",
        "X_shape = (-1, 32, 32, 3)\n",
        "epoch = 200\n",
        "batch_size = 128\n",
        "\n",
        "def get_dataset():\n",
        "    sys.stdout.write('Loading Dataset\\n')\n",
        "    sys.stdout.flush()\n",
        "\n",
        "    (X_train, y_train), (X_test, y_test) = cifar10.load_data()\n",
        "\n",
        "    return X_train, y_train, X_test, y_test\n",
        "\n",
        "def get_preprocessed_dataset():\n",
        "    X_train, y_train, X_test, y_test = get_dataset()\n",
        "\n",
        "    sys.stdout.write('Preprocessing Dataset\\n\\n')\n",
        "    sys.stdout.flush()\n",
        "\n",
        "    X_train = X_train.astype('float32') / dtype_mult\n",
        "    X_test = X_test.astype('float32') / dtype_mult\n",
        "    y_train = keras.utils.to_categorical(y_train, num_classes)\n",
        "    y_test = keras.utils.to_categorical(y_test, num_classes)\n",
        "\n",
        "    return X_train, y_train, X_test, y_test\n",
        "\n",
        "def generate_optimizer():\n",
        "    return keras.optimizers.Adam()\n",
        "\n",
        "def compile_model(model):\n",
        "    model.compile(loss='categorical_crossentropy',\n",
        "                  optimizer=generate_optimizer(),\n",
        "                  metrics=['accuracy'])\n",
        "\n",
        "def generate_model():\n",
        "    # check if model exists if exists then load model from saved state\n",
        "    if Path('./models/convnet_model.json').is_file():\n",
        "        sys.stdout.write('Loading existing model\\n\\n')\n",
        "        sys.stdout.flush()\n",
        "\n",
        "        with open('./models/convnet_model.json') as file:\n",
        "            model = keras.models.model_from_json(json.load(file))\n",
        "            file.close()\n",
        "\n",
        "        # likewise for model weight, if exists load from saved state\n",
        "        if Path('./models/convnet_weights.h5').is_file():\n",
        "            model.load_weights('./models/convnet_weights.h5')\n",
        "\n",
        "        compile_model(model)\n",
        "\n",
        "        return model\n",
        "\n",
        "    sys.stdout.write('Loading new model\\n\\n')\n",
        "    sys.stdout.flush()\n",
        "\n",
        "    model = Sequential()\n",
        "\n",
        "    # Conv1 32 32 (3) => 30 30 (32)\n",
        "    model.add(Conv2D(32, (3, 3), input_shape=X_shape[1:]))\n",
        "    model.add(Activation('relu'))\n",
        "    # Conv2 30 30 (32) => 28 28 (32)\n",
        "    model.add(Conv2D(32, (3, 3)))\n",
        "    model.add(Activation('relu'))\n",
        "    # Pool1 28 28 (32) => 14 14 (32)\n",
        "    model.add(MaxPooling2D(pool_size=(2, 2)))\n",
        "    model.add(Dropout(0.25))\n",
        "\n",
        "    # Conv3 14 14 (32) => 12 12 (64)\n",
        "    model.add(Conv2D(64, (3, 3)))\n",
        "    model.add(Activation('relu'))\n",
        "    # Conv4 12 12 (64) => 6 6 (64)\n",
        "    model.add(Conv2D(64, (3, 3)))\n",
        "    model.add(Activation('relu'))\n",
        "    # Pool2 6 6 (64) => 3 3 (64)\n",
        "    model.add(MaxPooling2D(pool_size=(2, 2)))\n",
        "    model.add(Dropout(0.25))\n",
        "\n",
        "    # FC layers 3 3 (64) => 576\n",
        "    model.add(Flatten())\n",
        "    # Dense1 576 => 256\n",
        "    model.add(Dense(256))\n",
        "    model.add(Activation('relu'))\n",
        "    model.add(Dropout(0.5))\n",
        "    # Dense2 256 => 10\n",
        "    model.add(Dense(num_classes))\n",
        "    model.add(Activation('softmax'))\n",
        "\n",
        "    # compile has to be done impurely\n",
        "    compile_model(model)\n",
        "\n",
        "    with open('./models/convnet_model.json', 'w') as outfile:\n",
        "        json.dump(model.to_json(), outfile)\n",
        "        outfile.close()\n",
        "\n",
        "    return model\n",
        "\n",
        "def train(model, X_train, y_train, X_test, y_test):\n",
        "    sys.stdout.write('Training model\\n\\n')\n",
        "    sys.stdout.flush()\n",
        "\n",
        "    # train each iteration individually to back up current state\n",
        "    # safety measure against potential crashes\n",
        "    epoch_count = 0\n",
        "    while epoch_count < epoch:\n",
        "        epoch_count += 1\n",
        "        sys.stdout.write('Epoch count: ' + str(epoch_count) + '\\n')\n",
        "        sys.stdout.flush()\n",
        "        model.fit(X_train, y_train, batch_size=batch_size,\n",
        "                  nb_epoch=1, validation_data=(X_test, y_test))\n",
        "        sys.stdout.write('Epoch {} done, saving model to file\\n\\n'.format(epoch_count))\n",
        "        sys.stdout.flush()\n",
        "        model.save_weights('./models/convnet_weights.h5')\n",
        "\n",
        "    return model\n",
        "\n",
        "def get_accuracy(pred, real):\n",
        "    # reward algorithm\n",
        "    result = pred.argmax(axis=1) == real.argmax(axis=1)\n",
        "    return np.sum(result) / len(result)\n",
        "\n",
        "def main():\n",
        "    sys.stdout.write('Welcome to CIFAR-10 Hello world of CONVNET!\\n\\n')\n",
        "    sys.stdout.flush()\n",
        "    X_train, y_train, X_test, y_test = get_preprocessed_dataset()\n",
        "    model = generate_model()\n",
        "    model = train(model, X_train, y_train, X_test, y_test)\n",
        "\n",
        "\n",
        "if __name__ == \"__main__\":\n",
        "    # execute only if run as a script\n",
        "    main()"
      ],
      "metadata": {
        "colab": {
          "base_uri": "https://localhost:8080/",
          "height": 529
        },
        "id": "nZXZliEiTZzL",
        "outputId": "8bc5ac0a-a417-453b-dad1-8bf2a41b2e34"
      },
      "execution_count": null,
      "outputs": [
        {
          "output_type": "stream",
          "name": "stdout",
          "text": [
            "Welcome to CIFAR-10 Hello world of CONVNET!\n",
            "\n",
            "Loading Dataset\n",
            "Preprocessing Dataset\n",
            "\n",
            "Loading new model\n",
            "\n"
          ]
        },
        {
          "output_type": "error",
          "ename": "ModuleNotFoundError",
          "evalue": "ignored",
          "traceback": [
            "\u001b[0;31m---------------------------------------------------------------------------\u001b[0m",
            "\u001b[0;31mModuleNotFoundError\u001b[0m                       Traceback (most recent call last)",
            "\u001b[0;32m<ipython-input-43-25e497288d6c>\u001b[0m in \u001b[0;36m<cell line: 141>\u001b[0;34m()\u001b[0m\n\u001b[1;32m    141\u001b[0m \u001b[0;32mif\u001b[0m \u001b[0m__name__\u001b[0m \u001b[0;34m==\u001b[0m \u001b[0;34m\"__main__\"\u001b[0m\u001b[0;34m:\u001b[0m\u001b[0;34m\u001b[0m\u001b[0;34m\u001b[0m\u001b[0m\n\u001b[1;32m    142\u001b[0m     \u001b[0;31m# execute only if run as a script\u001b[0m\u001b[0;34m\u001b[0m\u001b[0;34m\u001b[0m\u001b[0m\n\u001b[0;32m--> 143\u001b[0;31m     \u001b[0mmain\u001b[0m\u001b[0;34m(\u001b[0m\u001b[0;34m)\u001b[0m\u001b[0;34m\u001b[0m\u001b[0;34m\u001b[0m\u001b[0m\n\u001b[0m",
            "\u001b[0;32m<ipython-input-43-25e497288d6c>\u001b[0m in \u001b[0;36mmain\u001b[0;34m()\u001b[0m\n\u001b[1;32m    135\u001b[0m     \u001b[0msys\u001b[0m\u001b[0;34m.\u001b[0m\u001b[0mstdout\u001b[0m\u001b[0;34m.\u001b[0m\u001b[0mflush\u001b[0m\u001b[0;34m(\u001b[0m\u001b[0;34m)\u001b[0m\u001b[0;34m\u001b[0m\u001b[0;34m\u001b[0m\u001b[0m\n\u001b[1;32m    136\u001b[0m     \u001b[0mX_train\u001b[0m\u001b[0;34m,\u001b[0m \u001b[0my_train\u001b[0m\u001b[0;34m,\u001b[0m \u001b[0mX_test\u001b[0m\u001b[0;34m,\u001b[0m \u001b[0my_test\u001b[0m \u001b[0;34m=\u001b[0m \u001b[0mget_preprocessed_dataset\u001b[0m\u001b[0;34m(\u001b[0m\u001b[0;34m)\u001b[0m\u001b[0;34m\u001b[0m\u001b[0;34m\u001b[0m\u001b[0m\n\u001b[0;32m--> 137\u001b[0;31m     \u001b[0mmodel\u001b[0m \u001b[0;34m=\u001b[0m \u001b[0mgenerate_model\u001b[0m\u001b[0;34m(\u001b[0m\u001b[0;34m)\u001b[0m\u001b[0;34m\u001b[0m\u001b[0;34m\u001b[0m\u001b[0m\n\u001b[0m\u001b[1;32m    138\u001b[0m     \u001b[0mmodel\u001b[0m \u001b[0;34m=\u001b[0m \u001b[0mtrain\u001b[0m\u001b[0;34m(\u001b[0m\u001b[0mmodel\u001b[0m\u001b[0;34m,\u001b[0m \u001b[0mX_train\u001b[0m\u001b[0;34m,\u001b[0m \u001b[0my_train\u001b[0m\u001b[0;34m,\u001b[0m \u001b[0mX_test\u001b[0m\u001b[0;34m,\u001b[0m \u001b[0my_test\u001b[0m\u001b[0;34m)\u001b[0m\u001b[0;34m\u001b[0m\u001b[0;34m\u001b[0m\u001b[0m\n\u001b[1;32m    139\u001b[0m \u001b[0;34m\u001b[0m\u001b[0m\n",
            "\u001b[0;32m<ipython-input-43-25e497288d6c>\u001b[0m in \u001b[0;36mgenerate_model\u001b[0;34m()\u001b[0m\n\u001b[1;32m     66\u001b[0m     \u001b[0msys\u001b[0m\u001b[0;34m.\u001b[0m\u001b[0mstdout\u001b[0m\u001b[0;34m.\u001b[0m\u001b[0mflush\u001b[0m\u001b[0;34m(\u001b[0m\u001b[0;34m)\u001b[0m\u001b[0;34m\u001b[0m\u001b[0;34m\u001b[0m\u001b[0m\n\u001b[1;32m     67\u001b[0m \u001b[0;34m\u001b[0m\u001b[0m\n\u001b[0;32m---> 68\u001b[0;31m     \u001b[0mmodel\u001b[0m \u001b[0;34m=\u001b[0m \u001b[0mSequential\u001b[0m\u001b[0;34m(\u001b[0m\u001b[0;34m)\u001b[0m\u001b[0;34m\u001b[0m\u001b[0;34m\u001b[0m\u001b[0m\n\u001b[0m\u001b[1;32m     69\u001b[0m \u001b[0;34m\u001b[0m\u001b[0m\n\u001b[1;32m     70\u001b[0m     \u001b[0;31m# Conv1 32 32 (3) => 30 30 (32)\u001b[0m\u001b[0;34m\u001b[0m\u001b[0;34m\u001b[0m\u001b[0m\n",
            "\u001b[0;32m/usr/local/lib/python3.10/dist-packages/keras/src/engine/training.py\u001b[0m in \u001b[0;36m__new__\u001b[0;34m(cls, *args, **kwargs)\u001b[0m\n",
            "\u001b[0;32m/usr/local/lib/python3.10/dist-packages/keras/src/engine/base_layer.py\u001b[0m in \u001b[0;36m__new__\u001b[0;34m(cls, *args, **kwargs)\u001b[0m\n",
            "\u001b[0;32m/usr/local/lib/python3.10/dist-packages/keras/src/utils/version_utils.py\u001b[0m in \u001b[0;36m__new__\u001b[0;34m(cls, *args, **kwargs)\u001b[0m\n",
            "\u001b[0;32m/usr/local/lib/python3.10/dist-packages/keras/src/utils/generic_utils.py\u001b[0m in \u001b[0;36m__getattr__\u001b[0;34m(self, item)\u001b[0m\n",
            "\u001b[0;32m/usr/local/lib/python3.10/dist-packages/keras/src/utils/generic_utils.py\u001b[0m in \u001b[0;36m_load\u001b[0;34m(self)\u001b[0m\n",
            "\u001b[0;32m/usr/lib/python3.10/importlib/__init__.py\u001b[0m in \u001b[0;36mimport_module\u001b[0;34m(name, package)\u001b[0m\n\u001b[1;32m    124\u001b[0m                 \u001b[0;32mbreak\u001b[0m\u001b[0;34m\u001b[0m\u001b[0;34m\u001b[0m\u001b[0m\n\u001b[1;32m    125\u001b[0m             \u001b[0mlevel\u001b[0m \u001b[0;34m+=\u001b[0m \u001b[0;36m1\u001b[0m\u001b[0;34m\u001b[0m\u001b[0;34m\u001b[0m\u001b[0m\n\u001b[0;32m--> 126\u001b[0;31m     \u001b[0;32mreturn\u001b[0m \u001b[0m_bootstrap\u001b[0m\u001b[0;34m.\u001b[0m\u001b[0m_gcd_import\u001b[0m\u001b[0;34m(\u001b[0m\u001b[0mname\u001b[0m\u001b[0;34m[\u001b[0m\u001b[0mlevel\u001b[0m\u001b[0;34m:\u001b[0m\u001b[0;34m]\u001b[0m\u001b[0;34m,\u001b[0m \u001b[0mpackage\u001b[0m\u001b[0;34m,\u001b[0m \u001b[0mlevel\u001b[0m\u001b[0;34m)\u001b[0m\u001b[0;34m\u001b[0m\u001b[0;34m\u001b[0m\u001b[0m\n\u001b[0m\u001b[1;32m    127\u001b[0m \u001b[0;34m\u001b[0m\u001b[0m\n\u001b[1;32m    128\u001b[0m \u001b[0;34m\u001b[0m\u001b[0m\n",
            "\u001b[0;32m/usr/lib/python3.10/importlib/_bootstrap.py\u001b[0m in \u001b[0;36m_gcd_import\u001b[0;34m(name, package, level)\u001b[0m\n",
            "\u001b[0;32m/usr/lib/python3.10/importlib/_bootstrap.py\u001b[0m in \u001b[0;36m_find_and_load\u001b[0;34m(name, import_)\u001b[0m\n",
            "\u001b[0;32m/usr/lib/python3.10/importlib/_bootstrap.py\u001b[0m in \u001b[0;36m_find_and_load_unlocked\u001b[0;34m(name, import_)\u001b[0m\n",
            "\u001b[0;31mModuleNotFoundError\u001b[0m: No module named 'keras.src.engine.base_layer_v1'",
            "",
            "\u001b[0;31m---------------------------------------------------------------------------\u001b[0;32m\nNOTE: If your import is failing due to a missing package, you can\nmanually install dependencies using either !pip or !apt.\n\nTo view examples of installing some common dependencies, click the\n\"Open Examples\" button below.\n\u001b[0;31m---------------------------------------------------------------------------\u001b[0m\n"
          ],
          "errorDetails": {
            "actions": [
              {
                "action": "open_url",
                "actionText": "Open Examples",
                "url": "/notebooks/snippets/importing_libraries.ipynb"
              }
            ]
          }
        }
      ]
    },
    {
      "cell_type": "markdown",
      "source": [
        "## Convolutional Neural Network (CNN)"
      ],
      "metadata": {
        "id": "PdW6C5D7PagL"
      }
    },
    {
      "cell_type": "code",
      "source": [
        "!pip install mnist"
      ],
      "metadata": {
        "colab": {
          "base_uri": "https://localhost:8080/"
        },
        "id": "Jz9iBIoIUZgC",
        "outputId": "fb5c76fa-b591-4e06-8590-f1d74a1f6b36"
      },
      "execution_count": null,
      "outputs": [
        {
          "output_type": "stream",
          "name": "stdout",
          "text": [
            "Collecting mnist\n",
            "  Downloading mnist-0.2.2-py2.py3-none-any.whl (3.5 kB)\n",
            "Requirement already satisfied: numpy in /usr/local/lib/python3.10/dist-packages (from mnist) (1.23.5)\n",
            "Installing collected packages: mnist\n",
            "Successfully installed mnist-0.2.2\n"
          ]
        }
      ]
    },
    {
      "cell_type": "code",
      "source": [
        "!pip install conv"
      ],
      "metadata": {
        "colab": {
          "base_uri": "https://localhost:8080/"
        },
        "id": "NCBFYkN4Uo1Q",
        "outputId": "918e744e-1766-4455-f0ea-1e8d1888cb6a"
      },
      "execution_count": null,
      "outputs": [
        {
          "output_type": "stream",
          "name": "stdout",
          "text": [
            "Collecting conv\n",
            "  Downloading conv-0.2.tar.gz (5.8 kB)\n",
            "  Preparing metadata (setup.py) ... \u001b[?25l\u001b[?25hdone\n",
            "Building wheels for collected packages: conv\n",
            "  Building wheel for conv (setup.py) ... \u001b[?25l\u001b[?25hdone\n",
            "  Created wheel for conv: filename=conv-0.2-py3-none-any.whl size=5260 sha256=0b4977848fbd73c3bb340c4891504674b3e0b5bc559b81580bada4605f35f54f\n",
            "  Stored in directory: /root/.cache/pip/wheels/ac/f7/76/ead54aa083e2eb7765730f5fc529371944ddfeaa29f0ae5ec8\n",
            "Successfully built conv\n",
            "Installing collected packages: conv\n",
            "Successfully installed conv-0.2\n"
          ]
        }
      ]
    },
    {
      "cell_type": "code",
      "source": [
        "import numpy as np\n",
        "\n",
        "'''\n",
        "Note: In this implementation, we assume the input is a 2d numpy array for simplicity, because that's\n",
        "how our MNIST images are stored. This works for us because we use it as the first layer in our\n",
        "network, but most CNNs have many more Conv layers. If we were building a bigger network that needed\n",
        "to use Conv3x3 multiple times, we'd have to make the input be a 3d numpy array.\n",
        "'''\n",
        "\n",
        "class Conv3x3:\n",
        "  # A Convolution layer using 3x3 filters.\n",
        "\n",
        "  def __init__(self, num_filters):\n",
        "    self.num_filters = num_filters\n",
        "\n",
        "    # filters is a 3d array with dimensions (num_filters, 3, 3)\n",
        "    # We divide by 9 to reduce the variance of our initial values\n",
        "    self.filters = np.random.randn(num_filters, 3, 3) / 9\n",
        "\n",
        "  def iterate_regions(self, image):\n",
        "    '''\n",
        "    Generates all possible 3x3 image regions using valid padding.\n",
        "    - image is a 2d numpy array.\n",
        "    '''\n",
        "    h, w = image.shape\n",
        "\n",
        "    for i in range(h - 2):\n",
        "      for j in range(w - 2):\n",
        "        im_region = image[i:(i + 3), j:(j + 3)]\n",
        "        yield im_region, i, j\n",
        "\n",
        "  def forward(self, input):\n",
        "    '''\n",
        "    Performs a forward pass of the conv layer using the given input.\n",
        "    Returns a 3d numpy array with dimensions (h, w, num_filters).\n",
        "    - input is a 2d numpy array\n",
        "    '''\n",
        "    self.last_input = input\n",
        "\n",
        "    h, w = input.shape\n",
        "    output = np.zeros((h - 2, w - 2, self.num_filters))\n",
        "\n",
        "    for im_region, i, j in self.iterate_regions(input):\n",
        "      output[i, j] = np.sum(im_region * self.filters, axis=(1, 2))\n",
        "\n",
        "    return output\n",
        "\n",
        "  def backprop(self, d_L_d_out, learn_rate):\n",
        "    '''\n",
        "    Performs a backward pass of the conv layer.\n",
        "    - d_L_d_out is the loss gradient for this layer's outputs.\n",
        "    - learn_rate is a float.\n",
        "    '''\n",
        "    d_L_d_filters = np.zeros(self.filters.shape)\n",
        "\n",
        "    for im_region, i, j in self.iterate_regions(self.last_input):\n",
        "      for f in range(self.num_filters):\n",
        "        d_L_d_filters[f] += d_L_d_out[i, j, f] * im_region\n",
        "\n",
        "    # Update filters\n",
        "    self.filters -= learn_rate * d_L_d_filters\n",
        "\n",
        "    # We aren't returning anything here since we use Conv3x3 as the first layer in our CNN.\n",
        "    # Otherwise, we'd need to return the loss gradient for this layer's inputs, just like every\n",
        "    # other layer in our CNN.\n",
        "    return None"
      ],
      "metadata": {
        "id": "-vnz_29VnHCc"
      },
      "execution_count": null,
      "outputs": []
    },
    {
      "cell_type": "markdown",
      "source": [
        "------------------------------------------------------------------------------------------------------------------"
      ],
      "metadata": {
        "id": "F-wwHyeZQkl-"
      }
    }
  ]
}