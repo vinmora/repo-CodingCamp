{
  "cells": [
    {
      "cell_type": "markdown",
      "metadata": {
        "id": "H9wADwK78DCz"
      },
      "source": [
        "# Proyek Analisis Data: [Input Nama Dataset]\n",
        "- **Nama:** [Input Nama]\n",
        "- **Email:** [Input Email]\n",
        "- **ID Dicoding:** [Input Username]"
      ]
    },
    {
      "cell_type": "markdown",
      "metadata": {
        "id": "eE0raob58DC0"
      },
      "source": [
        "## Menentukan Pertanyaan Bisnis"
      ]
    },
    {
      "cell_type": "markdown",
      "metadata": {
        "id": "GmQeQ5YF8DC0"
      },
      "source": [
        "- Pertanyaan 1\n",
        "- Pertanyaan 2"
      ]
    },
    {
      "cell_type": "markdown",
      "metadata": {
        "id": "H-z4QGlO8DC1"
      },
      "source": [
        "## Import Semua Packages/Library yang Digunakan"
      ]
    },
    {
      "cell_type": "code",
      "execution_count": 119,
      "metadata": {
        "id": "FVYwaObI8DC1"
      },
      "outputs": [],
      "source": [
        "import pandas as pd\n",
        "import matplotlib.pyplot as plt"
      ]
    },
    {
      "cell_type": "markdown",
      "metadata": {
        "id": "h_Sh51Xy8DC1"
      },
      "source": [
        "## Data Wrangling"
      ]
    },
    {
      "cell_type": "markdown",
      "metadata": {
        "id": "sXU2GBYu8DC1"
      },
      "source": [
        "### Gathering Data"
      ]
    },
    {
      "cell_type": "code",
      "execution_count": 110,
      "metadata": {
        "id": "zjCBk1BI8DC1",
        "colab": {
          "base_uri": "https://localhost:8080/"
        },
        "outputId": "b47d87e5-43ac-4a76-d3bc-cfd9f367d267"
      },
      "outputs": [
        {
          "output_type": "execute_result",
          "data": {
            "text/plain": [
              "(   instant      dteday  season  yr  mnth  holiday  weekday  workingday  \\\n",
              " 0        1  2011-01-01       1   0     1        0        6           0   \n",
              " 1        2  2011-01-02       1   0     1        0        0           0   \n",
              " 2        3  2011-01-03       1   0     1        0        1           1   \n",
              " 3        4  2011-01-04       1   0     1        0        2           1   \n",
              " 4        5  2011-01-05       1   0     1        0        3           1   \n",
              " \n",
              "    weathersit      temp     atemp       hum  windspeed  casual  registered  \\\n",
              " 0           2  0.344167  0.363625  0.805833   0.160446     331         654   \n",
              " 1           2  0.363478  0.353739  0.696087   0.248539     131         670   \n",
              " 2           1  0.196364  0.189405  0.437273   0.248309     120        1229   \n",
              " 3           1  0.200000  0.212122  0.590435   0.160296     108        1454   \n",
              " 4           1  0.226957  0.229270  0.436957   0.186900      82        1518   \n",
              " \n",
              "     cnt  \n",
              " 0   985  \n",
              " 1   801  \n",
              " 2  1349  \n",
              " 3  1562  \n",
              " 4  1600  ,\n",
              "    instant      dteday  season  yr  mnth  hr  holiday  weekday  workingday  \\\n",
              " 0        1  2011-01-01       1   0     1   0        0        6           0   \n",
              " 1        2  2011-01-01       1   0     1   1        0        6           0   \n",
              " 2        3  2011-01-01       1   0     1   2        0        6           0   \n",
              " 3        4  2011-01-01       1   0     1   3        0        6           0   \n",
              " 4        5  2011-01-01       1   0     1   4        0        6           0   \n",
              " \n",
              "    weathersit  temp   atemp   hum  windspeed  casual  registered  cnt  \n",
              " 0           1  0.24  0.2879  0.81        0.0       3          13   16  \n",
              " 1           1  0.22  0.2727  0.80        0.0       8          32   40  \n",
              " 2           1  0.22  0.2727  0.80        0.0       5          27   32  \n",
              " 3           1  0.24  0.2879  0.75        0.0       3          10   13  \n",
              " 4           1  0.24  0.2879  0.75        0.0       0           1    1  )"
            ]
          },
          "metadata": {},
          "execution_count": 110
        }
      ],
      "source": [
        "df_day= pd.read_csv(\"/content/sample_data/day.csv\")\n",
        "df_hour = pd.read_csv(\"/content/sample_data/hour.csv\")\n",
        "\n",
        "df_day.head(), df_hour.head()"
      ]
    },
    {
      "cell_type": "markdown",
      "source": [
        "**Insight:**\n",
        "- Dataset day.csv untuk data per hari, dan dataset hour.csv untuk rincian per jamnya\n",
        "- Tidak perlu merge, kita akan menggunakan kedua tabel secara terpisah"
      ],
      "metadata": {
        "id": "MMi6xGaDkbCi"
      }
    },
    {
      "cell_type": "markdown",
      "metadata": {
        "id": "FHSiqaZp8DC1"
      },
      "source": [
        "### Assessing Data"
      ]
    },
    {
      "cell_type": "code",
      "source": [
        "# Melihat informasi setiap kolom kedua dataset\n",
        "df_day.info(), df_hour.info()"
      ],
      "metadata": {
        "id": "ax-3tEjc9Cj1",
        "colab": {
          "base_uri": "https://localhost:8080/"
        },
        "outputId": "13ffae0f-8747-4754-d4fb-f0be18016978"
      },
      "execution_count": 111,
      "outputs": [
        {
          "output_type": "stream",
          "name": "stdout",
          "text": [
            "<class 'pandas.core.frame.DataFrame'>\n",
            "RangeIndex: 731 entries, 0 to 730\n",
            "Data columns (total 16 columns):\n",
            " #   Column      Non-Null Count  Dtype  \n",
            "---  ------      --------------  -----  \n",
            " 0   instant     731 non-null    int64  \n",
            " 1   dteday      731 non-null    object \n",
            " 2   season      731 non-null    int64  \n",
            " 3   yr          731 non-null    int64  \n",
            " 4   mnth        731 non-null    int64  \n",
            " 5   holiday     731 non-null    int64  \n",
            " 6   weekday     731 non-null    int64  \n",
            " 7   workingday  731 non-null    int64  \n",
            " 8   weathersit  731 non-null    int64  \n",
            " 9   temp        731 non-null    float64\n",
            " 10  atemp       731 non-null    float64\n",
            " 11  hum         731 non-null    float64\n",
            " 12  windspeed   731 non-null    float64\n",
            " 13  casual      731 non-null    int64  \n",
            " 14  registered  731 non-null    int64  \n",
            " 15  cnt         731 non-null    int64  \n",
            "dtypes: float64(4), int64(11), object(1)\n",
            "memory usage: 91.5+ KB\n",
            "<class 'pandas.core.frame.DataFrame'>\n",
            "RangeIndex: 17379 entries, 0 to 17378\n",
            "Data columns (total 17 columns):\n",
            " #   Column      Non-Null Count  Dtype  \n",
            "---  ------      --------------  -----  \n",
            " 0   instant     17379 non-null  int64  \n",
            " 1   dteday      17379 non-null  object \n",
            " 2   season      17379 non-null  int64  \n",
            " 3   yr          17379 non-null  int64  \n",
            " 4   mnth        17379 non-null  int64  \n",
            " 5   hr          17379 non-null  int64  \n",
            " 6   holiday     17379 non-null  int64  \n",
            " 7   weekday     17379 non-null  int64  \n",
            " 8   workingday  17379 non-null  int64  \n",
            " 9   weathersit  17379 non-null  int64  \n",
            " 10  temp        17379 non-null  float64\n",
            " 11  atemp       17379 non-null  float64\n",
            " 12  hum         17379 non-null  float64\n",
            " 13  windspeed   17379 non-null  float64\n",
            " 14  casual      17379 non-null  int64  \n",
            " 15  registered  17379 non-null  int64  \n",
            " 16  cnt         17379 non-null  int64  \n",
            "dtypes: float64(4), int64(12), object(1)\n",
            "memory usage: 2.3+ MB\n"
          ]
        },
        {
          "output_type": "execute_result",
          "data": {
            "text/plain": [
              "(None, None)"
            ]
          },
          "metadata": {},
          "execution_count": 111
        }
      ]
    },
    {
      "cell_type": "markdown",
      "source": [
        "Tidak ada terdeteksi ada kolom yang kosong, kita akan lanjut ke duplikasi"
      ],
      "metadata": {
        "id": "VMkKotwHF9bp"
      }
    },
    {
      "cell_type": "code",
      "source": [
        "# Mengecek duplikasi\n",
        "duplicate_day = df_day.duplicated().sum()\n",
        "duplicate_hour = df_hour.duplicated().sum()\n",
        "duplicate_day, duplicate_hour"
      ],
      "metadata": {
        "colab": {
          "base_uri": "https://localhost:8080/"
        },
        "id": "3GY04oqcGHTJ",
        "outputId": "674ec2af-ccbb-43c8-b3e6-01731556833c"
      },
      "execution_count": 112,
      "outputs": [
        {
          "output_type": "execute_result",
          "data": {
            "text/plain": [
              "(0, 0)"
            ]
          },
          "metadata": {},
          "execution_count": 112
        }
      ]
    },
    {
      "cell_type": "markdown",
      "source": [
        "Duplikasi juga tidak ada di kedua dataset ini"
      ],
      "metadata": {
        "id": "eZOqsUFTGQxp"
      }
    },
    {
      "cell_type": "markdown",
      "source": [
        "**Insight:**\n",
        "- Tidak ada missing values di kedua dataset.\n",
        "- Tidak ada data duplikat di kedua dataset.\n",
        "- Kolom data kategorikal seperti musim, cuaca dll. diubah ke bentuk angka\n",
        "- Jenis-jenis tipe data setiap kolomnya sudah sesuai, kecuali pada kolom dteday (object)\n"
      ],
      "metadata": {
        "id": "7dtxhAPrkhPL"
      }
    },
    {
      "cell_type": "markdown",
      "metadata": {
        "id": "EhN5R4hr8DC1"
      },
      "source": [
        "### Cleaning Data"
      ]
    },
    {
      "cell_type": "markdown",
      "source": [
        "Kita perbaiki tipe data yang tidak sesuai dulu, sebelum yang lain di olah"
      ],
      "metadata": {
        "id": "xyfCmnIametX"
      }
    },
    {
      "cell_type": "code",
      "source": [
        "#Ubah kolom dteday dari object ke datetime,\n",
        "df_day['dteday'] = pd.to_datetime(df_day['dteday'])\n",
        "df_hour['dteday'] = pd.to_datetime(df_hour['dteday'])"
      ],
      "metadata": {
        "id": "jVnYpprE9Evz"
      },
      "execution_count": 113,
      "outputs": []
    },
    {
      "cell_type": "markdown",
      "source": [
        "Setelah dteday ubah ke format tanggal, kita akan mengganti kolom \"yr\" dari [0,1] ke [2011,2012]"
      ],
      "metadata": {
        "id": "Lxu8Uk_AKlY_"
      }
    },
    {
      "cell_type": "code",
      "source": [
        "# 2. Konversi kolom 'yr' menjadi tahun sebenarnya (0 -> 2011, 1 -> 2012)\n",
        "df_day['yr'] = df_day['yr'].map({0: 2011, 1: 2012})\n",
        "df_hour['yr'] = df_hour['yr'].map({0: 2011, 1: 2012})\n",
        "df_day[\"yr\"].head(3), df_hour[\"yr\"].tail(3)"
      ],
      "metadata": {
        "colab": {
          "base_uri": "https://localhost:8080/"
        },
        "id": "Y7kJRvKwKhVP",
        "outputId": "02aee6cc-4815-49c8-fd2f-631adb1076fa"
      },
      "execution_count": 114,
      "outputs": [
        {
          "output_type": "execute_result",
          "data": {
            "text/plain": [
              "(0    2011\n",
              " 1    2011\n",
              " 2    2011\n",
              " Name: yr, dtype: int64,\n",
              " 17376    2012\n",
              " 17377    2012\n",
              " 17378    2012\n",
              " Name: yr, dtype: int64)"
            ]
          },
          "metadata": {},
          "execution_count": 114
        }
      ]
    },
    {
      "cell_type": "markdown",
      "source": [
        "Kolom yr sudah di ubah, saatnya kita ubah kolom bentuk kategori angka [Season, Weekly, Weathersit] ke dalam bentuk label yang lebih mudah di baca"
      ],
      "metadata": {
        "id": "H-Q6-p-sNOwz"
      }
    },
    {
      "cell_type": "code",
      "source": [
        "# 3 Ubah kategori angka menjadi label, kita gunakan map\n",
        "season_map = {1: 'Spring', 2: 'Summer', 3: 'Fall', 4: 'Winter'}\n",
        "weekday_map = {0: 'Sunday', 1: 'Monday', 2: 'Tuesday', 3: 'Wednesday', 4: 'Thursday', 5: 'Friday', 6: 'Saturday'}\n",
        "weathersit_map = {1: 'Clear', 2: 'Cloudy', 3: 'Light Rain/Snow', 4: 'Heavy Rain/Snow'}"
      ],
      "metadata": {
        "id": "0i4ROCzkKgF3"
      },
      "execution_count": 115,
      "outputs": []
    },
    {
      "cell_type": "markdown",
      "source": [
        "Pelabelannya sudah sesuai, kita gunakan bahasa inggris agar sesuai, selanjutnya kita aplikasikan ke kedua dataset"
      ],
      "metadata": {
        "id": "yXK21NCoPZ83"
      }
    },
    {
      "cell_type": "code",
      "source": [
        "df_day['season'] = df_day['season'].map(season_map)\n",
        "df_day['weekday'] = df_day['weekday'].map(weekday_map)\n",
        "df_day['weathersit'] = df_day['weathersit'].map(weathersit_map)\n",
        "\n",
        "df_hour['season'] = df_hour['season'].map(season_map)\n",
        "df_hour['weekday'] = df_hour['weekday'].map(weekday_map)\n",
        "df_hour['weathersit'] = df_hour['weathersit'].map(weathersit_map)\n",
        "\n",
        "df_day[['season', 'weekday', 'weathersit']].head(5), df_hour[['season', 'weekday', 'weathersit']].head(5)"
      ],
      "metadata": {
        "colab": {
          "base_uri": "https://localhost:8080/"
        },
        "id": "_1_J3I53OLbp",
        "outputId": "50b2b711-48df-4ef0-ebcc-5ed88ba30fc3"
      },
      "execution_count": 116,
      "outputs": [
        {
          "output_type": "execute_result",
          "data": {
            "text/plain": [
              "(   season    weekday weathersit\n",
              " 0  Spring   Saturday     Cloudy\n",
              " 1  Spring     Sunday     Cloudy\n",
              " 2  Spring     Monday      Clear\n",
              " 3  Spring    Tuesday      Clear\n",
              " 4  Spring  Wednesday      Clear,\n",
              "    season   weekday weathersit\n",
              " 0  Spring  Saturday      Clear\n",
              " 1  Spring  Saturday      Clear\n",
              " 2  Spring  Saturday      Clear\n",
              " 3  Spring  Saturday      Clear\n",
              " 4  Spring  Saturday      Clear)"
            ]
          },
          "metadata": {},
          "execution_count": 116
        }
      ]
    },
    {
      "cell_type": "markdown",
      "source": [
        "Kolom kategorikal nya sudah lebih mudah di baca, terakhir kita akan mengecek kolom [Casual, Registered, Cnt]. Total [Casual + Registered] harus sesuai dengan jumlah [Cnt]"
      ],
      "metadata": {
        "id": "xZL8j_eBm_yK"
      }
    },
    {
      "cell_type": "code",
      "source": [
        "# 5. Simpan penjumlahan casual + registered pada sebuah variabel\n",
        "df_day['cnt_check'] = df_day['casual'] + df_day['registered']\n",
        "df_hour['cnt_check'] = df_hour['casual'] + df_hour['registered']"
      ],
      "metadata": {
        "id": "IBjJRTURSPpW"
      },
      "execution_count": 117,
      "outputs": []
    },
    {
      "cell_type": "code",
      "source": [
        "# Cek apakah ada perbedaan miskalkulasi\n",
        "cnt_mismatch_day = (df_day['cnt'] != df_day['cnt_check']).sum()\n",
        "cnt_mismatch_hour = (df_hour['cnt'] != df_hour['cnt_check']).sum()\n",
        "cnt_mismatch_day, cnt_mismatch_hour"
      ],
      "metadata": {
        "colab": {
          "base_uri": "https://localhost:8080/"
        },
        "id": "VSgCD6XQny1S",
        "outputId": "a3676929-383a-4a94-f000-d4f5362edf89"
      },
      "execution_count": 118,
      "outputs": [
        {
          "output_type": "execute_result",
          "data": {
            "text/plain": [
              "(0, 0)"
            ]
          },
          "metadata": {},
          "execution_count": 118
        }
      ]
    },
    {
      "cell_type": "markdown",
      "source": [
        "Tidak ada miskalkulasi pada total registered dan casual"
      ],
      "metadata": {
        "id": "Y6yctXR-oKR7"
      }
    },
    {
      "cell_type": "markdown",
      "source": [
        "**Insight:**\n",
        "- Format seluruh kolom telah sesuai\n",
        "- Data kategorikal lebih mudah di pahami karena sudah di pindah ke bentuk label\n",
        "- Tidak ada miskalkulasi pada kolom Cnt\n",
        "- Untuk kolom dengan nilai skala numerik (temp,hump dll)  tak perlu kita ubah, karena sudah di normalisasi dan bisa langsung di gunakan dengan mudah"
      ],
      "metadata": {
        "id": "Q_5ejIqckiSP"
      }
    },
    {
      "cell_type": "markdown",
      "metadata": {
        "id": "gp-Y6wU38DC1"
      },
      "source": [
        "## Exploratory Data Analysis (EDA)"
      ]
    },
    {
      "cell_type": "markdown",
      "metadata": {
        "id": "MW7WF2kr8DC1"
      },
      "source": [
        "### Explore ..."
      ]
    },
    {
      "cell_type": "code",
      "execution_count": 118,
      "metadata": {
        "id": "e9CQCZjk8DC2"
      },
      "outputs": [],
      "source": []
    },
    {
      "cell_type": "markdown",
      "source": [
        "**Insight:**\n",
        "- xxx\n",
        "- xxx"
      ],
      "metadata": {
        "id": "th_Lzl2Fkj9O"
      }
    },
    {
      "cell_type": "markdown",
      "metadata": {
        "id": "zsyZjqak8DC2"
      },
      "source": [
        "## Visualization & Explanatory Analysis"
      ]
    },
    {
      "cell_type": "markdown",
      "metadata": {
        "id": "HZxOiQ6n8DC2"
      },
      "source": [
        "### Pertanyaan 1:"
      ]
    },
    {
      "cell_type": "code",
      "execution_count": 118,
      "metadata": {
        "id": "1swJUdAD8DC2"
      },
      "outputs": [],
      "source": []
    },
    {
      "cell_type": "markdown",
      "metadata": {
        "id": "DgHI7CiU8DC2"
      },
      "source": [
        "### Pertanyaan 2:"
      ]
    },
    {
      "cell_type": "code",
      "execution_count": 118,
      "metadata": {
        "id": "Go0lCsvO8DC2"
      },
      "outputs": [],
      "source": []
    },
    {
      "cell_type": "markdown",
      "source": [
        "**Insight:**\n",
        "- xxx\n",
        "- xxx"
      ],
      "metadata": {
        "id": "_0-36BDLklRg"
      }
    },
    {
      "cell_type": "markdown",
      "source": [
        "## Analisis Lanjutan (Opsional)"
      ],
      "metadata": {
        "id": "9y4VUsmcYNZ5"
      }
    },
    {
      "cell_type": "code",
      "source": [],
      "metadata": {
        "id": "iWhnzsJGYUCO"
      },
      "execution_count": 118,
      "outputs": []
    },
    {
      "cell_type": "markdown",
      "metadata": {
        "id": "_WeHlCeX8DC2"
      },
      "source": [
        "## Conclusion"
      ]
    },
    {
      "cell_type": "markdown",
      "metadata": {
        "id": "ZTcyR48Y8DC2"
      },
      "source": [
        "- Conclution pertanyaan 1\n",
        "- Conclution pertanyaan 2"
      ]
    }
  ],
  "metadata": {
    "kernelspec": {
      "display_name": "Python 3",
      "language": "python",
      "name": "python3"
    },
    "language_info": {
      "name": "python",
      "version": "3.8.0 (tags/v3.8.0:fa919fd, Oct 14 2019, 19:21:23) [MSC v.1916 32 bit (Intel)]"
    },
    "orig_nbformat": 4,
    "vscode": {
      "interpreter": {
        "hash": "972b3bf27e332e87b5379f2791f6ef9dfc79c71018c370b0d7423235e20fe4d7"
      }
    },
    "colab": {
      "provenance": []
    }
  },
  "nbformat": 4,
  "nbformat_minor": 0
}