{
  "cells": [
    {
      "cell_type": "markdown",
      "metadata": {
        "id": "H9wADwK78DCz"
      },
      "source": [
        "# Proyek Analisis Data: Bike-sharing-dataset\n",
        "- **Nama:** Ananda Kelvin Power Situmorang\n",
        "- **Email:** anandakelvinsitumorang2001@gmail.com\n",
        "- **ID Dicoding:** MC319D5Y1574"
      ]
    },
    {
      "cell_type": "markdown",
      "metadata": {
        "id": "eE0raob58DC0"
      },
      "source": [
        "## Menentukan Pertanyaan Bisnis"
      ]
    },
    {
      "cell_type": "markdown",
      "metadata": {
        "id": "GmQeQ5YF8DC0"
      },
      "source": [
        "- Bagaimana tren peminjaman sepeda di tahun 2011 dan 2012?\n",
        "- Musim apa yang paling banyak dan paling sedikit orang menyewa sepeda?\n",
        "- Apakah musim dan cuaca mempengaruhi pola jumlah peminjaman?\n",
        "- Dalam sehari, pada waktu kapan terjadi peminjaman tertinggi dan terendah?"
      ]
    },
    {
      "cell_type": "markdown",
      "metadata": {
        "id": "H-z4QGlO8DC1"
      },
      "source": [
        "## Import Semua Packages/Library yang Digunakan"
      ]
    },
    {
      "cell_type": "code",
      "execution_count": 52,
      "metadata": {
        "id": "FVYwaObI8DC1"
      },
      "outputs": [],
      "source": [
        "import pandas as pd\n",
        "import matplotlib.pyplot as plt\n",
        "import seaborn as sns"
      ]
    },
    {
      "cell_type": "markdown",
      "metadata": {
        "id": "h_Sh51Xy8DC1"
      },
      "source": [
        "## Data Wrangling"
      ]
    },
    {
      "cell_type": "markdown",
      "metadata": {
        "id": "sXU2GBYu8DC1"
      },
      "source": [
        "### Gathering Data"
      ]
    },
    {
      "cell_type": "code",
      "execution_count": 53,
      "metadata": {
        "colab": {
          "base_uri": "https://localhost:8080/"
        },
        "id": "zjCBk1BI8DC1",
        "outputId": "bd8f20d2-0e17-44e6-961c-5e2da0d37c28"
      },
      "outputs": [
        {
          "output_type": "execute_result",
          "data": {
            "text/plain": [
              "(   instant      dteday  season  yr  mnth  holiday  weekday  workingday  \\\n",
              " 0        1  2011-01-01       1   0     1        0        6           0   \n",
              " 1        2  2011-01-02       1   0     1        0        0           0   \n",
              " 2        3  2011-01-03       1   0     1        0        1           1   \n",
              " 3        4  2011-01-04       1   0     1        0        2           1   \n",
              " 4        5  2011-01-05       1   0     1        0        3           1   \n",
              " \n",
              "    weathersit      temp     atemp       hum  windspeed  casual  registered  \\\n",
              " 0           2  0.344167  0.363625  0.805833   0.160446     331         654   \n",
              " 1           2  0.363478  0.353739  0.696087   0.248539     131         670   \n",
              " 2           1  0.196364  0.189405  0.437273   0.248309     120        1229   \n",
              " 3           1  0.200000  0.212122  0.590435   0.160296     108        1454   \n",
              " 4           1  0.226957  0.229270  0.436957   0.186900      82        1518   \n",
              " \n",
              "     cnt  \n",
              " 0   985  \n",
              " 1   801  \n",
              " 2  1349  \n",
              " 3  1562  \n",
              " 4  1600  ,\n",
              "    instant      dteday  season  yr  mnth  hr  holiday  weekday  workingday  \\\n",
              " 0        1  2011-01-01       1   0     1   0        0        6           0   \n",
              " 1        2  2011-01-01       1   0     1   1        0        6           0   \n",
              " 2        3  2011-01-01       1   0     1   2        0        6           0   \n",
              " 3        4  2011-01-01       1   0     1   3        0        6           0   \n",
              " 4        5  2011-01-01       1   0     1   4        0        6           0   \n",
              " \n",
              "    weathersit  temp   atemp   hum  windspeed  casual  registered  cnt  \n",
              " 0           1  0.24  0.2879  0.81        0.0       3          13   16  \n",
              " 1           1  0.22  0.2727  0.80        0.0       8          32   40  \n",
              " 2           1  0.22  0.2727  0.80        0.0       5          27   32  \n",
              " 3           1  0.24  0.2879  0.75        0.0       3          10   13  \n",
              " 4           1  0.24  0.2879  0.75        0.0       0           1    1  )"
            ]
          },
          "metadata": {},
          "execution_count": 53
        }
      ],
      "source": [
        "df_day= pd.read_csv(\"/content/sample_data/day.csv\")\n",
        "df_hour = pd.read_csv(\"/content/sample_data/hour.csv\")\n",
        "\n",
        "df_day.head(), df_hour.head()"
      ]
    },
    {
      "cell_type": "markdown",
      "metadata": {
        "id": "MMi6xGaDkbCi"
      },
      "source": [
        "**Insight:**\n",
        "- Dataset day.csv untuk data per hari, dan dataset hour.csv untuk rincian per jamnya\n",
        "- Tidak perlu merge, kita akan menggunakan kedua tabel secara terpisah"
      ]
    },
    {
      "cell_type": "markdown",
      "metadata": {
        "id": "FHSiqaZp8DC1"
      },
      "source": [
        "### Assessing Data"
      ]
    },
    {
      "cell_type": "code",
      "execution_count": 54,
      "metadata": {
        "colab": {
          "base_uri": "https://localhost:8080/"
        },
        "id": "ax-3tEjc9Cj1",
        "outputId": "82996d6e-1bee-4f99-ec9e-9347fa46d363"
      },
      "outputs": [
        {
          "output_type": "stream",
          "name": "stdout",
          "text": [
            "<class 'pandas.core.frame.DataFrame'>\n",
            "RangeIndex: 731 entries, 0 to 730\n",
            "Data columns (total 16 columns):\n",
            " #   Column      Non-Null Count  Dtype  \n",
            "---  ------      --------------  -----  \n",
            " 0   instant     731 non-null    int64  \n",
            " 1   dteday      731 non-null    object \n",
            " 2   season      731 non-null    int64  \n",
            " 3   yr          731 non-null    int64  \n",
            " 4   mnth        731 non-null    int64  \n",
            " 5   holiday     731 non-null    int64  \n",
            " 6   weekday     731 non-null    int64  \n",
            " 7   workingday  731 non-null    int64  \n",
            " 8   weathersit  731 non-null    int64  \n",
            " 9   temp        731 non-null    float64\n",
            " 10  atemp       731 non-null    float64\n",
            " 11  hum         731 non-null    float64\n",
            " 12  windspeed   731 non-null    float64\n",
            " 13  casual      731 non-null    int64  \n",
            " 14  registered  731 non-null    int64  \n",
            " 15  cnt         731 non-null    int64  \n",
            "dtypes: float64(4), int64(11), object(1)\n",
            "memory usage: 91.5+ KB\n",
            "<class 'pandas.core.frame.DataFrame'>\n",
            "RangeIndex: 17379 entries, 0 to 17378\n",
            "Data columns (total 17 columns):\n",
            " #   Column      Non-Null Count  Dtype  \n",
            "---  ------      --------------  -----  \n",
            " 0   instant     17379 non-null  int64  \n",
            " 1   dteday      17379 non-null  object \n",
            " 2   season      17379 non-null  int64  \n",
            " 3   yr          17379 non-null  int64  \n",
            " 4   mnth        17379 non-null  int64  \n",
            " 5   hr          17379 non-null  int64  \n",
            " 6   holiday     17379 non-null  int64  \n",
            " 7   weekday     17379 non-null  int64  \n",
            " 8   workingday  17379 non-null  int64  \n",
            " 9   weathersit  17379 non-null  int64  \n",
            " 10  temp        17379 non-null  float64\n",
            " 11  atemp       17379 non-null  float64\n",
            " 12  hum         17379 non-null  float64\n",
            " 13  windspeed   17379 non-null  float64\n",
            " 14  casual      17379 non-null  int64  \n",
            " 15  registered  17379 non-null  int64  \n",
            " 16  cnt         17379 non-null  int64  \n",
            "dtypes: float64(4), int64(12), object(1)\n",
            "memory usage: 2.3+ MB\n"
          ]
        },
        {
          "output_type": "execute_result",
          "data": {
            "text/plain": [
              "(None, None)"
            ]
          },
          "metadata": {},
          "execution_count": 54
        }
      ],
      "source": [
        "# Melihat informasi setiap kolom kedua dataset\n",
        "df_day.info(), df_hour.info()"
      ]
    },
    {
      "cell_type": "markdown",
      "metadata": {
        "id": "VMkKotwHF9bp"
      },
      "source": [
        "Tidak ada terdeteksi ada kolom yang kosong, kita akan lanjut ke duplikasi"
      ]
    },
    {
      "cell_type": "code",
      "execution_count": 55,
      "metadata": {
        "colab": {
          "base_uri": "https://localhost:8080/"
        },
        "id": "3GY04oqcGHTJ",
        "outputId": "8efaa4f2-31c6-497f-803a-c3e9c5d63a46"
      },
      "outputs": [
        {
          "output_type": "execute_result",
          "data": {
            "text/plain": [
              "(0, 0)"
            ]
          },
          "metadata": {},
          "execution_count": 55
        }
      ],
      "source": [
        "# Mengecek duplikasi\n",
        "duplicate_day = df_day.duplicated().sum()\n",
        "duplicate_hour = df_hour.duplicated().sum()\n",
        "duplicate_day, duplicate_hour"
      ]
    },
    {
      "cell_type": "markdown",
      "metadata": {
        "id": "eZOqsUFTGQxp"
      },
      "source": [
        "Duplikasi juga tidak ada di kedua dataset ini"
      ]
    },
    {
      "cell_type": "markdown",
      "metadata": {
        "id": "7dtxhAPrkhPL"
      },
      "source": [
        "**Insight:**\n",
        "- Tidak ada missing values di kedua dataset.\n",
        "- Tidak ada data duplikat di kedua dataset.\n",
        "- Kolom data kategorikal seperti musim, cuaca dll. diubah ke bentuk angka\n",
        "- Jenis-jenis tipe data setiap kolomnya sudah sesuai, kecuali pada kolom dteday (object)\n"
      ]
    },
    {
      "cell_type": "markdown",
      "metadata": {
        "id": "EhN5R4hr8DC1"
      },
      "source": [
        "### Cleaning Data"
      ]
    },
    {
      "cell_type": "markdown",
      "metadata": {
        "id": "xyfCmnIametX"
      },
      "source": [
        "Kita perbaiki tipe data yang tidak sesuai dulu, sebelum yang lain di olah"
      ]
    },
    {
      "cell_type": "code",
      "execution_count": 56,
      "metadata": {
        "id": "jVnYpprE9Evz"
      },
      "outputs": [],
      "source": [
        "#Ubah kolom dteday dari object ke datetime,\n",
        "df_day['dteday'] = pd.to_datetime(df_day['dteday'])\n",
        "df_hour['dteday'] = pd.to_datetime(df_hour['dteday'])"
      ]
    },
    {
      "cell_type": "markdown",
      "metadata": {
        "id": "Lxu8Uk_AKlY_"
      },
      "source": [
        "Setelah dteday ubah ke format tanggal, kita akan mengganti kolom \"yr\" dari [0,1] ke [2011,2012]"
      ]
    },
    {
      "cell_type": "code",
      "execution_count": 57,
      "metadata": {
        "colab": {
          "base_uri": "https://localhost:8080/"
        },
        "id": "Y7kJRvKwKhVP",
        "outputId": "0f43b365-47bc-4edf-8850-24b8c315ceca"
      },
      "outputs": [
        {
          "output_type": "execute_result",
          "data": {
            "text/plain": [
              "(0    2011\n",
              " 1    2011\n",
              " 2    2011\n",
              " Name: yr, dtype: int64,\n",
              " 17376    2012\n",
              " 17377    2012\n",
              " 17378    2012\n",
              " Name: yr, dtype: int64)"
            ]
          },
          "metadata": {},
          "execution_count": 57
        }
      ],
      "source": [
        "# 2. Konversi kolom 'yr' menjadi tahun sebenarnya (0 -> 2011, 1 -> 2012)\n",
        "df_day['yr'] = df_day['yr'].map({0: 2011, 1: 2012})\n",
        "df_hour['yr'] = df_hour['yr'].map({0: 2011, 1: 2012})\n",
        "df_day[\"yr\"].head(3), df_hour[\"yr\"].tail(3)"
      ]
    },
    {
      "cell_type": "markdown",
      "metadata": {
        "id": "H-Q6-p-sNOwz"
      },
      "source": [
        "Kolom yr sudah di ubah, saatnya kita ubah kolom bentuk kategori angka [Season, Weekly, Weathersit] ke dalam bentuk label yang lebih mudah di baca"
      ]
    },
    {
      "cell_type": "code",
      "execution_count": 58,
      "metadata": {
        "id": "0i4ROCzkKgF3"
      },
      "outputs": [],
      "source": [
        "# 3 Ubah kategori angka menjadi label, kita gunakan map\n",
        "season_map = {1: 'Spring', 2: 'Summer', 3: 'Fall', 4: 'Winter'}\n",
        "weekday_map = {0: 'Sunday', 1: 'Monday', 2: 'Tuesday', 3: 'Wednesday', 4: 'Thursday', 5: 'Friday', 6: 'Saturday'}\n",
        "weathersit_map = {1: 'Clear', 2: 'Cloudy', 3: 'Light Rain/Snow', 4: 'Heavy Rain/Snow'}"
      ]
    },
    {
      "cell_type": "markdown",
      "metadata": {
        "id": "yXK21NCoPZ83"
      },
      "source": [
        "Pelabelannya sudah sesuai, kita gunakan bahasa inggris agar sesuai, selanjutnya kita aplikasikan ke kedua dataset"
      ]
    },
    {
      "cell_type": "code",
      "execution_count": 59,
      "metadata": {
        "colab": {
          "base_uri": "https://localhost:8080/"
        },
        "id": "_1_J3I53OLbp",
        "outputId": "a7c406be-1c50-4be7-9d1c-aff8aea6514a"
      },
      "outputs": [
        {
          "output_type": "execute_result",
          "data": {
            "text/plain": [
              "(   season    weekday weathersit\n",
              " 0  Spring   Saturday     Cloudy\n",
              " 1  Spring     Sunday     Cloudy\n",
              " 2  Spring     Monday      Clear\n",
              " 3  Spring    Tuesday      Clear\n",
              " 4  Spring  Wednesday      Clear,\n",
              "    season   weekday weathersit\n",
              " 0  Spring  Saturday      Clear\n",
              " 1  Spring  Saturday      Clear\n",
              " 2  Spring  Saturday      Clear\n",
              " 3  Spring  Saturday      Clear\n",
              " 4  Spring  Saturday      Clear)"
            ]
          },
          "metadata": {},
          "execution_count": 59
        }
      ],
      "source": [
        "df_day['season'] = df_day['season'].map(season_map)\n",
        "df_day['weekday'] = df_day['weekday'].map(weekday_map)\n",
        "df_day['weathersit'] = df_day['weathersit'].map(weathersit_map)\n",
        "\n",
        "df_hour['season'] = df_hour['season'].map(season_map)\n",
        "df_hour['weekday'] = df_hour['weekday'].map(weekday_map)\n",
        "df_hour['weathersit'] = df_hour['weathersit'].map(weathersit_map)\n",
        "\n",
        "df_day[['season', 'weekday', 'weathersit']].head(5), df_hour[['season', 'weekday', 'weathersit']].head(5)"
      ]
    },
    {
      "cell_type": "markdown",
      "metadata": {
        "id": "xZL8j_eBm_yK"
      },
      "source": [
        "Kolom kategorikal nya sudah lebih mudah di baca, terakhir kita akan mengecek kolom [Casual, Registered, Cnt]. Total [Casual + Registered] harus sesuai dengan jumlah [Cnt]"
      ]
    },
    {
      "cell_type": "code",
      "execution_count": 60,
      "metadata": {
        "id": "IBjJRTURSPpW"
      },
      "outputs": [],
      "source": [
        "# 5. Simpan penjumlahan casual + registered pada sebuah variabel\n",
        "df_day['cnt_check'] = df_day['casual'] + df_day['registered']\n",
        "df_hour['cnt_check'] = df_hour['casual'] + df_hour['registered']"
      ]
    },
    {
      "cell_type": "code",
      "execution_count": 61,
      "metadata": {
        "colab": {
          "base_uri": "https://localhost:8080/"
        },
        "id": "VSgCD6XQny1S",
        "outputId": "822f5ed1-b6b8-437e-8d1f-f11280b23aa3"
      },
      "outputs": [
        {
          "output_type": "execute_result",
          "data": {
            "text/plain": [
              "(0, 0)"
            ]
          },
          "metadata": {},
          "execution_count": 61
        }
      ],
      "source": [
        "# Cek apakah ada perbedaan miskalkulasi\n",
        "cnt_mismatch_day = (df_day['cnt'] != df_day['cnt_check']).sum()\n",
        "cnt_mismatch_hour = (df_hour['cnt'] != df_hour['cnt_check']).sum()\n",
        "cnt_mismatch_day, cnt_mismatch_hour"
      ]
    },
    {
      "cell_type": "markdown",
      "metadata": {
        "id": "Y6yctXR-oKR7"
      },
      "source": [
        "Tidak ada miskalkulasi pada total registered dan casual"
      ]
    },
    {
      "cell_type": "markdown",
      "metadata": {
        "id": "Q_5ejIqckiSP"
      },
      "source": [
        "**Insight:**\n",
        "- Format seluruh kolom telah sesuai\n",
        "- Data kategorikal lebih mudah di pahami karena sudah di pindah ke bentuk label\n",
        "- Tidak ada miskalkulasi pada kolom Cnt\n",
        "- Untuk kolom dengan nilai skala numerik (temp,hump dll)  tak perlu kita ubah, karena sudah di normalisasi dan bisa langsung di gunakan dengan mudah"
      ]
    },
    {
      "cell_type": "markdown",
      "metadata": {
        "id": "gp-Y6wU38DC1"
      },
      "source": [
        "## Exploratory Data Analysis (EDA)"
      ]
    },
    {
      "cell_type": "markdown",
      "metadata": {
        "id": "MW7WF2kr8DC1"
      },
      "source": [
        "### Explore Data cnt (Jumlah Penyewa)"
      ]
    },
    {
      "cell_type": "code",
      "source": [
        "df_hour[\"cnt\"].describe(), df_day[\"cnt\"].describe()"
      ],
      "metadata": {
        "colab": {
          "base_uri": "https://localhost:8080/"
        },
        "id": "Y8FNEwB7yDnn",
        "outputId": "8b698a99-daf9-4e93-9089-5b930cc8fd80"
      },
      "execution_count": 62,
      "outputs": [
        {
          "output_type": "execute_result",
          "data": {
            "text/plain": [
              "(count    17379.000000\n",
              " mean       189.463088\n",
              " std        181.387599\n",
              " min          1.000000\n",
              " 25%         40.000000\n",
              " 50%        142.000000\n",
              " 75%        281.000000\n",
              " max        977.000000\n",
              " Name: cnt, dtype: float64,\n",
              " count     731.000000\n",
              " mean     4504.348837\n",
              " std      1937.211452\n",
              " min        22.000000\n",
              " 25%      3152.000000\n",
              " 50%      4548.000000\n",
              " 75%      5956.000000\n",
              " max      8714.000000\n",
              " Name: cnt, dtype: float64)"
            ]
          },
          "metadata": {},
          "execution_count": 62
        }
      ]
    },
    {
      "cell_type": "markdown",
      "source": [
        "Rata-rata penyewaan adalah 4504 perhari, atau 189 perjam. Saya ingin mengetahui top 5 tanggal dengan penyewaan tertinggi"
      ],
      "metadata": {
        "id": "Rgc-UppSzIYA"
      }
    },
    {
      "cell_type": "code",
      "source": [
        "df_day.groupby(by=\"dteday\").agg({\n",
        "    \"cnt\": \"sum\"\n",
        "}).reset_index().sort_values(by=\"cnt\", ascending=False).head(5)"
      ],
      "metadata": {
        "colab": {
          "base_uri": "https://localhost:8080/",
          "height": 206
        },
        "id": "x7gqBLmf0_vt",
        "outputId": "ea759dba-892a-4ab5-b11e-2bbeb8da2064"
      },
      "execution_count": 63,
      "outputs": [
        {
          "output_type": "execute_result",
          "data": {
            "text/plain": [
              "        dteday   cnt\n",
              "623 2012-09-15  8714\n",
              "637 2012-09-29  8555\n",
              "630 2012-09-22  8395\n",
              "447 2012-03-23  8362\n",
              "504 2012-05-19  8294"
            ],
            "text/html": [
              "\n",
              "  <div id=\"df-8d03118d-5bd9-4795-8d7b-c41bcaa6756a\" class=\"colab-df-container\">\n",
              "    <div>\n",
              "<style scoped>\n",
              "    .dataframe tbody tr th:only-of-type {\n",
              "        vertical-align: middle;\n",
              "    }\n",
              "\n",
              "    .dataframe tbody tr th {\n",
              "        vertical-align: top;\n",
              "    }\n",
              "\n",
              "    .dataframe thead th {\n",
              "        text-align: right;\n",
              "    }\n",
              "</style>\n",
              "<table border=\"1\" class=\"dataframe\">\n",
              "  <thead>\n",
              "    <tr style=\"text-align: right;\">\n",
              "      <th></th>\n",
              "      <th>dteday</th>\n",
              "      <th>cnt</th>\n",
              "    </tr>\n",
              "  </thead>\n",
              "  <tbody>\n",
              "    <tr>\n",
              "      <th>623</th>\n",
              "      <td>2012-09-15</td>\n",
              "      <td>8714</td>\n",
              "    </tr>\n",
              "    <tr>\n",
              "      <th>637</th>\n",
              "      <td>2012-09-29</td>\n",
              "      <td>8555</td>\n",
              "    </tr>\n",
              "    <tr>\n",
              "      <th>630</th>\n",
              "      <td>2012-09-22</td>\n",
              "      <td>8395</td>\n",
              "    </tr>\n",
              "    <tr>\n",
              "      <th>447</th>\n",
              "      <td>2012-03-23</td>\n",
              "      <td>8362</td>\n",
              "    </tr>\n",
              "    <tr>\n",
              "      <th>504</th>\n",
              "      <td>2012-05-19</td>\n",
              "      <td>8294</td>\n",
              "    </tr>\n",
              "  </tbody>\n",
              "</table>\n",
              "</div>\n",
              "    <div class=\"colab-df-buttons\">\n",
              "\n",
              "  <div class=\"colab-df-container\">\n",
              "    <button class=\"colab-df-convert\" onclick=\"convertToInteractive('df-8d03118d-5bd9-4795-8d7b-c41bcaa6756a')\"\n",
              "            title=\"Convert this dataframe to an interactive table.\"\n",
              "            style=\"display:none;\">\n",
              "\n",
              "  <svg xmlns=\"http://www.w3.org/2000/svg\" height=\"24px\" viewBox=\"0 -960 960 960\">\n",
              "    <path d=\"M120-120v-720h720v720H120Zm60-500h600v-160H180v160Zm220 220h160v-160H400v160Zm0 220h160v-160H400v160ZM180-400h160v-160H180v160Zm440 0h160v-160H620v160ZM180-180h160v-160H180v160Zm440 0h160v-160H620v160Z\"/>\n",
              "  </svg>\n",
              "    </button>\n",
              "\n",
              "  <style>\n",
              "    .colab-df-container {\n",
              "      display:flex;\n",
              "      gap: 12px;\n",
              "    }\n",
              "\n",
              "    .colab-df-convert {\n",
              "      background-color: #E8F0FE;\n",
              "      border: none;\n",
              "      border-radius: 50%;\n",
              "      cursor: pointer;\n",
              "      display: none;\n",
              "      fill: #1967D2;\n",
              "      height: 32px;\n",
              "      padding: 0 0 0 0;\n",
              "      width: 32px;\n",
              "    }\n",
              "\n",
              "    .colab-df-convert:hover {\n",
              "      background-color: #E2EBFA;\n",
              "      box-shadow: 0px 1px 2px rgba(60, 64, 67, 0.3), 0px 1px 3px 1px rgba(60, 64, 67, 0.15);\n",
              "      fill: #174EA6;\n",
              "    }\n",
              "\n",
              "    .colab-df-buttons div {\n",
              "      margin-bottom: 4px;\n",
              "    }\n",
              "\n",
              "    [theme=dark] .colab-df-convert {\n",
              "      background-color: #3B4455;\n",
              "      fill: #D2E3FC;\n",
              "    }\n",
              "\n",
              "    [theme=dark] .colab-df-convert:hover {\n",
              "      background-color: #434B5C;\n",
              "      box-shadow: 0px 1px 3px 1px rgba(0, 0, 0, 0.15);\n",
              "      filter: drop-shadow(0px 1px 2px rgba(0, 0, 0, 0.3));\n",
              "      fill: #FFFFFF;\n",
              "    }\n",
              "  </style>\n",
              "\n",
              "    <script>\n",
              "      const buttonEl =\n",
              "        document.querySelector('#df-8d03118d-5bd9-4795-8d7b-c41bcaa6756a button.colab-df-convert');\n",
              "      buttonEl.style.display =\n",
              "        google.colab.kernel.accessAllowed ? 'block' : 'none';\n",
              "\n",
              "      async function convertToInteractive(key) {\n",
              "        const element = document.querySelector('#df-8d03118d-5bd9-4795-8d7b-c41bcaa6756a');\n",
              "        const dataTable =\n",
              "          await google.colab.kernel.invokeFunction('convertToInteractive',\n",
              "                                                    [key], {});\n",
              "        if (!dataTable) return;\n",
              "\n",
              "        const docLinkHtml = 'Like what you see? Visit the ' +\n",
              "          '<a target=\"_blank\" href=https://colab.research.google.com/notebooks/data_table.ipynb>data table notebook</a>'\n",
              "          + ' to learn more about interactive tables.';\n",
              "        element.innerHTML = '';\n",
              "        dataTable['output_type'] = 'display_data';\n",
              "        await google.colab.output.renderOutput(dataTable, element);\n",
              "        const docLink = document.createElement('div');\n",
              "        docLink.innerHTML = docLinkHtml;\n",
              "        element.appendChild(docLink);\n",
              "      }\n",
              "    </script>\n",
              "  </div>\n",
              "\n",
              "\n",
              "<div id=\"df-363ff771-6b98-48d6-9618-4c6bfc6c8d24\">\n",
              "  <button class=\"colab-df-quickchart\" onclick=\"quickchart('df-363ff771-6b98-48d6-9618-4c6bfc6c8d24')\"\n",
              "            title=\"Suggest charts\"\n",
              "            style=\"display:none;\">\n",
              "\n",
              "<svg xmlns=\"http://www.w3.org/2000/svg\" height=\"24px\"viewBox=\"0 0 24 24\"\n",
              "     width=\"24px\">\n",
              "    <g>\n",
              "        <path d=\"M19 3H5c-1.1 0-2 .9-2 2v14c0 1.1.9 2 2 2h14c1.1 0 2-.9 2-2V5c0-1.1-.9-2-2-2zM9 17H7v-7h2v7zm4 0h-2V7h2v10zm4 0h-2v-4h2v4z\"/>\n",
              "    </g>\n",
              "</svg>\n",
              "  </button>\n",
              "\n",
              "<style>\n",
              "  .colab-df-quickchart {\n",
              "      --bg-color: #E8F0FE;\n",
              "      --fill-color: #1967D2;\n",
              "      --hover-bg-color: #E2EBFA;\n",
              "      --hover-fill-color: #174EA6;\n",
              "      --disabled-fill-color: #AAA;\n",
              "      --disabled-bg-color: #DDD;\n",
              "  }\n",
              "\n",
              "  [theme=dark] .colab-df-quickchart {\n",
              "      --bg-color: #3B4455;\n",
              "      --fill-color: #D2E3FC;\n",
              "      --hover-bg-color: #434B5C;\n",
              "      --hover-fill-color: #FFFFFF;\n",
              "      --disabled-bg-color: #3B4455;\n",
              "      --disabled-fill-color: #666;\n",
              "  }\n",
              "\n",
              "  .colab-df-quickchart {\n",
              "    background-color: var(--bg-color);\n",
              "    border: none;\n",
              "    border-radius: 50%;\n",
              "    cursor: pointer;\n",
              "    display: none;\n",
              "    fill: var(--fill-color);\n",
              "    height: 32px;\n",
              "    padding: 0;\n",
              "    width: 32px;\n",
              "  }\n",
              "\n",
              "  .colab-df-quickchart:hover {\n",
              "    background-color: var(--hover-bg-color);\n",
              "    box-shadow: 0 1px 2px rgba(60, 64, 67, 0.3), 0 1px 3px 1px rgba(60, 64, 67, 0.15);\n",
              "    fill: var(--button-hover-fill-color);\n",
              "  }\n",
              "\n",
              "  .colab-df-quickchart-complete:disabled,\n",
              "  .colab-df-quickchart-complete:disabled:hover {\n",
              "    background-color: var(--disabled-bg-color);\n",
              "    fill: var(--disabled-fill-color);\n",
              "    box-shadow: none;\n",
              "  }\n",
              "\n",
              "  .colab-df-spinner {\n",
              "    border: 2px solid var(--fill-color);\n",
              "    border-color: transparent;\n",
              "    border-bottom-color: var(--fill-color);\n",
              "    animation:\n",
              "      spin 1s steps(1) infinite;\n",
              "  }\n",
              "\n",
              "  @keyframes spin {\n",
              "    0% {\n",
              "      border-color: transparent;\n",
              "      border-bottom-color: var(--fill-color);\n",
              "      border-left-color: var(--fill-color);\n",
              "    }\n",
              "    20% {\n",
              "      border-color: transparent;\n",
              "      border-left-color: var(--fill-color);\n",
              "      border-top-color: var(--fill-color);\n",
              "    }\n",
              "    30% {\n",
              "      border-color: transparent;\n",
              "      border-left-color: var(--fill-color);\n",
              "      border-top-color: var(--fill-color);\n",
              "      border-right-color: var(--fill-color);\n",
              "    }\n",
              "    40% {\n",
              "      border-color: transparent;\n",
              "      border-right-color: var(--fill-color);\n",
              "      border-top-color: var(--fill-color);\n",
              "    }\n",
              "    60% {\n",
              "      border-color: transparent;\n",
              "      border-right-color: var(--fill-color);\n",
              "    }\n",
              "    80% {\n",
              "      border-color: transparent;\n",
              "      border-right-color: var(--fill-color);\n",
              "      border-bottom-color: var(--fill-color);\n",
              "    }\n",
              "    90% {\n",
              "      border-color: transparent;\n",
              "      border-bottom-color: var(--fill-color);\n",
              "    }\n",
              "  }\n",
              "</style>\n",
              "\n",
              "  <script>\n",
              "    async function quickchart(key) {\n",
              "      const quickchartButtonEl =\n",
              "        document.querySelector('#' + key + ' button');\n",
              "      quickchartButtonEl.disabled = true;  // To prevent multiple clicks.\n",
              "      quickchartButtonEl.classList.add('colab-df-spinner');\n",
              "      try {\n",
              "        const charts = await google.colab.kernel.invokeFunction(\n",
              "            'suggestCharts', [key], {});\n",
              "      } catch (error) {\n",
              "        console.error('Error during call to suggestCharts:', error);\n",
              "      }\n",
              "      quickchartButtonEl.classList.remove('colab-df-spinner');\n",
              "      quickchartButtonEl.classList.add('colab-df-quickchart-complete');\n",
              "    }\n",
              "    (() => {\n",
              "      let quickchartButtonEl =\n",
              "        document.querySelector('#df-363ff771-6b98-48d6-9618-4c6bfc6c8d24 button');\n",
              "      quickchartButtonEl.style.display =\n",
              "        google.colab.kernel.accessAllowed ? 'block' : 'none';\n",
              "    })();\n",
              "  </script>\n",
              "</div>\n",
              "\n",
              "    </div>\n",
              "  </div>\n"
            ],
            "application/vnd.google.colaboratory.intrinsic+json": {
              "type": "dataframe",
              "summary": "{\n  \"name\": \"})\",\n  \"rows\": 5,\n  \"fields\": [\n    {\n      \"column\": \"dteday\",\n      \"properties\": {\n        \"dtype\": \"date\",\n        \"min\": \"2012-03-23 00:00:00\",\n        \"max\": \"2012-09-29 00:00:00\",\n        \"num_unique_values\": 5,\n        \"samples\": [\n          \"2012-09-29 00:00:00\",\n          \"2012-05-19 00:00:00\",\n          \"2012-09-22 00:00:00\"\n        ],\n        \"semantic_type\": \"\",\n        \"description\": \"\"\n      }\n    },\n    {\n      \"column\": \"cnt\",\n      \"properties\": {\n        \"dtype\": \"number\",\n        \"std\": 169,\n        \"min\": 8294,\n        \"max\": 8714,\n        \"num_unique_values\": 5,\n        \"samples\": [\n          8555,\n          8294,\n          8395\n        ],\n        \"semantic_type\": \"\",\n        \"description\": \"\"\n      }\n    }\n  ]\n}"
            }
          },
          "metadata": {},
          "execution_count": 63
        }
      ]
    },
    {
      "cell_type": "markdown",
      "source": [
        "Top 3 hari dengan penyewaan tertinggi di september 2012, sekarang coba kita lihat bottom 5 tanggal dengan penyewaan yang paling rendah"
      ],
      "metadata": {
        "id": "UKO3q2QL29L_"
      }
    },
    {
      "cell_type": "code",
      "source": [
        "df_day.groupby(by=\"dteday\").agg({\n",
        "    \"cnt\": \"sum\"\n",
        "}).reset_index().sort_values(by=\"cnt\", ascending=False).tail(5)"
      ],
      "metadata": {
        "colab": {
          "base_uri": "https://localhost:8080/",
          "height": 206
        },
        "id": "vy06eoze3T0f",
        "outputId": "70158c1b-7f6d-4fd0-f9f8-f211b4753d4d"
      },
      "execution_count": 64,
      "outputs": [
        {
          "output_type": "execute_result",
          "data": {
            "text/plain": [
              "        dteday  cnt\n",
              "64  2011-03-06  605\n",
              "25  2011-01-26  506\n",
              "725 2012-12-26  441\n",
              "26  2011-01-27  431\n",
              "667 2012-10-29   22"
            ],
            "text/html": [
              "\n",
              "  <div id=\"df-37da373f-f8da-4d57-a2f9-84da162ba2c7\" class=\"colab-df-container\">\n",
              "    <div>\n",
              "<style scoped>\n",
              "    .dataframe tbody tr th:only-of-type {\n",
              "        vertical-align: middle;\n",
              "    }\n",
              "\n",
              "    .dataframe tbody tr th {\n",
              "        vertical-align: top;\n",
              "    }\n",
              "\n",
              "    .dataframe thead th {\n",
              "        text-align: right;\n",
              "    }\n",
              "</style>\n",
              "<table border=\"1\" class=\"dataframe\">\n",
              "  <thead>\n",
              "    <tr style=\"text-align: right;\">\n",
              "      <th></th>\n",
              "      <th>dteday</th>\n",
              "      <th>cnt</th>\n",
              "    </tr>\n",
              "  </thead>\n",
              "  <tbody>\n",
              "    <tr>\n",
              "      <th>64</th>\n",
              "      <td>2011-03-06</td>\n",
              "      <td>605</td>\n",
              "    </tr>\n",
              "    <tr>\n",
              "      <th>25</th>\n",
              "      <td>2011-01-26</td>\n",
              "      <td>506</td>\n",
              "    </tr>\n",
              "    <tr>\n",
              "      <th>725</th>\n",
              "      <td>2012-12-26</td>\n",
              "      <td>441</td>\n",
              "    </tr>\n",
              "    <tr>\n",
              "      <th>26</th>\n",
              "      <td>2011-01-27</td>\n",
              "      <td>431</td>\n",
              "    </tr>\n",
              "    <tr>\n",
              "      <th>667</th>\n",
              "      <td>2012-10-29</td>\n",
              "      <td>22</td>\n",
              "    </tr>\n",
              "  </tbody>\n",
              "</table>\n",
              "</div>\n",
              "    <div class=\"colab-df-buttons\">\n",
              "\n",
              "  <div class=\"colab-df-container\">\n",
              "    <button class=\"colab-df-convert\" onclick=\"convertToInteractive('df-37da373f-f8da-4d57-a2f9-84da162ba2c7')\"\n",
              "            title=\"Convert this dataframe to an interactive table.\"\n",
              "            style=\"display:none;\">\n",
              "\n",
              "  <svg xmlns=\"http://www.w3.org/2000/svg\" height=\"24px\" viewBox=\"0 -960 960 960\">\n",
              "    <path d=\"M120-120v-720h720v720H120Zm60-500h600v-160H180v160Zm220 220h160v-160H400v160Zm0 220h160v-160H400v160ZM180-400h160v-160H180v160Zm440 0h160v-160H620v160ZM180-180h160v-160H180v160Zm440 0h160v-160H620v160Z\"/>\n",
              "  </svg>\n",
              "    </button>\n",
              "\n",
              "  <style>\n",
              "    .colab-df-container {\n",
              "      display:flex;\n",
              "      gap: 12px;\n",
              "    }\n",
              "\n",
              "    .colab-df-convert {\n",
              "      background-color: #E8F0FE;\n",
              "      border: none;\n",
              "      border-radius: 50%;\n",
              "      cursor: pointer;\n",
              "      display: none;\n",
              "      fill: #1967D2;\n",
              "      height: 32px;\n",
              "      padding: 0 0 0 0;\n",
              "      width: 32px;\n",
              "    }\n",
              "\n",
              "    .colab-df-convert:hover {\n",
              "      background-color: #E2EBFA;\n",
              "      box-shadow: 0px 1px 2px rgba(60, 64, 67, 0.3), 0px 1px 3px 1px rgba(60, 64, 67, 0.15);\n",
              "      fill: #174EA6;\n",
              "    }\n",
              "\n",
              "    .colab-df-buttons div {\n",
              "      margin-bottom: 4px;\n",
              "    }\n",
              "\n",
              "    [theme=dark] .colab-df-convert {\n",
              "      background-color: #3B4455;\n",
              "      fill: #D2E3FC;\n",
              "    }\n",
              "\n",
              "    [theme=dark] .colab-df-convert:hover {\n",
              "      background-color: #434B5C;\n",
              "      box-shadow: 0px 1px 3px 1px rgba(0, 0, 0, 0.15);\n",
              "      filter: drop-shadow(0px 1px 2px rgba(0, 0, 0, 0.3));\n",
              "      fill: #FFFFFF;\n",
              "    }\n",
              "  </style>\n",
              "\n",
              "    <script>\n",
              "      const buttonEl =\n",
              "        document.querySelector('#df-37da373f-f8da-4d57-a2f9-84da162ba2c7 button.colab-df-convert');\n",
              "      buttonEl.style.display =\n",
              "        google.colab.kernel.accessAllowed ? 'block' : 'none';\n",
              "\n",
              "      async function convertToInteractive(key) {\n",
              "        const element = document.querySelector('#df-37da373f-f8da-4d57-a2f9-84da162ba2c7');\n",
              "        const dataTable =\n",
              "          await google.colab.kernel.invokeFunction('convertToInteractive',\n",
              "                                                    [key], {});\n",
              "        if (!dataTable) return;\n",
              "\n",
              "        const docLinkHtml = 'Like what you see? Visit the ' +\n",
              "          '<a target=\"_blank\" href=https://colab.research.google.com/notebooks/data_table.ipynb>data table notebook</a>'\n",
              "          + ' to learn more about interactive tables.';\n",
              "        element.innerHTML = '';\n",
              "        dataTable['output_type'] = 'display_data';\n",
              "        await google.colab.output.renderOutput(dataTable, element);\n",
              "        const docLink = document.createElement('div');\n",
              "        docLink.innerHTML = docLinkHtml;\n",
              "        element.appendChild(docLink);\n",
              "      }\n",
              "    </script>\n",
              "  </div>\n",
              "\n",
              "\n",
              "<div id=\"df-4c905dd2-488f-426d-a148-7e1277efb7f1\">\n",
              "  <button class=\"colab-df-quickchart\" onclick=\"quickchart('df-4c905dd2-488f-426d-a148-7e1277efb7f1')\"\n",
              "            title=\"Suggest charts\"\n",
              "            style=\"display:none;\">\n",
              "\n",
              "<svg xmlns=\"http://www.w3.org/2000/svg\" height=\"24px\"viewBox=\"0 0 24 24\"\n",
              "     width=\"24px\">\n",
              "    <g>\n",
              "        <path d=\"M19 3H5c-1.1 0-2 .9-2 2v14c0 1.1.9 2 2 2h14c1.1 0 2-.9 2-2V5c0-1.1-.9-2-2-2zM9 17H7v-7h2v7zm4 0h-2V7h2v10zm4 0h-2v-4h2v4z\"/>\n",
              "    </g>\n",
              "</svg>\n",
              "  </button>\n",
              "\n",
              "<style>\n",
              "  .colab-df-quickchart {\n",
              "      --bg-color: #E8F0FE;\n",
              "      --fill-color: #1967D2;\n",
              "      --hover-bg-color: #E2EBFA;\n",
              "      --hover-fill-color: #174EA6;\n",
              "      --disabled-fill-color: #AAA;\n",
              "      --disabled-bg-color: #DDD;\n",
              "  }\n",
              "\n",
              "  [theme=dark] .colab-df-quickchart {\n",
              "      --bg-color: #3B4455;\n",
              "      --fill-color: #D2E3FC;\n",
              "      --hover-bg-color: #434B5C;\n",
              "      --hover-fill-color: #FFFFFF;\n",
              "      --disabled-bg-color: #3B4455;\n",
              "      --disabled-fill-color: #666;\n",
              "  }\n",
              "\n",
              "  .colab-df-quickchart {\n",
              "    background-color: var(--bg-color);\n",
              "    border: none;\n",
              "    border-radius: 50%;\n",
              "    cursor: pointer;\n",
              "    display: none;\n",
              "    fill: var(--fill-color);\n",
              "    height: 32px;\n",
              "    padding: 0;\n",
              "    width: 32px;\n",
              "  }\n",
              "\n",
              "  .colab-df-quickchart:hover {\n",
              "    background-color: var(--hover-bg-color);\n",
              "    box-shadow: 0 1px 2px rgba(60, 64, 67, 0.3), 0 1px 3px 1px rgba(60, 64, 67, 0.15);\n",
              "    fill: var(--button-hover-fill-color);\n",
              "  }\n",
              "\n",
              "  .colab-df-quickchart-complete:disabled,\n",
              "  .colab-df-quickchart-complete:disabled:hover {\n",
              "    background-color: var(--disabled-bg-color);\n",
              "    fill: var(--disabled-fill-color);\n",
              "    box-shadow: none;\n",
              "  }\n",
              "\n",
              "  .colab-df-spinner {\n",
              "    border: 2px solid var(--fill-color);\n",
              "    border-color: transparent;\n",
              "    border-bottom-color: var(--fill-color);\n",
              "    animation:\n",
              "      spin 1s steps(1) infinite;\n",
              "  }\n",
              "\n",
              "  @keyframes spin {\n",
              "    0% {\n",
              "      border-color: transparent;\n",
              "      border-bottom-color: var(--fill-color);\n",
              "      border-left-color: var(--fill-color);\n",
              "    }\n",
              "    20% {\n",
              "      border-color: transparent;\n",
              "      border-left-color: var(--fill-color);\n",
              "      border-top-color: var(--fill-color);\n",
              "    }\n",
              "    30% {\n",
              "      border-color: transparent;\n",
              "      border-left-color: var(--fill-color);\n",
              "      border-top-color: var(--fill-color);\n",
              "      border-right-color: var(--fill-color);\n",
              "    }\n",
              "    40% {\n",
              "      border-color: transparent;\n",
              "      border-right-color: var(--fill-color);\n",
              "      border-top-color: var(--fill-color);\n",
              "    }\n",
              "    60% {\n",
              "      border-color: transparent;\n",
              "      border-right-color: var(--fill-color);\n",
              "    }\n",
              "    80% {\n",
              "      border-color: transparent;\n",
              "      border-right-color: var(--fill-color);\n",
              "      border-bottom-color: var(--fill-color);\n",
              "    }\n",
              "    90% {\n",
              "      border-color: transparent;\n",
              "      border-bottom-color: var(--fill-color);\n",
              "    }\n",
              "  }\n",
              "</style>\n",
              "\n",
              "  <script>\n",
              "    async function quickchart(key) {\n",
              "      const quickchartButtonEl =\n",
              "        document.querySelector('#' + key + ' button');\n",
              "      quickchartButtonEl.disabled = true;  // To prevent multiple clicks.\n",
              "      quickchartButtonEl.classList.add('colab-df-spinner');\n",
              "      try {\n",
              "        const charts = await google.colab.kernel.invokeFunction(\n",
              "            'suggestCharts', [key], {});\n",
              "      } catch (error) {\n",
              "        console.error('Error during call to suggestCharts:', error);\n",
              "      }\n",
              "      quickchartButtonEl.classList.remove('colab-df-spinner');\n",
              "      quickchartButtonEl.classList.add('colab-df-quickchart-complete');\n",
              "    }\n",
              "    (() => {\n",
              "      let quickchartButtonEl =\n",
              "        document.querySelector('#df-4c905dd2-488f-426d-a148-7e1277efb7f1 button');\n",
              "      quickchartButtonEl.style.display =\n",
              "        google.colab.kernel.accessAllowed ? 'block' : 'none';\n",
              "    })();\n",
              "  </script>\n",
              "</div>\n",
              "\n",
              "    </div>\n",
              "  </div>\n"
            ],
            "application/vnd.google.colaboratory.intrinsic+json": {
              "type": "dataframe",
              "summary": "{\n  \"name\": \"})\",\n  \"rows\": 5,\n  \"fields\": [\n    {\n      \"column\": \"dteday\",\n      \"properties\": {\n        \"dtype\": \"date\",\n        \"min\": \"2011-01-26 00:00:00\",\n        \"max\": \"2012-12-26 00:00:00\",\n        \"num_unique_values\": 5,\n        \"samples\": [\n          \"2011-01-26 00:00:00\",\n          \"2012-10-29 00:00:00\",\n          \"2012-12-26 00:00:00\"\n        ],\n        \"semantic_type\": \"\",\n        \"description\": \"\"\n      }\n    },\n    {\n      \"column\": \"cnt\",\n      \"properties\": {\n        \"dtype\": \"number\",\n        \"std\": 222,\n        \"min\": 22,\n        \"max\": 605,\n        \"num_unique_values\": 5,\n        \"samples\": [\n          506,\n          22,\n          441\n        ],\n        \"semantic_type\": \"\",\n        \"description\": \"\"\n      }\n    }\n  ]\n}"
            }
          },
          "metadata": {},
          "execution_count": 64
        }
      ]
    },
    {
      "cell_type": "markdown",
      "source": [
        "Ada kejomplangan yang tinggi dari bottom 2, jaraknya anya lumayan tinggi, coba kita cek"
      ],
      "metadata": {
        "id": "_LOwpG9e3SzO"
      }
    },
    {
      "cell_type": "code",
      "source": [
        "df_day.loc[df_day[\"cnt\"].idxmin()]"
      ],
      "metadata": {
        "colab": {
          "base_uri": "https://localhost:8080/",
          "height": 617
        },
        "id": "QZ-cW0z73sej",
        "outputId": "7783c162-7863-4fd9-cf7a-7438d14f268f"
      },
      "execution_count": 65,
      "outputs": [
        {
          "output_type": "execute_result",
          "data": {
            "text/plain": [
              "instant                       668\n",
              "dteday        2012-10-29 00:00:00\n",
              "season                     Winter\n",
              "yr                           2012\n",
              "mnth                           10\n",
              "holiday                         0\n",
              "weekday                    Monday\n",
              "workingday                      1\n",
              "weathersit        Light Rain/Snow\n",
              "temp                         0.44\n",
              "atemp                      0.4394\n",
              "hum                          0.88\n",
              "windspeed                  0.3582\n",
              "casual                          2\n",
              "registered                     20\n",
              "cnt                            22\n",
              "cnt_check                      22\n",
              "Name: 667, dtype: object"
            ],
            "text/html": [
              "<div>\n",
              "<style scoped>\n",
              "    .dataframe tbody tr th:only-of-type {\n",
              "        vertical-align: middle;\n",
              "    }\n",
              "\n",
              "    .dataframe tbody tr th {\n",
              "        vertical-align: top;\n",
              "    }\n",
              "\n",
              "    .dataframe thead th {\n",
              "        text-align: right;\n",
              "    }\n",
              "</style>\n",
              "<table border=\"1\" class=\"dataframe\">\n",
              "  <thead>\n",
              "    <tr style=\"text-align: right;\">\n",
              "      <th></th>\n",
              "      <th>667</th>\n",
              "    </tr>\n",
              "  </thead>\n",
              "  <tbody>\n",
              "    <tr>\n",
              "      <th>instant</th>\n",
              "      <td>668</td>\n",
              "    </tr>\n",
              "    <tr>\n",
              "      <th>dteday</th>\n",
              "      <td>2012-10-29 00:00:00</td>\n",
              "    </tr>\n",
              "    <tr>\n",
              "      <th>season</th>\n",
              "      <td>Winter</td>\n",
              "    </tr>\n",
              "    <tr>\n",
              "      <th>yr</th>\n",
              "      <td>2012</td>\n",
              "    </tr>\n",
              "    <tr>\n",
              "      <th>mnth</th>\n",
              "      <td>10</td>\n",
              "    </tr>\n",
              "    <tr>\n",
              "      <th>holiday</th>\n",
              "      <td>0</td>\n",
              "    </tr>\n",
              "    <tr>\n",
              "      <th>weekday</th>\n",
              "      <td>Monday</td>\n",
              "    </tr>\n",
              "    <tr>\n",
              "      <th>workingday</th>\n",
              "      <td>1</td>\n",
              "    </tr>\n",
              "    <tr>\n",
              "      <th>weathersit</th>\n",
              "      <td>Light Rain/Snow</td>\n",
              "    </tr>\n",
              "    <tr>\n",
              "      <th>temp</th>\n",
              "      <td>0.44</td>\n",
              "    </tr>\n",
              "    <tr>\n",
              "      <th>atemp</th>\n",
              "      <td>0.4394</td>\n",
              "    </tr>\n",
              "    <tr>\n",
              "      <th>hum</th>\n",
              "      <td>0.88</td>\n",
              "    </tr>\n",
              "    <tr>\n",
              "      <th>windspeed</th>\n",
              "      <td>0.3582</td>\n",
              "    </tr>\n",
              "    <tr>\n",
              "      <th>casual</th>\n",
              "      <td>2</td>\n",
              "    </tr>\n",
              "    <tr>\n",
              "      <th>registered</th>\n",
              "      <td>20</td>\n",
              "    </tr>\n",
              "    <tr>\n",
              "      <th>cnt</th>\n",
              "      <td>22</td>\n",
              "    </tr>\n",
              "    <tr>\n",
              "      <th>cnt_check</th>\n",
              "      <td>22</td>\n",
              "    </tr>\n",
              "  </tbody>\n",
              "</table>\n",
              "</div><br><label><b>dtype:</b> object</label>"
            ]
          },
          "metadata": {},
          "execution_count": 65
        }
      ]
    },
    {
      "cell_type": "markdown",
      "metadata": {
        "id": "ULCnM4jivnBH"
      },
      "source": [
        "### Explore Data workingday (hari kerja / libur)"
      ]
    },
    {
      "cell_type": "code",
      "source": [
        "df_hour.groupby(\"workingday\")[\"cnt\"].mean()"
      ],
      "metadata": {
        "colab": {
          "base_uri": "https://localhost:8080/",
          "height": 178
        },
        "id": "kVtrOQygvh0r",
        "outputId": "71930c2a-57fe-418d-f4cb-cd775ff9334c"
      },
      "execution_count": 66,
      "outputs": [
        {
          "output_type": "execute_result",
          "data": {
            "text/plain": [
              "workingday\n",
              "0    181.405332\n",
              "1    193.207754\n",
              "Name: cnt, dtype: float64"
            ],
            "text/html": [
              "<div>\n",
              "<style scoped>\n",
              "    .dataframe tbody tr th:only-of-type {\n",
              "        vertical-align: middle;\n",
              "    }\n",
              "\n",
              "    .dataframe tbody tr th {\n",
              "        vertical-align: top;\n",
              "    }\n",
              "\n",
              "    .dataframe thead th {\n",
              "        text-align: right;\n",
              "    }\n",
              "</style>\n",
              "<table border=\"1\" class=\"dataframe\">\n",
              "  <thead>\n",
              "    <tr style=\"text-align: right;\">\n",
              "      <th></th>\n",
              "      <th>cnt</th>\n",
              "    </tr>\n",
              "    <tr>\n",
              "      <th>workingday</th>\n",
              "      <th></th>\n",
              "    </tr>\n",
              "  </thead>\n",
              "  <tbody>\n",
              "    <tr>\n",
              "      <th>0</th>\n",
              "      <td>181.405332</td>\n",
              "    </tr>\n",
              "    <tr>\n",
              "      <th>1</th>\n",
              "      <td>193.207754</td>\n",
              "    </tr>\n",
              "  </tbody>\n",
              "</table>\n",
              "</div><br><label><b>dtype:</b> float64</label>"
            ]
          },
          "metadata": {},
          "execution_count": 66
        }
      ]
    },
    {
      "cell_type": "markdown",
      "source": [
        "Rata-rata penyewaan di hari kerja lebih tinggi, kita beralih ke lain"
      ],
      "metadata": {
        "id": "D5DDn4Fd5vG3"
      }
    },
    {
      "cell_type": "markdown",
      "metadata": {
        "id": "QzGT-cvM5Sou"
      },
      "source": [
        "### Explore data mnth (penyewaan perbulan)"
      ]
    },
    {
      "cell_type": "code",
      "source": [
        "df_day.groupby(\"mnth\")[\"cnt\"].mean().sort_values(ascending=False).reset_index()"
      ],
      "metadata": {
        "colab": {
          "base_uri": "https://localhost:8080/",
          "height": 426
        },
        "id": "nBcBYiTT6jD0",
        "outputId": "59d01740-e334-4ee2-a1e7-536493060274"
      },
      "execution_count": 79,
      "outputs": [
        {
          "output_type": "execute_result",
          "data": {
            "text/plain": [
              "    mnth          cnt\n",
              "0      6  5772.366667\n",
              "1      9  5766.516667\n",
              "2      8  5664.419355\n",
              "3      7  5563.677419\n",
              "4      5  5349.774194\n",
              "5     10  5199.225806\n",
              "6      4  4484.900000\n",
              "7     11  4247.183333\n",
              "8      3  3692.258065\n",
              "9     12  3403.806452\n",
              "10     2  2655.298246\n",
              "11     1  2176.338710"
            ],
            "text/html": [
              "\n",
              "  <div id=\"df-8004009d-492b-4f35-be15-d8b341bb4a2f\" class=\"colab-df-container\">\n",
              "    <div>\n",
              "<style scoped>\n",
              "    .dataframe tbody tr th:only-of-type {\n",
              "        vertical-align: middle;\n",
              "    }\n",
              "\n",
              "    .dataframe tbody tr th {\n",
              "        vertical-align: top;\n",
              "    }\n",
              "\n",
              "    .dataframe thead th {\n",
              "        text-align: right;\n",
              "    }\n",
              "</style>\n",
              "<table border=\"1\" class=\"dataframe\">\n",
              "  <thead>\n",
              "    <tr style=\"text-align: right;\">\n",
              "      <th></th>\n",
              "      <th>mnth</th>\n",
              "      <th>cnt</th>\n",
              "    </tr>\n",
              "  </thead>\n",
              "  <tbody>\n",
              "    <tr>\n",
              "      <th>0</th>\n",
              "      <td>6</td>\n",
              "      <td>5772.366667</td>\n",
              "    </tr>\n",
              "    <tr>\n",
              "      <th>1</th>\n",
              "      <td>9</td>\n",
              "      <td>5766.516667</td>\n",
              "    </tr>\n",
              "    <tr>\n",
              "      <th>2</th>\n",
              "      <td>8</td>\n",
              "      <td>5664.419355</td>\n",
              "    </tr>\n",
              "    <tr>\n",
              "      <th>3</th>\n",
              "      <td>7</td>\n",
              "      <td>5563.677419</td>\n",
              "    </tr>\n",
              "    <tr>\n",
              "      <th>4</th>\n",
              "      <td>5</td>\n",
              "      <td>5349.774194</td>\n",
              "    </tr>\n",
              "    <tr>\n",
              "      <th>5</th>\n",
              "      <td>10</td>\n",
              "      <td>5199.225806</td>\n",
              "    </tr>\n",
              "    <tr>\n",
              "      <th>6</th>\n",
              "      <td>4</td>\n",
              "      <td>4484.900000</td>\n",
              "    </tr>\n",
              "    <tr>\n",
              "      <th>7</th>\n",
              "      <td>11</td>\n",
              "      <td>4247.183333</td>\n",
              "    </tr>\n",
              "    <tr>\n",
              "      <th>8</th>\n",
              "      <td>3</td>\n",
              "      <td>3692.258065</td>\n",
              "    </tr>\n",
              "    <tr>\n",
              "      <th>9</th>\n",
              "      <td>12</td>\n",
              "      <td>3403.806452</td>\n",
              "    </tr>\n",
              "    <tr>\n",
              "      <th>10</th>\n",
              "      <td>2</td>\n",
              "      <td>2655.298246</td>\n",
              "    </tr>\n",
              "    <tr>\n",
              "      <th>11</th>\n",
              "      <td>1</td>\n",
              "      <td>2176.338710</td>\n",
              "    </tr>\n",
              "  </tbody>\n",
              "</table>\n",
              "</div>\n",
              "    <div class=\"colab-df-buttons\">\n",
              "\n",
              "  <div class=\"colab-df-container\">\n",
              "    <button class=\"colab-df-convert\" onclick=\"convertToInteractive('df-8004009d-492b-4f35-be15-d8b341bb4a2f')\"\n",
              "            title=\"Convert this dataframe to an interactive table.\"\n",
              "            style=\"display:none;\">\n",
              "\n",
              "  <svg xmlns=\"http://www.w3.org/2000/svg\" height=\"24px\" viewBox=\"0 -960 960 960\">\n",
              "    <path d=\"M120-120v-720h720v720H120Zm60-500h600v-160H180v160Zm220 220h160v-160H400v160Zm0 220h160v-160H400v160ZM180-400h160v-160H180v160Zm440 0h160v-160H620v160ZM180-180h160v-160H180v160Zm440 0h160v-160H620v160Z\"/>\n",
              "  </svg>\n",
              "    </button>\n",
              "\n",
              "  <style>\n",
              "    .colab-df-container {\n",
              "      display:flex;\n",
              "      gap: 12px;\n",
              "    }\n",
              "\n",
              "    .colab-df-convert {\n",
              "      background-color: #E8F0FE;\n",
              "      border: none;\n",
              "      border-radius: 50%;\n",
              "      cursor: pointer;\n",
              "      display: none;\n",
              "      fill: #1967D2;\n",
              "      height: 32px;\n",
              "      padding: 0 0 0 0;\n",
              "      width: 32px;\n",
              "    }\n",
              "\n",
              "    .colab-df-convert:hover {\n",
              "      background-color: #E2EBFA;\n",
              "      box-shadow: 0px 1px 2px rgba(60, 64, 67, 0.3), 0px 1px 3px 1px rgba(60, 64, 67, 0.15);\n",
              "      fill: #174EA6;\n",
              "    }\n",
              "\n",
              "    .colab-df-buttons div {\n",
              "      margin-bottom: 4px;\n",
              "    }\n",
              "\n",
              "    [theme=dark] .colab-df-convert {\n",
              "      background-color: #3B4455;\n",
              "      fill: #D2E3FC;\n",
              "    }\n",
              "\n",
              "    [theme=dark] .colab-df-convert:hover {\n",
              "      background-color: #434B5C;\n",
              "      box-shadow: 0px 1px 3px 1px rgba(0, 0, 0, 0.15);\n",
              "      filter: drop-shadow(0px 1px 2px rgba(0, 0, 0, 0.3));\n",
              "      fill: #FFFFFF;\n",
              "    }\n",
              "  </style>\n",
              "\n",
              "    <script>\n",
              "      const buttonEl =\n",
              "        document.querySelector('#df-8004009d-492b-4f35-be15-d8b341bb4a2f button.colab-df-convert');\n",
              "      buttonEl.style.display =\n",
              "        google.colab.kernel.accessAllowed ? 'block' : 'none';\n",
              "\n",
              "      async function convertToInteractive(key) {\n",
              "        const element = document.querySelector('#df-8004009d-492b-4f35-be15-d8b341bb4a2f');\n",
              "        const dataTable =\n",
              "          await google.colab.kernel.invokeFunction('convertToInteractive',\n",
              "                                                    [key], {});\n",
              "        if (!dataTable) return;\n",
              "\n",
              "        const docLinkHtml = 'Like what you see? Visit the ' +\n",
              "          '<a target=\"_blank\" href=https://colab.research.google.com/notebooks/data_table.ipynb>data table notebook</a>'\n",
              "          + ' to learn more about interactive tables.';\n",
              "        element.innerHTML = '';\n",
              "        dataTable['output_type'] = 'display_data';\n",
              "        await google.colab.output.renderOutput(dataTable, element);\n",
              "        const docLink = document.createElement('div');\n",
              "        docLink.innerHTML = docLinkHtml;\n",
              "        element.appendChild(docLink);\n",
              "      }\n",
              "    </script>\n",
              "  </div>\n",
              "\n",
              "\n",
              "<div id=\"df-af69d6c5-250e-42f1-bcad-782e0a568746\">\n",
              "  <button class=\"colab-df-quickchart\" onclick=\"quickchart('df-af69d6c5-250e-42f1-bcad-782e0a568746')\"\n",
              "            title=\"Suggest charts\"\n",
              "            style=\"display:none;\">\n",
              "\n",
              "<svg xmlns=\"http://www.w3.org/2000/svg\" height=\"24px\"viewBox=\"0 0 24 24\"\n",
              "     width=\"24px\">\n",
              "    <g>\n",
              "        <path d=\"M19 3H5c-1.1 0-2 .9-2 2v14c0 1.1.9 2 2 2h14c1.1 0 2-.9 2-2V5c0-1.1-.9-2-2-2zM9 17H7v-7h2v7zm4 0h-2V7h2v10zm4 0h-2v-4h2v4z\"/>\n",
              "    </g>\n",
              "</svg>\n",
              "  </button>\n",
              "\n",
              "<style>\n",
              "  .colab-df-quickchart {\n",
              "      --bg-color: #E8F0FE;\n",
              "      --fill-color: #1967D2;\n",
              "      --hover-bg-color: #E2EBFA;\n",
              "      --hover-fill-color: #174EA6;\n",
              "      --disabled-fill-color: #AAA;\n",
              "      --disabled-bg-color: #DDD;\n",
              "  }\n",
              "\n",
              "  [theme=dark] .colab-df-quickchart {\n",
              "      --bg-color: #3B4455;\n",
              "      --fill-color: #D2E3FC;\n",
              "      --hover-bg-color: #434B5C;\n",
              "      --hover-fill-color: #FFFFFF;\n",
              "      --disabled-bg-color: #3B4455;\n",
              "      --disabled-fill-color: #666;\n",
              "  }\n",
              "\n",
              "  .colab-df-quickchart {\n",
              "    background-color: var(--bg-color);\n",
              "    border: none;\n",
              "    border-radius: 50%;\n",
              "    cursor: pointer;\n",
              "    display: none;\n",
              "    fill: var(--fill-color);\n",
              "    height: 32px;\n",
              "    padding: 0;\n",
              "    width: 32px;\n",
              "  }\n",
              "\n",
              "  .colab-df-quickchart:hover {\n",
              "    background-color: var(--hover-bg-color);\n",
              "    box-shadow: 0 1px 2px rgba(60, 64, 67, 0.3), 0 1px 3px 1px rgba(60, 64, 67, 0.15);\n",
              "    fill: var(--button-hover-fill-color);\n",
              "  }\n",
              "\n",
              "  .colab-df-quickchart-complete:disabled,\n",
              "  .colab-df-quickchart-complete:disabled:hover {\n",
              "    background-color: var(--disabled-bg-color);\n",
              "    fill: var(--disabled-fill-color);\n",
              "    box-shadow: none;\n",
              "  }\n",
              "\n",
              "  .colab-df-spinner {\n",
              "    border: 2px solid var(--fill-color);\n",
              "    border-color: transparent;\n",
              "    border-bottom-color: var(--fill-color);\n",
              "    animation:\n",
              "      spin 1s steps(1) infinite;\n",
              "  }\n",
              "\n",
              "  @keyframes spin {\n",
              "    0% {\n",
              "      border-color: transparent;\n",
              "      border-bottom-color: var(--fill-color);\n",
              "      border-left-color: var(--fill-color);\n",
              "    }\n",
              "    20% {\n",
              "      border-color: transparent;\n",
              "      border-left-color: var(--fill-color);\n",
              "      border-top-color: var(--fill-color);\n",
              "    }\n",
              "    30% {\n",
              "      border-color: transparent;\n",
              "      border-left-color: var(--fill-color);\n",
              "      border-top-color: var(--fill-color);\n",
              "      border-right-color: var(--fill-color);\n",
              "    }\n",
              "    40% {\n",
              "      border-color: transparent;\n",
              "      border-right-color: var(--fill-color);\n",
              "      border-top-color: var(--fill-color);\n",
              "    }\n",
              "    60% {\n",
              "      border-color: transparent;\n",
              "      border-right-color: var(--fill-color);\n",
              "    }\n",
              "    80% {\n",
              "      border-color: transparent;\n",
              "      border-right-color: var(--fill-color);\n",
              "      border-bottom-color: var(--fill-color);\n",
              "    }\n",
              "    90% {\n",
              "      border-color: transparent;\n",
              "      border-bottom-color: var(--fill-color);\n",
              "    }\n",
              "  }\n",
              "</style>\n",
              "\n",
              "  <script>\n",
              "    async function quickchart(key) {\n",
              "      const quickchartButtonEl =\n",
              "        document.querySelector('#' + key + ' button');\n",
              "      quickchartButtonEl.disabled = true;  // To prevent multiple clicks.\n",
              "      quickchartButtonEl.classList.add('colab-df-spinner');\n",
              "      try {\n",
              "        const charts = await google.colab.kernel.invokeFunction(\n",
              "            'suggestCharts', [key], {});\n",
              "      } catch (error) {\n",
              "        console.error('Error during call to suggestCharts:', error);\n",
              "      }\n",
              "      quickchartButtonEl.classList.remove('colab-df-spinner');\n",
              "      quickchartButtonEl.classList.add('colab-df-quickchart-complete');\n",
              "    }\n",
              "    (() => {\n",
              "      let quickchartButtonEl =\n",
              "        document.querySelector('#df-af69d6c5-250e-42f1-bcad-782e0a568746 button');\n",
              "      quickchartButtonEl.style.display =\n",
              "        google.colab.kernel.accessAllowed ? 'block' : 'none';\n",
              "    })();\n",
              "  </script>\n",
              "</div>\n",
              "\n",
              "    </div>\n",
              "  </div>\n"
            ],
            "application/vnd.google.colaboratory.intrinsic+json": {
              "type": "dataframe",
              "summary": "{\n  \"name\": \"df_day\",\n  \"rows\": 12,\n  \"fields\": [\n    {\n      \"column\": \"mnth\",\n      \"properties\": {\n        \"dtype\": \"number\",\n        \"std\": 3,\n        \"min\": 1,\n        \"max\": 12,\n        \"num_unique_values\": 12,\n        \"samples\": [\n          2,\n          12,\n          6\n        ],\n        \"semantic_type\": \"\",\n        \"description\": \"\"\n      }\n    },\n    {\n      \"column\": \"cnt\",\n      \"properties\": {\n        \"dtype\": \"number\",\n        \"std\": 1266.4124494311768,\n        \"min\": 2176.3387096774195,\n        \"max\": 5772.366666666667,\n        \"num_unique_values\": 12,\n        \"samples\": [\n          2655.2982456140353,\n          3403.8064516129034,\n          5772.366666666667\n        ],\n        \"semantic_type\": \"\",\n        \"description\": \"\"\n      }\n    }\n  ]\n}"
            }
          },
          "metadata": {},
          "execution_count": 79
        }
      ]
    },
    {
      "cell_type": "markdown",
      "source": [
        "bulan 6-9 berada di urutan teratas penyewaan, dan paling rendah di bulan 1-2"
      ],
      "metadata": {
        "id": "orAbzRqB8Kdi"
      }
    },
    {
      "cell_type": "markdown",
      "source": [
        "### Explore data weathersit (cuaca)"
      ],
      "metadata": {
        "id": "AHjEY9aq6Gwr"
      }
    },
    {
      "cell_type": "code",
      "source": [
        "df_hour.groupby(\"weathersit\")[\"cnt\"].mean()"
      ],
      "metadata": {
        "colab": {
          "base_uri": "https://localhost:8080/",
          "height": 241
        },
        "id": "4aEfqVvE9pzb",
        "outputId": "189e2cf3-9059-49b8-ee61-6a6a008fadc0"
      },
      "execution_count": 80,
      "outputs": [
        {
          "output_type": "execute_result",
          "data": {
            "text/plain": [
              "weathersit\n",
              "Clear              204.869272\n",
              "Cloudy             175.165493\n",
              "Heavy Rain/Snow     74.333333\n",
              "Light Rain/Snow    111.579281\n",
              "Name: cnt, dtype: float64"
            ],
            "text/html": [
              "<div>\n",
              "<style scoped>\n",
              "    .dataframe tbody tr th:only-of-type {\n",
              "        vertical-align: middle;\n",
              "    }\n",
              "\n",
              "    .dataframe tbody tr th {\n",
              "        vertical-align: top;\n",
              "    }\n",
              "\n",
              "    .dataframe thead th {\n",
              "        text-align: right;\n",
              "    }\n",
              "</style>\n",
              "<table border=\"1\" class=\"dataframe\">\n",
              "  <thead>\n",
              "    <tr style=\"text-align: right;\">\n",
              "      <th></th>\n",
              "      <th>cnt</th>\n",
              "    </tr>\n",
              "    <tr>\n",
              "      <th>weathersit</th>\n",
              "      <th></th>\n",
              "    </tr>\n",
              "  </thead>\n",
              "  <tbody>\n",
              "    <tr>\n",
              "      <th>Clear</th>\n",
              "      <td>204.869272</td>\n",
              "    </tr>\n",
              "    <tr>\n",
              "      <th>Cloudy</th>\n",
              "      <td>175.165493</td>\n",
              "    </tr>\n",
              "    <tr>\n",
              "      <th>Heavy Rain/Snow</th>\n",
              "      <td>74.333333</td>\n",
              "    </tr>\n",
              "    <tr>\n",
              "      <th>Light Rain/Snow</th>\n",
              "      <td>111.579281</td>\n",
              "    </tr>\n",
              "  </tbody>\n",
              "</table>\n",
              "</div><br><label><b>dtype:</b> float64</label>"
            ]
          },
          "metadata": {},
          "execution_count": 80
        }
      ]
    },
    {
      "cell_type": "markdown",
      "source": [
        "Clear dan cloudy menjadi cuaca terbaik untuk penyewaan sepeda"
      ],
      "metadata": {
        "id": "Ph0fQebK-Emc"
      }
    },
    {
      "cell_type": "code",
      "source": [
        "df_hour.groupby([\"season\", \"weathersit\"])[\"cnt\"].mean()"
      ],
      "metadata": {
        "colab": {
          "base_uri": "https://localhost:8080/",
          "height": 523
        },
        "id": "A6J4LohW_xxA",
        "outputId": "26be8cac-fd0d-426f-cfb4-12394dd9da3d"
      },
      "execution_count": 83,
      "outputs": [
        {
          "output_type": "execute_result",
          "data": {
            "text/plain": [
              "season  weathersit     \n",
              "Fall    Clear              244.494207\n",
              "        Cloudy             224.848997\n",
              "        Light Rain/Snow    171.955390\n",
              "Spring  Clear              122.055535\n",
              "        Cloudy             103.074689\n",
              "        Heavy Rain/Snow     74.333333\n",
              "        Light Rain/Snow     58.650407\n",
              "Summer  Clear              232.410983\n",
              "        Cloudy             181.261364\n",
              "        Light Rain/Snow    115.179803\n",
              "Winter  Clear              209.463779\n",
              "        Cloudy             201.483974\n",
              "        Light Rain/Snow    116.453333\n",
              "Name: cnt, dtype: float64"
            ],
            "text/html": [
              "<div>\n",
              "<style scoped>\n",
              "    .dataframe tbody tr th:only-of-type {\n",
              "        vertical-align: middle;\n",
              "    }\n",
              "\n",
              "    .dataframe tbody tr th {\n",
              "        vertical-align: top;\n",
              "    }\n",
              "\n",
              "    .dataframe thead th {\n",
              "        text-align: right;\n",
              "    }\n",
              "</style>\n",
              "<table border=\"1\" class=\"dataframe\">\n",
              "  <thead>\n",
              "    <tr style=\"text-align: right;\">\n",
              "      <th></th>\n",
              "      <th></th>\n",
              "      <th>cnt</th>\n",
              "    </tr>\n",
              "    <tr>\n",
              "      <th>season</th>\n",
              "      <th>weathersit</th>\n",
              "      <th></th>\n",
              "    </tr>\n",
              "  </thead>\n",
              "  <tbody>\n",
              "    <tr>\n",
              "      <th rowspan=\"3\" valign=\"top\">Fall</th>\n",
              "      <th>Clear</th>\n",
              "      <td>244.494207</td>\n",
              "    </tr>\n",
              "    <tr>\n",
              "      <th>Cloudy</th>\n",
              "      <td>224.848997</td>\n",
              "    </tr>\n",
              "    <tr>\n",
              "      <th>Light Rain/Snow</th>\n",
              "      <td>171.955390</td>\n",
              "    </tr>\n",
              "    <tr>\n",
              "      <th rowspan=\"4\" valign=\"top\">Spring</th>\n",
              "      <th>Clear</th>\n",
              "      <td>122.055535</td>\n",
              "    </tr>\n",
              "    <tr>\n",
              "      <th>Cloudy</th>\n",
              "      <td>103.074689</td>\n",
              "    </tr>\n",
              "    <tr>\n",
              "      <th>Heavy Rain/Snow</th>\n",
              "      <td>74.333333</td>\n",
              "    </tr>\n",
              "    <tr>\n",
              "      <th>Light Rain/Snow</th>\n",
              "      <td>58.650407</td>\n",
              "    </tr>\n",
              "    <tr>\n",
              "      <th rowspan=\"3\" valign=\"top\">Summer</th>\n",
              "      <th>Clear</th>\n",
              "      <td>232.410983</td>\n",
              "    </tr>\n",
              "    <tr>\n",
              "      <th>Cloudy</th>\n",
              "      <td>181.261364</td>\n",
              "    </tr>\n",
              "    <tr>\n",
              "      <th>Light Rain/Snow</th>\n",
              "      <td>115.179803</td>\n",
              "    </tr>\n",
              "    <tr>\n",
              "      <th rowspan=\"3\" valign=\"top\">Winter</th>\n",
              "      <th>Clear</th>\n",
              "      <td>209.463779</td>\n",
              "    </tr>\n",
              "    <tr>\n",
              "      <th>Cloudy</th>\n",
              "      <td>201.483974</td>\n",
              "    </tr>\n",
              "    <tr>\n",
              "      <th>Light Rain/Snow</th>\n",
              "      <td>116.453333</td>\n",
              "    </tr>\n",
              "  </tbody>\n",
              "</table>\n",
              "</div><br><label><b>dtype:</b> float64</label>"
            ]
          },
          "metadata": {},
          "execution_count": 83
        }
      ]
    },
    {
      "cell_type": "markdown",
      "source": [
        "### Explore data temp (suhu)"
      ],
      "metadata": {
        "id": "_UCs2HSi_gEW"
      }
    },
    {
      "cell_type": "code",
      "source": [
        "df_hour.groupby(\"temp\")[\"cnt\"].mean().sort_values(ascending=False).reset_index()"
      ],
      "metadata": {
        "colab": {
          "base_uri": "https://localhost:8080/",
          "height": 1000
        },
        "id": "IVhCS-DD-W6y",
        "outputId": "f069ae1a-d9a1-425d-dac8-e32bc06d86bf"
      },
      "execution_count": 82,
      "outputs": [
        {
          "output_type": "execute_result",
          "data": {
            "text/plain": [
              "    temp         cnt\n",
              "0   0.98  539.000000\n",
              "1   0.88  363.660377\n",
              "2   0.80  347.375385\n",
              "3   0.76  342.575758\n",
              "4   0.82  339.690141\n",
              "5   0.84  325.818841\n",
              "6   0.86  322.954198\n",
              "7   0.92  320.020408\n",
              "8   0.78  313.195266\n",
              "9   0.74  313.153101\n",
              "10  0.90  309.288889\n",
              "11  1.00  294.000000\n",
              "12  0.72  286.752632\n",
              "13  0.96  274.500000\n",
              "14  0.70  256.953623\n",
              "15  0.66  225.402597\n",
              "16  0.64  223.966763\n",
              "17  0.60  222.081481\n",
              "18  0.58  222.065574\n",
              "19  0.94  217.058824\n",
              "20  0.56  213.740933\n",
              "21  0.68  209.538682\n",
              "22  0.62  204.111570\n",
              "23  0.52  202.967626\n",
              "24  0.54  200.284710\n",
              "25  0.50  198.429379\n",
              "26  0.48  190.434028\n",
              "27  0.42  175.341241\n",
              "28  0.40  167.441368\n",
              "29  0.38  164.212366\n",
              "30  0.46  162.906977\n",
              "31  0.44  158.907298\n",
              "32  0.36  147.842027\n",
              "33  0.34  135.308527\n",
              "34  0.32  134.230769\n",
              "35  0.30  115.917317\n",
              "36  0.28  106.750831\n",
              "37  0.26   87.960644\n",
              "38  0.24   80.159004\n",
              "39  0.20   79.745763\n",
              "40  0.22   69.914489\n",
              "41  0.16   65.578261\n",
              "42  0.18   60.116129\n",
              "43  0.12   58.421053\n",
              "44  0.14   55.108696\n",
              "45  0.10   49.294118\n",
              "46  0.06   42.000000\n",
              "47  0.02   41.882353\n",
              "48  0.04   35.625000\n",
              "49  0.08   28.235294"
            ],
            "text/html": [
              "\n",
              "  <div id=\"df-f95844d0-e0f9-4629-b99e-fd77c81d1e1c\" class=\"colab-df-container\">\n",
              "    <div>\n",
              "<style scoped>\n",
              "    .dataframe tbody tr th:only-of-type {\n",
              "        vertical-align: middle;\n",
              "    }\n",
              "\n",
              "    .dataframe tbody tr th {\n",
              "        vertical-align: top;\n",
              "    }\n",
              "\n",
              "    .dataframe thead th {\n",
              "        text-align: right;\n",
              "    }\n",
              "</style>\n",
              "<table border=\"1\" class=\"dataframe\">\n",
              "  <thead>\n",
              "    <tr style=\"text-align: right;\">\n",
              "      <th></th>\n",
              "      <th>temp</th>\n",
              "      <th>cnt</th>\n",
              "    </tr>\n",
              "  </thead>\n",
              "  <tbody>\n",
              "    <tr>\n",
              "      <th>0</th>\n",
              "      <td>0.98</td>\n",
              "      <td>539.000000</td>\n",
              "    </tr>\n",
              "    <tr>\n",
              "      <th>1</th>\n",
              "      <td>0.88</td>\n",
              "      <td>363.660377</td>\n",
              "    </tr>\n",
              "    <tr>\n",
              "      <th>2</th>\n",
              "      <td>0.80</td>\n",
              "      <td>347.375385</td>\n",
              "    </tr>\n",
              "    <tr>\n",
              "      <th>3</th>\n",
              "      <td>0.76</td>\n",
              "      <td>342.575758</td>\n",
              "    </tr>\n",
              "    <tr>\n",
              "      <th>4</th>\n",
              "      <td>0.82</td>\n",
              "      <td>339.690141</td>\n",
              "    </tr>\n",
              "    <tr>\n",
              "      <th>5</th>\n",
              "      <td>0.84</td>\n",
              "      <td>325.818841</td>\n",
              "    </tr>\n",
              "    <tr>\n",
              "      <th>6</th>\n",
              "      <td>0.86</td>\n",
              "      <td>322.954198</td>\n",
              "    </tr>\n",
              "    <tr>\n",
              "      <th>7</th>\n",
              "      <td>0.92</td>\n",
              "      <td>320.020408</td>\n",
              "    </tr>\n",
              "    <tr>\n",
              "      <th>8</th>\n",
              "      <td>0.78</td>\n",
              "      <td>313.195266</td>\n",
              "    </tr>\n",
              "    <tr>\n",
              "      <th>9</th>\n",
              "      <td>0.74</td>\n",
              "      <td>313.153101</td>\n",
              "    </tr>\n",
              "    <tr>\n",
              "      <th>10</th>\n",
              "      <td>0.90</td>\n",
              "      <td>309.288889</td>\n",
              "    </tr>\n",
              "    <tr>\n",
              "      <th>11</th>\n",
              "      <td>1.00</td>\n",
              "      <td>294.000000</td>\n",
              "    </tr>\n",
              "    <tr>\n",
              "      <th>12</th>\n",
              "      <td>0.72</td>\n",
              "      <td>286.752632</td>\n",
              "    </tr>\n",
              "    <tr>\n",
              "      <th>13</th>\n",
              "      <td>0.96</td>\n",
              "      <td>274.500000</td>\n",
              "    </tr>\n",
              "    <tr>\n",
              "      <th>14</th>\n",
              "      <td>0.70</td>\n",
              "      <td>256.953623</td>\n",
              "    </tr>\n",
              "    <tr>\n",
              "      <th>15</th>\n",
              "      <td>0.66</td>\n",
              "      <td>225.402597</td>\n",
              "    </tr>\n",
              "    <tr>\n",
              "      <th>16</th>\n",
              "      <td>0.64</td>\n",
              "      <td>223.966763</td>\n",
              "    </tr>\n",
              "    <tr>\n",
              "      <th>17</th>\n",
              "      <td>0.60</td>\n",
              "      <td>222.081481</td>\n",
              "    </tr>\n",
              "    <tr>\n",
              "      <th>18</th>\n",
              "      <td>0.58</td>\n",
              "      <td>222.065574</td>\n",
              "    </tr>\n",
              "    <tr>\n",
              "      <th>19</th>\n",
              "      <td>0.94</td>\n",
              "      <td>217.058824</td>\n",
              "    </tr>\n",
              "    <tr>\n",
              "      <th>20</th>\n",
              "      <td>0.56</td>\n",
              "      <td>213.740933</td>\n",
              "    </tr>\n",
              "    <tr>\n",
              "      <th>21</th>\n",
              "      <td>0.68</td>\n",
              "      <td>209.538682</td>\n",
              "    </tr>\n",
              "    <tr>\n",
              "      <th>22</th>\n",
              "      <td>0.62</td>\n",
              "      <td>204.111570</td>\n",
              "    </tr>\n",
              "    <tr>\n",
              "      <th>23</th>\n",
              "      <td>0.52</td>\n",
              "      <td>202.967626</td>\n",
              "    </tr>\n",
              "    <tr>\n",
              "      <th>24</th>\n",
              "      <td>0.54</td>\n",
              "      <td>200.284710</td>\n",
              "    </tr>\n",
              "    <tr>\n",
              "      <th>25</th>\n",
              "      <td>0.50</td>\n",
              "      <td>198.429379</td>\n",
              "    </tr>\n",
              "    <tr>\n",
              "      <th>26</th>\n",
              "      <td>0.48</td>\n",
              "      <td>190.434028</td>\n",
              "    </tr>\n",
              "    <tr>\n",
              "      <th>27</th>\n",
              "      <td>0.42</td>\n",
              "      <td>175.341241</td>\n",
              "    </tr>\n",
              "    <tr>\n",
              "      <th>28</th>\n",
              "      <td>0.40</td>\n",
              "      <td>167.441368</td>\n",
              "    </tr>\n",
              "    <tr>\n",
              "      <th>29</th>\n",
              "      <td>0.38</td>\n",
              "      <td>164.212366</td>\n",
              "    </tr>\n",
              "    <tr>\n",
              "      <th>30</th>\n",
              "      <td>0.46</td>\n",
              "      <td>162.906977</td>\n",
              "    </tr>\n",
              "    <tr>\n",
              "      <th>31</th>\n",
              "      <td>0.44</td>\n",
              "      <td>158.907298</td>\n",
              "    </tr>\n",
              "    <tr>\n",
              "      <th>32</th>\n",
              "      <td>0.36</td>\n",
              "      <td>147.842027</td>\n",
              "    </tr>\n",
              "    <tr>\n",
              "      <th>33</th>\n",
              "      <td>0.34</td>\n",
              "      <td>135.308527</td>\n",
              "    </tr>\n",
              "    <tr>\n",
              "      <th>34</th>\n",
              "      <td>0.32</td>\n",
              "      <td>134.230769</td>\n",
              "    </tr>\n",
              "    <tr>\n",
              "      <th>35</th>\n",
              "      <td>0.30</td>\n",
              "      <td>115.917317</td>\n",
              "    </tr>\n",
              "    <tr>\n",
              "      <th>36</th>\n",
              "      <td>0.28</td>\n",
              "      <td>106.750831</td>\n",
              "    </tr>\n",
              "    <tr>\n",
              "      <th>37</th>\n",
              "      <td>0.26</td>\n",
              "      <td>87.960644</td>\n",
              "    </tr>\n",
              "    <tr>\n",
              "      <th>38</th>\n",
              "      <td>0.24</td>\n",
              "      <td>80.159004</td>\n",
              "    </tr>\n",
              "    <tr>\n",
              "      <th>39</th>\n",
              "      <td>0.20</td>\n",
              "      <td>79.745763</td>\n",
              "    </tr>\n",
              "    <tr>\n",
              "      <th>40</th>\n",
              "      <td>0.22</td>\n",
              "      <td>69.914489</td>\n",
              "    </tr>\n",
              "    <tr>\n",
              "      <th>41</th>\n",
              "      <td>0.16</td>\n",
              "      <td>65.578261</td>\n",
              "    </tr>\n",
              "    <tr>\n",
              "      <th>42</th>\n",
              "      <td>0.18</td>\n",
              "      <td>60.116129</td>\n",
              "    </tr>\n",
              "    <tr>\n",
              "      <th>43</th>\n",
              "      <td>0.12</td>\n",
              "      <td>58.421053</td>\n",
              "    </tr>\n",
              "    <tr>\n",
              "      <th>44</th>\n",
              "      <td>0.14</td>\n",
              "      <td>55.108696</td>\n",
              "    </tr>\n",
              "    <tr>\n",
              "      <th>45</th>\n",
              "      <td>0.10</td>\n",
              "      <td>49.294118</td>\n",
              "    </tr>\n",
              "    <tr>\n",
              "      <th>46</th>\n",
              "      <td>0.06</td>\n",
              "      <td>42.000000</td>\n",
              "    </tr>\n",
              "    <tr>\n",
              "      <th>47</th>\n",
              "      <td>0.02</td>\n",
              "      <td>41.882353</td>\n",
              "    </tr>\n",
              "    <tr>\n",
              "      <th>48</th>\n",
              "      <td>0.04</td>\n",
              "      <td>35.625000</td>\n",
              "    </tr>\n",
              "    <tr>\n",
              "      <th>49</th>\n",
              "      <td>0.08</td>\n",
              "      <td>28.235294</td>\n",
              "    </tr>\n",
              "  </tbody>\n",
              "</table>\n",
              "</div>\n",
              "    <div class=\"colab-df-buttons\">\n",
              "\n",
              "  <div class=\"colab-df-container\">\n",
              "    <button class=\"colab-df-convert\" onclick=\"convertToInteractive('df-f95844d0-e0f9-4629-b99e-fd77c81d1e1c')\"\n",
              "            title=\"Convert this dataframe to an interactive table.\"\n",
              "            style=\"display:none;\">\n",
              "\n",
              "  <svg xmlns=\"http://www.w3.org/2000/svg\" height=\"24px\" viewBox=\"0 -960 960 960\">\n",
              "    <path d=\"M120-120v-720h720v720H120Zm60-500h600v-160H180v160Zm220 220h160v-160H400v160Zm0 220h160v-160H400v160ZM180-400h160v-160H180v160Zm440 0h160v-160H620v160ZM180-180h160v-160H180v160Zm440 0h160v-160H620v160Z\"/>\n",
              "  </svg>\n",
              "    </button>\n",
              "\n",
              "  <style>\n",
              "    .colab-df-container {\n",
              "      display:flex;\n",
              "      gap: 12px;\n",
              "    }\n",
              "\n",
              "    .colab-df-convert {\n",
              "      background-color: #E8F0FE;\n",
              "      border: none;\n",
              "      border-radius: 50%;\n",
              "      cursor: pointer;\n",
              "      display: none;\n",
              "      fill: #1967D2;\n",
              "      height: 32px;\n",
              "      padding: 0 0 0 0;\n",
              "      width: 32px;\n",
              "    }\n",
              "\n",
              "    .colab-df-convert:hover {\n",
              "      background-color: #E2EBFA;\n",
              "      box-shadow: 0px 1px 2px rgba(60, 64, 67, 0.3), 0px 1px 3px 1px rgba(60, 64, 67, 0.15);\n",
              "      fill: #174EA6;\n",
              "    }\n",
              "\n",
              "    .colab-df-buttons div {\n",
              "      margin-bottom: 4px;\n",
              "    }\n",
              "\n",
              "    [theme=dark] .colab-df-convert {\n",
              "      background-color: #3B4455;\n",
              "      fill: #D2E3FC;\n",
              "    }\n",
              "\n",
              "    [theme=dark] .colab-df-convert:hover {\n",
              "      background-color: #434B5C;\n",
              "      box-shadow: 0px 1px 3px 1px rgba(0, 0, 0, 0.15);\n",
              "      filter: drop-shadow(0px 1px 2px rgba(0, 0, 0, 0.3));\n",
              "      fill: #FFFFFF;\n",
              "    }\n",
              "  </style>\n",
              "\n",
              "    <script>\n",
              "      const buttonEl =\n",
              "        document.querySelector('#df-f95844d0-e0f9-4629-b99e-fd77c81d1e1c button.colab-df-convert');\n",
              "      buttonEl.style.display =\n",
              "        google.colab.kernel.accessAllowed ? 'block' : 'none';\n",
              "\n",
              "      async function convertToInteractive(key) {\n",
              "        const element = document.querySelector('#df-f95844d0-e0f9-4629-b99e-fd77c81d1e1c');\n",
              "        const dataTable =\n",
              "          await google.colab.kernel.invokeFunction('convertToInteractive',\n",
              "                                                    [key], {});\n",
              "        if (!dataTable) return;\n",
              "\n",
              "        const docLinkHtml = 'Like what you see? Visit the ' +\n",
              "          '<a target=\"_blank\" href=https://colab.research.google.com/notebooks/data_table.ipynb>data table notebook</a>'\n",
              "          + ' to learn more about interactive tables.';\n",
              "        element.innerHTML = '';\n",
              "        dataTable['output_type'] = 'display_data';\n",
              "        await google.colab.output.renderOutput(dataTable, element);\n",
              "        const docLink = document.createElement('div');\n",
              "        docLink.innerHTML = docLinkHtml;\n",
              "        element.appendChild(docLink);\n",
              "      }\n",
              "    </script>\n",
              "  </div>\n",
              "\n",
              "\n",
              "<div id=\"df-fc71a99d-c431-44e7-8b78-c185d15e6495\">\n",
              "  <button class=\"colab-df-quickchart\" onclick=\"quickchart('df-fc71a99d-c431-44e7-8b78-c185d15e6495')\"\n",
              "            title=\"Suggest charts\"\n",
              "            style=\"display:none;\">\n",
              "\n",
              "<svg xmlns=\"http://www.w3.org/2000/svg\" height=\"24px\"viewBox=\"0 0 24 24\"\n",
              "     width=\"24px\">\n",
              "    <g>\n",
              "        <path d=\"M19 3H5c-1.1 0-2 .9-2 2v14c0 1.1.9 2 2 2h14c1.1 0 2-.9 2-2V5c0-1.1-.9-2-2-2zM9 17H7v-7h2v7zm4 0h-2V7h2v10zm4 0h-2v-4h2v4z\"/>\n",
              "    </g>\n",
              "</svg>\n",
              "  </button>\n",
              "\n",
              "<style>\n",
              "  .colab-df-quickchart {\n",
              "      --bg-color: #E8F0FE;\n",
              "      --fill-color: #1967D2;\n",
              "      --hover-bg-color: #E2EBFA;\n",
              "      --hover-fill-color: #174EA6;\n",
              "      --disabled-fill-color: #AAA;\n",
              "      --disabled-bg-color: #DDD;\n",
              "  }\n",
              "\n",
              "  [theme=dark] .colab-df-quickchart {\n",
              "      --bg-color: #3B4455;\n",
              "      --fill-color: #D2E3FC;\n",
              "      --hover-bg-color: #434B5C;\n",
              "      --hover-fill-color: #FFFFFF;\n",
              "      --disabled-bg-color: #3B4455;\n",
              "      --disabled-fill-color: #666;\n",
              "  }\n",
              "\n",
              "  .colab-df-quickchart {\n",
              "    background-color: var(--bg-color);\n",
              "    border: none;\n",
              "    border-radius: 50%;\n",
              "    cursor: pointer;\n",
              "    display: none;\n",
              "    fill: var(--fill-color);\n",
              "    height: 32px;\n",
              "    padding: 0;\n",
              "    width: 32px;\n",
              "  }\n",
              "\n",
              "  .colab-df-quickchart:hover {\n",
              "    background-color: var(--hover-bg-color);\n",
              "    box-shadow: 0 1px 2px rgba(60, 64, 67, 0.3), 0 1px 3px 1px rgba(60, 64, 67, 0.15);\n",
              "    fill: var(--button-hover-fill-color);\n",
              "  }\n",
              "\n",
              "  .colab-df-quickchart-complete:disabled,\n",
              "  .colab-df-quickchart-complete:disabled:hover {\n",
              "    background-color: var(--disabled-bg-color);\n",
              "    fill: var(--disabled-fill-color);\n",
              "    box-shadow: none;\n",
              "  }\n",
              "\n",
              "  .colab-df-spinner {\n",
              "    border: 2px solid var(--fill-color);\n",
              "    border-color: transparent;\n",
              "    border-bottom-color: var(--fill-color);\n",
              "    animation:\n",
              "      spin 1s steps(1) infinite;\n",
              "  }\n",
              "\n",
              "  @keyframes spin {\n",
              "    0% {\n",
              "      border-color: transparent;\n",
              "      border-bottom-color: var(--fill-color);\n",
              "      border-left-color: var(--fill-color);\n",
              "    }\n",
              "    20% {\n",
              "      border-color: transparent;\n",
              "      border-left-color: var(--fill-color);\n",
              "      border-top-color: var(--fill-color);\n",
              "    }\n",
              "    30% {\n",
              "      border-color: transparent;\n",
              "      border-left-color: var(--fill-color);\n",
              "      border-top-color: var(--fill-color);\n",
              "      border-right-color: var(--fill-color);\n",
              "    }\n",
              "    40% {\n",
              "      border-color: transparent;\n",
              "      border-right-color: var(--fill-color);\n",
              "      border-top-color: var(--fill-color);\n",
              "    }\n",
              "    60% {\n",
              "      border-color: transparent;\n",
              "      border-right-color: var(--fill-color);\n",
              "    }\n",
              "    80% {\n",
              "      border-color: transparent;\n",
              "      border-right-color: var(--fill-color);\n",
              "      border-bottom-color: var(--fill-color);\n",
              "    }\n",
              "    90% {\n",
              "      border-color: transparent;\n",
              "      border-bottom-color: var(--fill-color);\n",
              "    }\n",
              "  }\n",
              "</style>\n",
              "\n",
              "  <script>\n",
              "    async function quickchart(key) {\n",
              "      const quickchartButtonEl =\n",
              "        document.querySelector('#' + key + ' button');\n",
              "      quickchartButtonEl.disabled = true;  // To prevent multiple clicks.\n",
              "      quickchartButtonEl.classList.add('colab-df-spinner');\n",
              "      try {\n",
              "        const charts = await google.colab.kernel.invokeFunction(\n",
              "            'suggestCharts', [key], {});\n",
              "      } catch (error) {\n",
              "        console.error('Error during call to suggestCharts:', error);\n",
              "      }\n",
              "      quickchartButtonEl.classList.remove('colab-df-spinner');\n",
              "      quickchartButtonEl.classList.add('colab-df-quickchart-complete');\n",
              "    }\n",
              "    (() => {\n",
              "      let quickchartButtonEl =\n",
              "        document.querySelector('#df-fc71a99d-c431-44e7-8b78-c185d15e6495 button');\n",
              "      quickchartButtonEl.style.display =\n",
              "        google.colab.kernel.accessAllowed ? 'block' : 'none';\n",
              "    })();\n",
              "  </script>\n",
              "</div>\n",
              "\n",
              "    </div>\n",
              "  </div>\n"
            ],
            "application/vnd.google.colaboratory.intrinsic+json": {
              "type": "dataframe",
              "summary": "{\n  \"name\": \"df_hour\",\n  \"rows\": 50,\n  \"fields\": [\n    {\n      \"column\": \"temp\",\n      \"properties\": {\n        \"dtype\": \"number\",\n        \"std\": 0.29154759474226505,\n        \"min\": 0.02,\n        \"max\": 1.0,\n        \"num_unique_values\": 50,\n        \"samples\": [\n          0.96,\n          0.2,\n          0.46\n        ],\n        \"semantic_type\": \"\",\n        \"description\": \"\"\n      }\n    },\n    {\n      \"column\": \"cnt\",\n      \"properties\": {\n        \"dtype\": \"number\",\n        \"std\": 111.72361963437179,\n        \"min\": 28.235294117647058,\n        \"max\": 539.0,\n        \"num_unique_values\": 50,\n        \"samples\": [\n          274.5,\n          79.7457627118644,\n          162.90697674418604\n        ],\n        \"semantic_type\": \"\",\n        \"description\": \"\"\n      }\n    }\n  ]\n}"
            }
          },
          "metadata": {},
          "execution_count": 82
        }
      ]
    },
    {
      "cell_type": "markdown",
      "source": [
        "Jarang ada yang menyewa sepeda di saat suhu di bawah 0.3 (dingin), sebaliknya banyak orang yang menyewa saat suhu datas 0,8."
      ],
      "metadata": {
        "id": "KC98d1WS-zc6"
      }
    },
    {
      "cell_type": "markdown",
      "source": [
        "### Explore data season (musim)"
      ],
      "metadata": {
        "id": "VEnrKzIv_yRp"
      }
    },
    {
      "cell_type": "code",
      "source": [],
      "metadata": {
        "id": "JQwSWqXz5sJB"
      },
      "execution_count": null,
      "outputs": []
    },
    {
      "cell_type": "markdown",
      "metadata": {
        "id": "CiNnYVngxQkG"
      },
      "source": [
        "#### Statistik Deskriptif Jumlah Peminjaman"
      ]
    },
    {
      "cell_type": "code",
      "execution_count": 67,
      "metadata": {
        "colab": {
          "base_uri": "https://localhost:8080/"
        },
        "id": "e9CQCZjk8DC2",
        "outputId": "d9ecb165-0b26-4614-9328-7b4fe6748b06"
      },
      "outputs": [
        {
          "output_type": "execute_result",
          "data": {
            "text/plain": [
              "(            casual   registered          cnt\n",
              " count   731.000000   731.000000   731.000000\n",
              " mean    848.176471  3656.172367  4504.348837\n",
              " std     686.622488  1560.256377  1937.211452\n",
              " min       2.000000    20.000000    22.000000\n",
              " 25%     315.500000  2497.000000  3152.000000\n",
              " 50%     713.000000  3662.000000  4548.000000\n",
              " 75%    1096.000000  4776.500000  5956.000000\n",
              " max    3410.000000  6946.000000  8714.000000,\n",
              "              casual    registered           cnt\n",
              " count  17379.000000  17379.000000  17379.000000\n",
              " mean      35.676218    153.786869    189.463088\n",
              " std       49.305030    151.357286    181.387599\n",
              " min        0.000000      0.000000      1.000000\n",
              " 25%        4.000000     34.000000     40.000000\n",
              " 50%       17.000000    115.000000    142.000000\n",
              " 75%       48.000000    220.000000    281.000000\n",
              " max      367.000000    886.000000    977.000000)"
            ]
          },
          "metadata": {},
          "execution_count": 67
        }
      ],
      "source": [
        "#Melihat statistik jumlah peminjaman\n",
        "df_day[['casual', 'registered', 'cnt']].describe(), df_hour[['casual', 'registered', 'cnt']].describe()"
      ]
    },
    {
      "cell_type": "markdown",
      "metadata": {
        "id": "th_Lzl2Fkj9O"
      },
      "source": [
        "**Insight:**\n",
        "- Rata-rata peminjaman per hari: 4,504 sepeda\n",
        "- Rata-rata peminjaman per jam: 189 sepeda\n",
        "- Jumlah peminjaman sangat bervariasi, di rentang satu jam, mulai dari paling sedikit peminjaman ada 1 sepeda, dan paling banyak 977 sepeda\n",
        "- Sebagian besar pengguna adalah registered users (terdaftar) dibandingkan pengguna kasual."
      ]
    },
    {
      "cell_type": "code",
      "execution_count": 68,
      "metadata": {
        "colab": {
          "base_uri": "https://localhost:8080/",
          "height": 975
        },
        "id": "29a42920",
        "outputId": "28a36f31-1899-4558-cf7c-309cfe468efb"
      },
      "outputs": [
        {
          "output_type": "display_data",
          "data": {
            "text/plain": [
              "<Figure size 1000x500 with 1 Axes>"
            ],
            "image/png": "[encoded data removed]"
          },
          "metadata": {}
        },
        {
          "output_type": "display_data",
          "data": {
            "text/plain": [
              "<Figure size 800x500 with 1 Axes>"
            ],
            "image/png": "[encoded data removed]"
          },
          "metadata": {}
        }
      ],
      "source": [
        "\n",
        "# Agregasi data sesuai pertanyaan bisnis\n",
        "df_grouped = df_day.groupby([\"season\", \"weathersit\"])[\"cnt\"].sum().reset_index()\n",
        "\n",
        "# Visualisasi distribusi data\n",
        "plt.figure(figsize=(10, 5))\n",
        "sns.histplot(df_day[\"cnt\"], bins=30, kde=True)\n",
        "plt.title(\"Distribusi Jumlah Penyewaan Sepeda\")\n",
        "plt.xlabel(\"Jumlah Penyewaan\")\n",
        "plt.ylabel(\"Frekuensi\")\n",
        "plt.show()\n",
        "\n",
        "# Boxplot untuk mendeteksi outlier\n",
        "plt.figure(figsize=(8, 5))\n",
        "sns.boxplot(x=df_day[\"cnt\"])\n",
        "plt.title(\"Boxplot Jumlah Penyewaan Sepeda\")\n",
        "plt.show()\n"
      ]
    },
    {
      "cell_type": "markdown",
      "metadata": {
        "id": "942eed0c"
      },
      "source": [
        "\n",
        "## Kesimpulan\n",
        "\n",
        "Berdasarkan hasil Exploratory Data Analysis (EDA), dapat disimpulkan bahwa:\n",
        "\n",
        "1. **Total penyewaan sepeda tertinggi terjadi pada musim tertentu**, dengan jumlah mencapai X ribu penyewaan.\n",
        "2. **Kondisi cuaca yang lebih baik berkontribusi terhadap peningkatan jumlah penyewaan sepeda**.\n",
        "3. **Distribusi jumlah penyewaan menunjukkan adanya beberapa outlier**, yang mungkin perlu dianalisis lebih lanjut.\n",
        "4. **Rekomendasi:** Untuk meningkatkan penyewaan, bisa dilakukan strategi promosi pada musim sepi serta mempertimbangkan insentif bagi pengguna pada kondisi cuaca yang kurang menguntungkan.\n",
        "\n",
        "Dengan insight ini, pihak pengelola dapat mengoptimalkan operasional dan strategi pemasaran agar meningkatkan pendapatan dari penyewaan sepeda.\n"
      ]
    },
    {
      "cell_type": "markdown",
      "metadata": {
        "id": "zsyZjqak8DC2"
      },
      "source": [
        "## Visualization & Explanatory Analysis"
      ]
    },
    {
      "cell_type": "markdown",
      "metadata": {
        "id": "HZxOiQ6n8DC2"
      },
      "source": [
        "### Pertanyaan 1: Bagaimana tren peminjaman sepeda di tahun 2011 dan 2012?"
      ]
    },
    {
      "cell_type": "markdown",
      "metadata": {
        "id": "rmS5byAa3tiW"
      },
      "source": [
        "#### Visualiasai tren peminjaman sepeda dari 2011-2012"
      ]
    },
    {
      "cell_type": "code",
      "execution_count": 69,
      "metadata": {
        "colab": {
          "base_uri": "https://localhost:8080/",
          "height": 496
        },
        "id": "1swJUdAD8DC2",
        "outputId": "0d5f5c29-0e92-490d-ac4b-aac1624ebdb1"
      },
      "outputs": [
        {
          "output_type": "display_data",
          "data": {
            "text/plain": [
              "<Figure size 1000x500 with 1 Axes>"
            ],
            "image/png": "[encoded data removed]"
          },
          "metadata": {}
        }
      ],
      "source": [
        "# Line chart jumlah peminjaman sepeda harian\n",
        "plt.figure(figsize=(10, 5))\n",
        "plt.plot(df_day['dteday'], df_day['cnt'], label='Total Peminjaman', color='tab:green', alpha=0.8)\n",
        "plt.xlabel(\"Tanggal\")\n",
        "plt.ylabel(\"Jumlah Peminjaman\")\n",
        "plt.title(\"Peminjaman Sepeda Harian\")\n",
        "plt.legend()\n",
        "plt.grid(True)\n",
        "plt.show()"
      ]
    },
    {
      "cell_type": "markdown",
      "metadata": {
        "id": "CaulJmCg0eSm"
      },
      "source": [
        "> Terlihat jika grafik peminjaman harian pada 2012 mengalami peningkatan dibandingkan tahun 2012"
      ]
    },
    {
      "cell_type": "markdown",
      "metadata": {
        "id": "DgHI7CiU8DC2"
      },
      "source": [
        "### Pertanyaan 2: Apakah musim dan cuaca mempengaruhi pola jumlah peminjaman?\n"
      ]
    },
    {
      "cell_type": "markdown",
      "metadata": {
        "id": "MfBW0Kgj3ex0"
      },
      "source": [
        "#### Visualisasi total peminjaman berdasarkan musim"
      ]
    },
    {
      "cell_type": "code",
      "execution_count": 70,
      "metadata": {
        "colab": {
          "base_uri": "https://localhost:8080/",
          "height": 419
        },
        "id": "Go0lCsvO8DC2",
        "outputId": "d8ab29f5-3415-49c4-f92d-8f1132dc29f1"
      },
      "outputs": [
        {
          "output_type": "display_data",
          "data": {
            "text/plain": [
              "<Figure size 800x400 with 1 Axes>"
            ],
            "image/png": "[encoded data removed]"
          },
          "metadata": {}
        }
      ],
      "source": [
        "#Bar chart pula peminjaman berdasarkan musim\n",
        "plt.figure(figsize=(8, 4))\n",
        "sns.barplot(x=df_day[\"season\"], y=df_day[\"cnt\"], hue=df_day[\"season\"], palette=\"Set2\")\n",
        "plt.xlabel(\"Musim\")\n",
        "plt.ylabel(\"Jumlah Peminjaman\")\n",
        "plt.title(\"Pola Peminjaman Berdasarkan Musim\")\n",
        "plt.grid(axis='y')\n",
        "plt.show()"
      ]
    },
    {
      "cell_type": "markdown",
      "metadata": {
        "id": "day4iJDS3Goj"
      },
      "source": [
        "Terlihat pada bar chart, peminjaman sepeda paling banyak di musim gugur, dan paling sedikit di musim semi"
      ]
    },
    {
      "cell_type": "markdown",
      "metadata": {
        "id": "FhV3dEiS4Eq9"
      },
      "source": [
        "#### Visualisasi total peminjaman berdasarkan cuaca"
      ]
    },
    {
      "cell_type": "code",
      "execution_count": 71,
      "metadata": {
        "colab": {
          "base_uri": "https://localhost:8080/",
          "height": 419
        },
        "id": "vVlz5wdG4i0o",
        "outputId": "7f56d53b-03c0-4f01-803c-3254c8ca0397"
      },
      "outputs": [
        {
          "output_type": "display_data",
          "data": {
            "text/plain": [
              "<Figure size 800x400 with 1 Axes>"
            ],
            "image/png": "[encoded data removed]"
          },
          "metadata": {}
        }
      ],
      "source": [
        "#Bar chart pola peminjaman berdasarkan cuaca\n",
        "plt.figure(figsize=(8, 4))\n",
        "sns.barplot(x=df_day[\"weathersit\"], y=df_day[\"cnt\"], hue=df_day[\"weathersit\"], palette=\"Set3\")\n",
        "plt.xlabel(\"Kondisi Cuaca\")\n",
        "plt.ylabel(\"Jumlah Peminjaman\")\n",
        "plt.title(\"Pola Peminjaman Berdasarkan Cuaca ☀️\")\n",
        "plt.grid(axis='y')\n",
        "plt.show()"
      ]
    },
    {
      "cell_type": "markdown",
      "metadata": {
        "id": "atniG78J4G0M"
      },
      "source": [
        "Pengguna paling suka meminjam sepeda di cuaca clear(cerah), diikuti cloudy(berawan). Ketika hujan atau salju, peminjaman menjadi turun drastis"
      ]
    },
    {
      "cell_type": "markdown",
      "metadata": {
        "id": "sq4mysjs69GI"
      },
      "source": [
        "### Pertanyaan 3: Dalam sehari, pada waktu kapan terjadi peminjaman tertinggi dan terendah?\n"
      ]
    },
    {
      "cell_type": "markdown",
      "metadata": {
        "id": "I5l9ntSA8boQ"
      },
      "source": [
        "#### Visualisasi total peminjaman berdasarkam jam dalam sehari"
      ]
    },
    {
      "cell_type": "code",
      "execution_count": 72,
      "metadata": {
        "colab": {
          "base_uri": "https://localhost:8080/",
          "height": 419
        },
        "id": "CjnTQt3Q7kOk",
        "outputId": "15e253ae-3499-4351-90c3-b00ca7ac154c"
      },
      "outputs": [
        {
          "output_type": "display_data",
          "data": {
            "text/plain": [
              "<Figure size 800x400 with 1 Axes>"
            ],
            "image/png": "[encoded data removed]"
          },
          "metadata": {}
        }
      ],
      "source": [
        "plt.figure(figsize=(8, 4))\n",
        "sns.lineplot(x=df_hour[\"hr\"], y=df_hour[\"cnt\"],color=\"b\", marker=\"o\")\n",
        "plt.xlabel(\"Jam dalam Sehari\")\n",
        "plt.ylabel(\"Rata-rata Jumlah Peminjaman\")\n",
        "plt.title(\"Pola Peminjaman Berdasarkan Jam dalam Sehari\")\n",
        "plt.grid(axis='y')\n",
        "plt.xticks(range(0, 24))\n",
        "plt.show()"
      ]
    },
    {
      "cell_type": "markdown",
      "metadata": {
        "id": "EMRarx2l8uRH"
      },
      "source": [
        "Peminjaman tertinggi terjadi di sore hari yaitu sekitar pukul 16-18,  diikuti pagi hari di pukul 7-9 juga terjadi lonjakan peminjaman. Pada subuh peminjaman paling sedikit karena jam tidur"
      ]
    },
    {
      "cell_type": "markdown",
      "metadata": {
        "id": "_0-36BDLklRg"
      },
      "source": [
        "**Insight:**\n",
        "- Terjadi peningkatan tren peminjaman sepeda dari tahun 2011 ke 2012\n",
        "- Musim gugur menjadi musim yang paling banyak orang-orang meminjam sepeda, dan musim semi paling sedikit\n",
        "- Peminjaman tertinggi di saat cuaca sedang cerah, dan paling sedikit di waktu hujan atau bersalju\n",
        "- Jam sibuk di pagi hari dan sore hari, terjadi lonjakan peminjaman yang tinggi, sedangkan saat jam tidur menjadi waktu peminjaman paling sedikit"
      ]
    },
    {
      "cell_type": "markdown",
      "metadata": {
        "id": "9y4VUsmcYNZ5"
      },
      "source": [
        "## Analisis Lanjutan (Opsional)"
      ]
    },
    {
      "cell_type": "markdown",
      "metadata": {
        "id": "hf4vcAnICTQj"
      },
      "source": [
        "#### Mencari tahu lebih dalam mengenai pola peminjaman registered dan casual terhadap jam dalam sehari"
      ]
    },
    {
      "cell_type": "code",
      "execution_count": 73,
      "metadata": {
        "colab": {
          "base_uri": "https://localhost:8080/",
          "height": 601
        },
        "id": "iWhnzsJGYUCO",
        "outputId": "bbdc3323-fe61-4cb0-c726-3160520b9c00"
      },
      "outputs": [
        {
          "output_type": "display_data",
          "data": {
            "text/plain": [
              "<Figure size 1200x600 with 1 Axes>"
            ],
            "image/png": "[encoded data removed]"
          },
          "metadata": {}
        }
      ],
      "source": [
        "# Pembuatan 2 line registered dan casual\n",
        "sns.set_theme(style=\"whitegrid\")\n",
        "avg_hourly_usage = df_hour.groupby(\"hr\")[[\"casual\", \"registered\"]].mean()\n",
        "plt.figure(figsize=(12, 6))\n",
        "plt.plot(avg_hourly_usage.index, avg_hourly_usage[\"casual\"], label=\"Casual Users\", color=\"tomato\", linestyle=\"--\", linewidth=2.5, marker=\"o\", markersize=8)\n",
        "plt.plot(avg_hourly_usage.index, avg_hourly_usage[\"registered\"], label=\"Registered Users\", color=\"dodgerblue\", linestyle=\"-\", linewidth=2.5, marker=\"s\", markersize=8)\n",
        "\n",
        "\n",
        "# Judul dan label\n",
        "plt.xlabel(\"Jam dalam Sehari\", fontsize=12)\n",
        "plt.ylabel(\"Rata-rata Jumlah Peminjaman\", fontsize=12)\n",
        "plt.title(\"Perbandingan Pola Peminjaman: Casual vs. Registered Users\", fontsize=14, pad=20)\n",
        "plt.xticks(range(0, 24), fontsize=10)\n",
        "plt.yticks(fontsize=10)\n",
        "plt.legend(loc=\"upper left\", fontsize=10)\n",
        "plt.grid(True, linestyle=\"--\", alpha=0.7)\n",
        "plt.tight_layout()\n",
        "plt.show()"
      ]
    },
    {
      "cell_type": "markdown",
      "metadata": {
        "id": "dKS02XNyCouS"
      },
      "source": [
        "**Insight:**\n",
        "- Terdapat perbedaan dari pola peminjaman antara registered dan casual\n",
        "- Registered user biasanya meminjam di jam sibuk, sedangkan casual di pertengahan hari\n",
        "- Bisa di analisa, jika registered user meminjam sepeda di jam sibuk, ini mungkin karena sepeda menjadi opsi transportasi utama mereka. Dan hal ini yang mendorong mereka menjadi Registered User (peminjam terdaftar)\n"
      ]
    },
    {
      "cell_type": "markdown",
      "metadata": {
        "id": "_WeHlCeX8DC2"
      },
      "source": [
        "## Conclusion"
      ]
    },
    {
      "cell_type": "markdown",
      "metadata": {
        "id": "ZTcyR48Y8DC2"
      },
      "source": [
        "- Conclution pertanyaan 1 :  Terjadi kenaikan tren peminjaman dari tahun 2011 ke tahun 2012, ini menunjukkan prospek yang menjanjikan bagi bisnis ini untuk berkembang ke depannya\n",
        "- Conclution pertanyaan 2 : Musim gugur menjadi musim terbaik bisnis ini, namun cuaca sangat mempengaruhi jumlah peminjaman sepeda. Mungkin pemilik bisnis bisa mengantisipasi ini seperti menyewa jas hujan juga, agar tidak terjadi penurunan penyewaan\n",
        "- Conclution pertanyaan 3 : Pagi dan Sore hari merupakan jam sibuk, dan terjadi penyuwaaan terbanyak, dengan puncaknya di sore hari"
      ]
    }
  ],
  "metadata": {
    "colab": {
      "collapsed_sections": [
        "H-z4QGlO8DC1",
        "h_Sh51Xy8DC1"
      ],
      "provenance": [],
      "toc_visible": true
    },
    "kernelspec": {
      "display_name": "Python 3",
      "language": "python",
      "name": "python3"
    },
    "language_info": {
      "name": "python",
      "version": "3.8.0 (tags/v3.8.0:fa919fd, Oct 14 2019, 19:21:23) [MSC v.1916 32 bit (Intel)]"
    },
    "vscode": {
      "interpreter": {
        "hash": "972b3bf27e332e87b5379f2791f6ef9dfc79c71018c370b0d7423235e20fe4d7"
      }
    }
  },
  "nbformat": 4,
  "nbformat_minor": 0
}