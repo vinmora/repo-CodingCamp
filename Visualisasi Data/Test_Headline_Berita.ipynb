{
  "cells": [
    {
      "cell_type": "markdown",
      "id": "bc2f3093",
      "metadata": {
        "id": "bc2f3093"
      },
      "source": [
        "# **Tugas 2 Laboratorium Probabilitas dan Statistika - Data Preprocessing & EDA (Part 1)**\n",
        "__(Ananda Kelvin P. S. / 221401065)__"
      ]
    },
    {
      "cell_type": "markdown",
      "id": "ba1ee27f",
      "metadata": {
        "id": "ba1ee27f"
      },
      "source": [
        "***"
      ]
    },
    {
      "cell_type": "markdown",
      "id": "6e5729f7",
      "metadata": {
        "tags": [],
        "id": "6e5729f7"
      },
      "source": [
        "# Menganalisis Headline Berita detikcom Tahun 2020 Semester I"
      ]
    },
    {
      "cell_type": "markdown",
      "id": "54d3cae2",
      "metadata": {
        "id": "54d3cae2"
      },
      "source": [
        "***"
      ]
    },
    {
      "cell_type": "markdown",
      "id": "8b9db121",
      "metadata": {
        "id": "8b9db121"
      },
      "source": [
        " ## Import Library & Class"
      ]
    },
    {
      "cell_type": "markdown",
      "id": "108e2383",
      "metadata": {
        "id": "108e2383"
      },
      "source": [
        "> ### Import Library"
      ]
    },
    {
      "cell_type": "markdown",
      "id": "d740a225",
      "metadata": {
        "id": "d740a225"
      },
      "source": [
        "1. Mengimport library __pandas__ dan memberikan alias __pd__ agar lebih mudah digunakan saat memanggil fungsi atau objek dari library pandas"
      ]
    },
    {
      "cell_type": "markdown",
      "id": "516c70bd",
      "metadata": {
        "id": "516c70bd"
      },
      "source": [
        "2. Mengimport library __matplotlib.pyplot__ dan memberikan alias __plt__ agar lebih mudah digunakan dalam memvisualisasi data"
      ]
    },
    {
      "cell_type": "markdown",
      "id": "d128c91e",
      "metadata": {
        "id": "d128c91e"
      },
      "source": [
        "3. Mengimport library __nltk__ yang merupakan singkatan dari Natural Language Toolkit. Library ini digunakan untuk memproses bahasa alami, seperti tokenisasi, stemming, dan part-of-speech tagging"
      ]
    },
    {
      "cell_type": "markdown",
      "id": "33da5f3f",
      "metadata": {
        "id": "33da5f3f"
      },
      "source": [
        "4. Mengimport library __re__ yang merupakan singkatan dari Regular Expression. Library ini digunakan untuk memanipulasi teks dengan menggunakan ekspresi reguler"
      ]
    },
    {
      "cell_type": "markdown",
      "id": "2c2cff49",
      "metadata": {
        "id": "2c2cff49"
      },
      "source": [
        "5. Mengimport library __seaborn__ dan memberikan alias __sns__ agar lebih mudah digunakan untuk membuat visualisasi data yang lebih kompleks dan informatif, seperti heatmap, pairplot, dan distribution plot"
      ]
    },
    {
      "cell_type": "markdown",
      "id": "74f29d1a",
      "metadata": {
        "id": "74f29d1a"
      },
      "source": [
        "6. Mengimport library __numpy__ dan memberikan alias __np__ . Library tersebut akan digunakan untuk melakukan operasi numerik dan membuat garis bantu pada grafik data"
      ]
    },
    {
      "cell_type": "code",
      "execution_count": null,
      "id": "d917fdad",
      "metadata": {
        "id": "d917fdad"
      },
      "outputs": [],
      "source": [
        "import pandas as pd\n",
        "import matplotlib.pyplot as plt\n",
        "import nltk\n",
        "import re\n",
        "import seaborn as sns\n",
        "import numpy as np"
      ]
    },
    {
      "cell_type": "markdown",
      "id": "083b7d6e",
      "metadata": {
        "id": "083b7d6e"
      },
      "source": [
        "> ### Import Class"
      ]
    },
    {
      "cell_type": "markdown",
      "id": "b0c6938c",
      "metadata": {
        "id": "b0c6938c"
      },
      "source": [
        "1. Mengimport class __Counter__ dari library __collections__. Class Counter digunakan untuk menghitung jumlah kemunculan setiap elemen dalam sebuah list"
      ]
    },
    {
      "cell_type": "markdown",
      "id": "51967a28",
      "metadata": {
        "id": "51967a28"
      },
      "source": [
        "2.  Mengimport __corpus stopwords__ dari library __nltk__. Corpus stopwords berisi daftar kata-kata yang biasanya diabaikan dalam analisis teks karena kata-kata tersebut memiliki makna umum dan tidak relevan dalam menganalisis teks"
      ]
    },
    {
      "cell_type": "code",
      "execution_count": null,
      "id": "740108b7",
      "metadata": {
        "id": "740108b7"
      },
      "outputs": [],
      "source": [
        "from collections import Counter\n",
        "from nltk.corpus import stopwords"
      ]
    },
    {
      "cell_type": "markdown",
      "id": "b67d928f",
      "metadata": {
        "id": "b67d928f"
      },
      "source": [
        "***"
      ]
    },
    {
      "cell_type": "markdown",
      "id": "70c7162f",
      "metadata": {
        "id": "70c7162f"
      },
      "source": [
        " ## Load Dataset"
      ]
    },
    {
      "cell_type": "code",
      "execution_count": null,
      "id": "b3a1efe0",
      "metadata": {
        "id": "b3a1efe0",
        "outputId": "7423d3ca-3a6a-4243-90f8-9b9eb4318dcf"
      },
      "outputs": [
        {
          "data": {
            "text/html": [
              "<div>\n",
              "<style scoped>\n",
              "    .dataframe tbody tr th:only-of-type {\n",
              "        vertical-align: middle;\n",
              "    }\n",
              "\n",
              "    .dataframe tbody tr th {\n",
              "        vertical-align: top;\n",
              "    }\n",
              "\n",
              "    .dataframe thead th {\n",
              "        text-align: right;\n",
              "    }\n",
              "</style>\n",
              "<table border=\"1\" class=\"dataframe\">\n",
              "  <thead>\n",
              "    <tr style=\"text-align: right;\">\n",
              "      <th></th>\n",
              "      <th>date</th>\n",
              "      <th>url</th>\n",
              "      <th>title</th>\n",
              "      <th>category</th>\n",
              "    </tr>\n",
              "  </thead>\n",
              "  <tbody>\n",
              "    <tr>\n",
              "      <th>0</th>\n",
              "      <td>02/26/2020</td>\n",
              "      <td>https://finance.detik.com/berita-ekonomi-bisni...</td>\n",
              "      <td>Kemnaker Awasi TKA di Meikarta</td>\n",
              "      <td>finance</td>\n",
              "    </tr>\n",
              "    <tr>\n",
              "      <th>1</th>\n",
              "      <td>02/26/2020</td>\n",
              "      <td>https://finance.detik.com/berita-ekonomi-bisni...</td>\n",
              "      <td>BNI Digitalkan BNI Java Jazz 2020</td>\n",
              "      <td>finance</td>\n",
              "    </tr>\n",
              "    <tr>\n",
              "      <th>2</th>\n",
              "      <td>02/26/2020</td>\n",
              "      <td>https://finance.detik.com/berita-ekonomi-bisni...</td>\n",
              "      <td>Terbang ke Australia, Edhy Prabowo Mau Genjot ...</td>\n",
              "      <td>finance</td>\n",
              "    </tr>\n",
              "    <tr>\n",
              "      <th>3</th>\n",
              "      <td>02/26/2020</td>\n",
              "      <td>https://finance.detik.com/moneter/d-4916133/oj...</td>\n",
              "      <td>OJK Siapkan Stimulus Ekonomi Antisipasi Dampak...</td>\n",
              "      <td>finance</td>\n",
              "    </tr>\n",
              "    <tr>\n",
              "      <th>4</th>\n",
              "      <td>02/26/2020</td>\n",
              "      <td>https://finance.detik.com/berita-ekonomi-bisni...</td>\n",
              "      <td>Saran Buat Anies-RK yang Mangkir Rapat Banjir ...</td>\n",
              "      <td>finance</td>\n",
              "    </tr>\n",
              "    <tr>\n",
              "      <th>...</th>\n",
              "      <td>...</td>\n",
              "      <td>...</td>\n",
              "      <td>...</td>\n",
              "      <td>...</td>\n",
              "    </tr>\n",
              "    <tr>\n",
              "      <th>91012</th>\n",
              "      <td>02/03/2020</td>\n",
              "      <td>https://travel.detik.com/travel-news/d-4882807...</td>\n",
              "      <td>Ketumpahan Air Panas di Pesawat, Kamu Bisa Tun...</td>\n",
              "      <td>travel</td>\n",
              "    </tr>\n",
              "    <tr>\n",
              "      <th>91013</th>\n",
              "      <td>02/03/2020</td>\n",
              "      <td>https://travel.detik.com/fototravel/d-4882796/...</td>\n",
              "      <td>Foto: Bali &amp; 9 Destinasi Paling Instagramable ...</td>\n",
              "      <td>travel</td>\n",
              "    </tr>\n",
              "    <tr>\n",
              "      <th>91014</th>\n",
              "      <td>02/03/2020</td>\n",
              "      <td>https://travel.detik.com/travel-news/d-4882794...</td>\n",
              "      <td>Game Bikin Turis Ini Liburan ke Jepang untuk.....</td>\n",
              "      <td>travel</td>\n",
              "    </tr>\n",
              "    <tr>\n",
              "      <th>91015</th>\n",
              "      <td>02/03/2020</td>\n",
              "      <td>https://travel.detik.com/travel-news/d-4882792...</td>\n",
              "      <td>Sekeluarga Didepak dari Pesawat, Maskapai Bila...</td>\n",
              "      <td>travel</td>\n",
              "    </tr>\n",
              "    <tr>\n",
              "      <th>91016</th>\n",
              "      <td>02/03/2020</td>\n",
              "      <td>https://travel.detik.com/travel-news/d-4882791...</td>\n",
              "      <td>Kapal Raib di Segitiga Bermuda, Nyaris Seabad ...</td>\n",
              "      <td>travel</td>\n",
              "    </tr>\n",
              "  </tbody>\n",
              "</table>\n",
              "<p>91017 rows × 4 columns</p>\n",
              "</div>"
            ],
            "text/plain": [
              "             date                                                url  \\\n",
              "0      02/26/2020  https://finance.detik.com/berita-ekonomi-bisni...   \n",
              "1      02/26/2020  https://finance.detik.com/berita-ekonomi-bisni...   \n",
              "2      02/26/2020  https://finance.detik.com/berita-ekonomi-bisni...   \n",
              "3      02/26/2020  https://finance.detik.com/moneter/d-4916133/oj...   \n",
              "4      02/26/2020  https://finance.detik.com/berita-ekonomi-bisni...   \n",
              "...           ...                                                ...   \n",
              "91012  02/03/2020  https://travel.detik.com/travel-news/d-4882807...   \n",
              "91013  02/03/2020  https://travel.detik.com/fototravel/d-4882796/...   \n",
              "91014  02/03/2020  https://travel.detik.com/travel-news/d-4882794...   \n",
              "91015  02/03/2020  https://travel.detik.com/travel-news/d-4882792...   \n",
              "91016  02/03/2020  https://travel.detik.com/travel-news/d-4882791...   \n",
              "\n",
              "                                                   title category  \n",
              "0                         Kemnaker Awasi TKA di Meikarta  finance  \n",
              "1                      BNI Digitalkan BNI Java Jazz 2020  finance  \n",
              "2      Terbang ke Australia, Edhy Prabowo Mau Genjot ...  finance  \n",
              "3      OJK Siapkan Stimulus Ekonomi Antisipasi Dampak...  finance  \n",
              "4      Saran Buat Anies-RK yang Mangkir Rapat Banjir ...  finance  \n",
              "...                                                  ...      ...  \n",
              "91012  Ketumpahan Air Panas di Pesawat, Kamu Bisa Tun...   travel  \n",
              "91013  Foto: Bali & 9 Destinasi Paling Instagramable ...   travel  \n",
              "91014  Game Bikin Turis Ini Liburan ke Jepang untuk.....   travel  \n",
              "91015  Sekeluarga Didepak dari Pesawat, Maskapai Bila...   travel  \n",
              "91016  Kapal Raib di Segitiga Bermuda, Nyaris Seabad ...   travel  \n",
              "\n",
              "[91017 rows x 4 columns]"
            ]
          },
          "execution_count": 4,
          "metadata": {},
          "output_type": "execute_result"
        }
      ],
      "source": [
        "df = pd.read_csv('detik-news-title.csv')\n",
        "\n",
        "df"
      ]
    },
    {
      "cell_type": "markdown",
      "id": "99e5c42d",
      "metadata": {
        "id": "99e5c42d"
      },
      "source": [
        "***"
      ]
    },
    {
      "cell_type": "markdown",
      "id": "1a26d795",
      "metadata": {
        "tags": [],
        "id": "1a26d795"
      },
      "source": [
        "## Data Preprocessing"
      ]
    },
    {
      "cell_type": "markdown",
      "id": "7ec5a31f-18d5-413b-b901-88574121733e",
      "metadata": {
        "tags": [],
        "id": "7ec5a31f-18d5-413b-b901-88574121733e"
      },
      "source": [
        " ### Data Wrangling"
      ]
    },
    {
      "cell_type": "markdown",
      "id": "ec8c1304",
      "metadata": {
        "id": "ec8c1304"
      },
      "source": [
        " * #### Mengubah Format Tanggal"
      ]
    },
    {
      "cell_type": "markdown",
      "id": "c33d3006",
      "metadata": {
        "id": "c33d3006"
      },
      "source": [
        "> Pada dataset, kolom 'date' sedikit sulit dibaca karena tanggal ditulis dalam format MM/DD/YYYY di mana format ini digunakan di US, berbeda dengan format di Indonesia yang menggunakan DD/MM/YYYY. Solusinya adalah mengambil jalan tengah dengan mengubah menjadi format standar ISO 8601 (YYYY-MM-DD) menggunakan regex untuk konsistensi dan kemudahan penggunaan."
      ]
    },
    {
      "cell_type": "code",
      "execution_count": null,
      "id": "4b496910",
      "metadata": {
        "id": "4b496910",
        "outputId": "40b098e2-b8c6-44db-f9dd-67c8d4df7892"
      },
      "outputs": [
        {
          "data": {
            "text/html": [
              "<div>\n",
              "<style scoped>\n",
              "    .dataframe tbody tr th:only-of-type {\n",
              "        vertical-align: middle;\n",
              "    }\n",
              "\n",
              "    .dataframe tbody tr th {\n",
              "        vertical-align: top;\n",
              "    }\n",
              "\n",
              "    .dataframe thead th {\n",
              "        text-align: right;\n",
              "    }\n",
              "</style>\n",
              "<table border=\"1\" class=\"dataframe\">\n",
              "  <thead>\n",
              "    <tr style=\"text-align: right;\">\n",
              "      <th></th>\n",
              "      <th>date</th>\n",
              "      <th>url</th>\n",
              "      <th>title</th>\n",
              "      <th>category</th>\n",
              "    </tr>\n",
              "  </thead>\n",
              "  <tbody>\n",
              "    <tr>\n",
              "      <th>0</th>\n",
              "      <td>2020-02-26</td>\n",
              "      <td>https://finance.detik.com/berita-ekonomi-bisni...</td>\n",
              "      <td>Kemnaker Awasi TKA di Meikarta</td>\n",
              "      <td>finance</td>\n",
              "    </tr>\n",
              "    <tr>\n",
              "      <th>1</th>\n",
              "      <td>2020-02-26</td>\n",
              "      <td>https://finance.detik.com/berita-ekonomi-bisni...</td>\n",
              "      <td>BNI Digitalkan BNI Java Jazz 2020</td>\n",
              "      <td>finance</td>\n",
              "    </tr>\n",
              "    <tr>\n",
              "      <th>2</th>\n",
              "      <td>2020-02-26</td>\n",
              "      <td>https://finance.detik.com/berita-ekonomi-bisni...</td>\n",
              "      <td>Terbang ke Australia, Edhy Prabowo Mau Genjot ...</td>\n",
              "      <td>finance</td>\n",
              "    </tr>\n",
              "    <tr>\n",
              "      <th>3</th>\n",
              "      <td>2020-02-26</td>\n",
              "      <td>https://finance.detik.com/moneter/d-4916133/oj...</td>\n",
              "      <td>OJK Siapkan Stimulus Ekonomi Antisipasi Dampak...</td>\n",
              "      <td>finance</td>\n",
              "    </tr>\n",
              "    <tr>\n",
              "      <th>4</th>\n",
              "      <td>2020-02-26</td>\n",
              "      <td>https://finance.detik.com/berita-ekonomi-bisni...</td>\n",
              "      <td>Saran Buat Anies-RK yang Mangkir Rapat Banjir ...</td>\n",
              "      <td>finance</td>\n",
              "    </tr>\n",
              "    <tr>\n",
              "      <th>...</th>\n",
              "      <td>...</td>\n",
              "      <td>...</td>\n",
              "      <td>...</td>\n",
              "      <td>...</td>\n",
              "    </tr>\n",
              "    <tr>\n",
              "      <th>91012</th>\n",
              "      <td>2020-02-03</td>\n",
              "      <td>https://travel.detik.com/travel-news/d-4882807...</td>\n",
              "      <td>Ketumpahan Air Panas di Pesawat, Kamu Bisa Tun...</td>\n",
              "      <td>travel</td>\n",
              "    </tr>\n",
              "    <tr>\n",
              "      <th>91013</th>\n",
              "      <td>2020-02-03</td>\n",
              "      <td>https://travel.detik.com/fototravel/d-4882796/...</td>\n",
              "      <td>Foto: Bali &amp; 9 Destinasi Paling Instagramable ...</td>\n",
              "      <td>travel</td>\n",
              "    </tr>\n",
              "    <tr>\n",
              "      <th>91014</th>\n",
              "      <td>2020-02-03</td>\n",
              "      <td>https://travel.detik.com/travel-news/d-4882794...</td>\n",
              "      <td>Game Bikin Turis Ini Liburan ke Jepang untuk.....</td>\n",
              "      <td>travel</td>\n",
              "    </tr>\n",
              "    <tr>\n",
              "      <th>91015</th>\n",
              "      <td>2020-02-03</td>\n",
              "      <td>https://travel.detik.com/travel-news/d-4882792...</td>\n",
              "      <td>Sekeluarga Didepak dari Pesawat, Maskapai Bila...</td>\n",
              "      <td>travel</td>\n",
              "    </tr>\n",
              "    <tr>\n",
              "      <th>91016</th>\n",
              "      <td>2020-02-03</td>\n",
              "      <td>https://travel.detik.com/travel-news/d-4882791...</td>\n",
              "      <td>Kapal Raib di Segitiga Bermuda, Nyaris Seabad ...</td>\n",
              "      <td>travel</td>\n",
              "    </tr>\n",
              "  </tbody>\n",
              "</table>\n",
              "<p>91017 rows × 4 columns</p>\n",
              "</div>"
            ],
            "text/plain": [
              "             date                                                url  \\\n",
              "0      2020-02-26  https://finance.detik.com/berita-ekonomi-bisni...   \n",
              "1      2020-02-26  https://finance.detik.com/berita-ekonomi-bisni...   \n",
              "2      2020-02-26  https://finance.detik.com/berita-ekonomi-bisni...   \n",
              "3      2020-02-26  https://finance.detik.com/moneter/d-4916133/oj...   \n",
              "4      2020-02-26  https://finance.detik.com/berita-ekonomi-bisni...   \n",
              "...           ...                                                ...   \n",
              "91012  2020-02-03  https://travel.detik.com/travel-news/d-4882807...   \n",
              "91013  2020-02-03  https://travel.detik.com/fototravel/d-4882796/...   \n",
              "91014  2020-02-03  https://travel.detik.com/travel-news/d-4882794...   \n",
              "91015  2020-02-03  https://travel.detik.com/travel-news/d-4882792...   \n",
              "91016  2020-02-03  https://travel.detik.com/travel-news/d-4882791...   \n",
              "\n",
              "                                                   title category  \n",
              "0                         Kemnaker Awasi TKA di Meikarta  finance  \n",
              "1                      BNI Digitalkan BNI Java Jazz 2020  finance  \n",
              "2      Terbang ke Australia, Edhy Prabowo Mau Genjot ...  finance  \n",
              "3      OJK Siapkan Stimulus Ekonomi Antisipasi Dampak...  finance  \n",
              "4      Saran Buat Anies-RK yang Mangkir Rapat Banjir ...  finance  \n",
              "...                                                  ...      ...  \n",
              "91012  Ketumpahan Air Panas di Pesawat, Kamu Bisa Tun...   travel  \n",
              "91013  Foto: Bali & 9 Destinasi Paling Instagramable ...   travel  \n",
              "91014  Game Bikin Turis Ini Liburan ke Jepang untuk.....   travel  \n",
              "91015  Sekeluarga Didepak dari Pesawat, Maskapai Bila...   travel  \n",
              "91016  Kapal Raib di Segitiga Bermuda, Nyaris Seabad ...   travel  \n",
              "\n",
              "[91017 rows x 4 columns]"
            ]
          },
          "execution_count": 4,
          "metadata": {},
          "output_type": "execute_result"
        }
      ],
      "source": [
        "df['date'] = pd.to_datetime(df['date'], format='%m/%d/%Y')\n",
        "df['date'] = df['date'].dt.strftime('%Y-%m-%d')\n",
        "\n",
        "df"
      ]
    },
    {
      "cell_type": "markdown",
      "id": "bb358c6c",
      "metadata": {
        "id": "bb358c6c"
      },
      "source": [
        "* #### Menghitung Panjang Judul"
      ]
    },
    {
      "cell_type": "markdown",
      "id": "97b57111",
      "metadata": {
        "id": "97b57111"
      },
      "source": [
        "> Menghitung panjang judul (jumlah karakter) dan menambahkannya sebagai kolom baru dalam dataset sehingga bisa membantu menganalisis distribusi panjang judul dalam dataset."
      ]
    },
    {
      "cell_type": "code",
      "execution_count": null,
      "id": "82c1098e",
      "metadata": {
        "id": "82c1098e",
        "outputId": "21f29d15-2ba0-46a1-bdd4-e7d2d26a71c5"
      },
      "outputs": [
        {
          "data": {
            "text/html": [
              "<div>\n",
              "<style scoped>\n",
              "    .dataframe tbody tr th:only-of-type {\n",
              "        vertical-align: middle;\n",
              "    }\n",
              "\n",
              "    .dataframe tbody tr th {\n",
              "        vertical-align: top;\n",
              "    }\n",
              "\n",
              "    .dataframe thead th {\n",
              "        text-align: right;\n",
              "    }\n",
              "</style>\n",
              "<table border=\"1\" class=\"dataframe\">\n",
              "  <thead>\n",
              "    <tr style=\"text-align: right;\">\n",
              "      <th></th>\n",
              "      <th>date</th>\n",
              "      <th>url</th>\n",
              "      <th>title</th>\n",
              "      <th>category</th>\n",
              "      <th>title_length</th>\n",
              "    </tr>\n",
              "  </thead>\n",
              "  <tbody>\n",
              "    <tr>\n",
              "      <th>0</th>\n",
              "      <td>2020-02-26</td>\n",
              "      <td>https://finance.detik.com/berita-ekonomi-bisni...</td>\n",
              "      <td>Kemnaker Awasi TKA di Meikarta</td>\n",
              "      <td>finance</td>\n",
              "      <td>30</td>\n",
              "    </tr>\n",
              "    <tr>\n",
              "      <th>1</th>\n",
              "      <td>2020-02-26</td>\n",
              "      <td>https://finance.detik.com/berita-ekonomi-bisni...</td>\n",
              "      <td>BNI Digitalkan BNI Java Jazz 2020</td>\n",
              "      <td>finance</td>\n",
              "      <td>33</td>\n",
              "    </tr>\n",
              "    <tr>\n",
              "      <th>2</th>\n",
              "      <td>2020-02-26</td>\n",
              "      <td>https://finance.detik.com/berita-ekonomi-bisni...</td>\n",
              "      <td>Terbang ke Australia, Edhy Prabowo Mau Genjot ...</td>\n",
              "      <td>finance</td>\n",
              "      <td>63</td>\n",
              "    </tr>\n",
              "    <tr>\n",
              "      <th>3</th>\n",
              "      <td>2020-02-26</td>\n",
              "      <td>https://finance.detik.com/moneter/d-4916133/oj...</td>\n",
              "      <td>OJK Siapkan Stimulus Ekonomi Antisipasi Dampak...</td>\n",
              "      <td>finance</td>\n",
              "      <td>53</td>\n",
              "    </tr>\n",
              "    <tr>\n",
              "      <th>4</th>\n",
              "      <td>2020-02-26</td>\n",
              "      <td>https://finance.detik.com/berita-ekonomi-bisni...</td>\n",
              "      <td>Saran Buat Anies-RK yang Mangkir Rapat Banjir ...</td>\n",
              "      <td>finance</td>\n",
              "      <td>52</td>\n",
              "    </tr>\n",
              "    <tr>\n",
              "      <th>...</th>\n",
              "      <td>...</td>\n",
              "      <td>...</td>\n",
              "      <td>...</td>\n",
              "      <td>...</td>\n",
              "      <td>...</td>\n",
              "    </tr>\n",
              "    <tr>\n",
              "      <th>91012</th>\n",
              "      <td>2020-02-03</td>\n",
              "      <td>https://travel.detik.com/travel-news/d-4882807...</td>\n",
              "      <td>Ketumpahan Air Panas di Pesawat, Kamu Bisa Tun...</td>\n",
              "      <td>travel</td>\n",
              "      <td>58</td>\n",
              "    </tr>\n",
              "    <tr>\n",
              "      <th>91013</th>\n",
              "      <td>2020-02-03</td>\n",
              "      <td>https://travel.detik.com/fototravel/d-4882796/...</td>\n",
              "      <td>Foto: Bali &amp; 9 Destinasi Paling Instagramable ...</td>\n",
              "      <td>travel</td>\n",
              "      <td>56</td>\n",
              "    </tr>\n",
              "    <tr>\n",
              "      <th>91014</th>\n",
              "      <td>2020-02-03</td>\n",
              "      <td>https://travel.detik.com/travel-news/d-4882794...</td>\n",
              "      <td>Game Bikin Turis Ini Liburan ke Jepang untuk.....</td>\n",
              "      <td>travel</td>\n",
              "      <td>60</td>\n",
              "    </tr>\n",
              "    <tr>\n",
              "      <th>91015</th>\n",
              "      <td>2020-02-03</td>\n",
              "      <td>https://travel.detik.com/travel-news/d-4882792...</td>\n",
              "      <td>Sekeluarga Didepak dari Pesawat, Maskapai Bila...</td>\n",
              "      <td>travel</td>\n",
              "      <td>58</td>\n",
              "    </tr>\n",
              "    <tr>\n",
              "      <th>91016</th>\n",
              "      <td>2020-02-03</td>\n",
              "      <td>https://travel.detik.com/travel-news/d-4882791...</td>\n",
              "      <td>Kapal Raib di Segitiga Bermuda, Nyaris Seabad ...</td>\n",
              "      <td>travel</td>\n",
              "      <td>57</td>\n",
              "    </tr>\n",
              "  </tbody>\n",
              "</table>\n",
              "<p>91017 rows × 5 columns</p>\n",
              "</div>"
            ],
            "text/plain": [
              "             date                                                url  \\\n",
              "0      2020-02-26  https://finance.detik.com/berita-ekonomi-bisni...   \n",
              "1      2020-02-26  https://finance.detik.com/berita-ekonomi-bisni...   \n",
              "2      2020-02-26  https://finance.detik.com/berita-ekonomi-bisni...   \n",
              "3      2020-02-26  https://finance.detik.com/moneter/d-4916133/oj...   \n",
              "4      2020-02-26  https://finance.detik.com/berita-ekonomi-bisni...   \n",
              "...           ...                                                ...   \n",
              "91012  2020-02-03  https://travel.detik.com/travel-news/d-4882807...   \n",
              "91013  2020-02-03  https://travel.detik.com/fototravel/d-4882796/...   \n",
              "91014  2020-02-03  https://travel.detik.com/travel-news/d-4882794...   \n",
              "91015  2020-02-03  https://travel.detik.com/travel-news/d-4882792...   \n",
              "91016  2020-02-03  https://travel.detik.com/travel-news/d-4882791...   \n",
              "\n",
              "                                                   title category  \\\n",
              "0                         Kemnaker Awasi TKA di Meikarta  finance   \n",
              "1                      BNI Digitalkan BNI Java Jazz 2020  finance   \n",
              "2      Terbang ke Australia, Edhy Prabowo Mau Genjot ...  finance   \n",
              "3      OJK Siapkan Stimulus Ekonomi Antisipasi Dampak...  finance   \n",
              "4      Saran Buat Anies-RK yang Mangkir Rapat Banjir ...  finance   \n",
              "...                                                  ...      ...   \n",
              "91012  Ketumpahan Air Panas di Pesawat, Kamu Bisa Tun...   travel   \n",
              "91013  Foto: Bali & 9 Destinasi Paling Instagramable ...   travel   \n",
              "91014  Game Bikin Turis Ini Liburan ke Jepang untuk.....   travel   \n",
              "91015  Sekeluarga Didepak dari Pesawat, Maskapai Bila...   travel   \n",
              "91016  Kapal Raib di Segitiga Bermuda, Nyaris Seabad ...   travel   \n",
              "\n",
              "       title_length  \n",
              "0                30  \n",
              "1                33  \n",
              "2                63  \n",
              "3                53  \n",
              "4                52  \n",
              "...             ...  \n",
              "91012            58  \n",
              "91013            56  \n",
              "91014            60  \n",
              "91015            58  \n",
              "91016            57  \n",
              "\n",
              "[91017 rows x 5 columns]"
            ]
          },
          "execution_count": 5,
          "metadata": {},
          "output_type": "execute_result"
        }
      ],
      "source": [
        "df['title_length'] = df['title'].apply(lambda x: len(x))\n",
        "\n",
        "df"
      ]
    },
    {
      "cell_type": "markdown",
      "id": "05914236",
      "metadata": {
        "id": "05914236"
      },
      "source": [
        "***"
      ]
    },
    {
      "cell_type": "markdown",
      "id": "2b1db740",
      "metadata": {
        "tags": [],
        "id": "2b1db740"
      },
      "source": [
        " ### Data Cleaning"
      ]
    },
    {
      "cell_type": "markdown",
      "id": "73cff1d6",
      "metadata": {
        "id": "73cff1d6"
      },
      "source": [
        "* #### Menghapus kolom yang tidak diperlukan"
      ]
    },
    {
      "cell_type": "markdown",
      "id": "d9fffd9a",
      "metadata": {
        "id": "d9fffd9a"
      },
      "source": [
        "Kolom _url_ akan dihapus karena tidak akan dibutuhkan. Seluruh sumber berita terdapat pada situs yang sama yaitu detik.com"
      ]
    },
    {
      "cell_type": "code",
      "execution_count": null,
      "id": "cb65567f",
      "metadata": {
        "id": "cb65567f",
        "outputId": "3226e94d-70f9-4c0f-df5d-62e80e98dcc2"
      },
      "outputs": [
        {
          "data": {
            "text/html": [
              "<div>\n",
              "<style scoped>\n",
              "    .dataframe tbody tr th:only-of-type {\n",
              "        vertical-align: middle;\n",
              "    }\n",
              "\n",
              "    .dataframe tbody tr th {\n",
              "        vertical-align: top;\n",
              "    }\n",
              "\n",
              "    .dataframe thead th {\n",
              "        text-align: right;\n",
              "    }\n",
              "</style>\n",
              "<table border=\"1\" class=\"dataframe\">\n",
              "  <thead>\n",
              "    <tr style=\"text-align: right;\">\n",
              "      <th></th>\n",
              "      <th>date</th>\n",
              "      <th>title</th>\n",
              "      <th>category</th>\n",
              "      <th>title_length</th>\n",
              "    </tr>\n",
              "  </thead>\n",
              "  <tbody>\n",
              "    <tr>\n",
              "      <th>0</th>\n",
              "      <td>2020-02-26</td>\n",
              "      <td>Kemnaker Awasi TKA di Meikarta</td>\n",
              "      <td>finance</td>\n",
              "      <td>30</td>\n",
              "    </tr>\n",
              "    <tr>\n",
              "      <th>1</th>\n",
              "      <td>2020-02-26</td>\n",
              "      <td>BNI Digitalkan BNI Java Jazz 2020</td>\n",
              "      <td>finance</td>\n",
              "      <td>33</td>\n",
              "    </tr>\n",
              "    <tr>\n",
              "      <th>2</th>\n",
              "      <td>2020-02-26</td>\n",
              "      <td>Terbang ke Australia, Edhy Prabowo Mau Genjot ...</td>\n",
              "      <td>finance</td>\n",
              "      <td>63</td>\n",
              "    </tr>\n",
              "    <tr>\n",
              "      <th>3</th>\n",
              "      <td>2020-02-26</td>\n",
              "      <td>OJK Siapkan Stimulus Ekonomi Antisipasi Dampak...</td>\n",
              "      <td>finance</td>\n",
              "      <td>53</td>\n",
              "    </tr>\n",
              "    <tr>\n",
              "      <th>4</th>\n",
              "      <td>2020-02-26</td>\n",
              "      <td>Saran Buat Anies-RK yang Mangkir Rapat Banjir ...</td>\n",
              "      <td>finance</td>\n",
              "      <td>52</td>\n",
              "    </tr>\n",
              "    <tr>\n",
              "      <th>...</th>\n",
              "      <td>...</td>\n",
              "      <td>...</td>\n",
              "      <td>...</td>\n",
              "      <td>...</td>\n",
              "    </tr>\n",
              "    <tr>\n",
              "      <th>91012</th>\n",
              "      <td>2020-02-03</td>\n",
              "      <td>Ketumpahan Air Panas di Pesawat, Kamu Bisa Tun...</td>\n",
              "      <td>travel</td>\n",
              "      <td>58</td>\n",
              "    </tr>\n",
              "    <tr>\n",
              "      <th>91013</th>\n",
              "      <td>2020-02-03</td>\n",
              "      <td>Foto: Bali &amp; 9 Destinasi Paling Instagramable ...</td>\n",
              "      <td>travel</td>\n",
              "      <td>56</td>\n",
              "    </tr>\n",
              "    <tr>\n",
              "      <th>91014</th>\n",
              "      <td>2020-02-03</td>\n",
              "      <td>Game Bikin Turis Ini Liburan ke Jepang untuk.....</td>\n",
              "      <td>travel</td>\n",
              "      <td>60</td>\n",
              "    </tr>\n",
              "    <tr>\n",
              "      <th>91015</th>\n",
              "      <td>2020-02-03</td>\n",
              "      <td>Sekeluarga Didepak dari Pesawat, Maskapai Bila...</td>\n",
              "      <td>travel</td>\n",
              "      <td>58</td>\n",
              "    </tr>\n",
              "    <tr>\n",
              "      <th>91016</th>\n",
              "      <td>2020-02-03</td>\n",
              "      <td>Kapal Raib di Segitiga Bermuda, Nyaris Seabad ...</td>\n",
              "      <td>travel</td>\n",
              "      <td>57</td>\n",
              "    </tr>\n",
              "  </tbody>\n",
              "</table>\n",
              "<p>91017 rows × 4 columns</p>\n",
              "</div>"
            ],
            "text/plain": [
              "             date                                              title category  \\\n",
              "0      2020-02-26                     Kemnaker Awasi TKA di Meikarta  finance   \n",
              "1      2020-02-26                  BNI Digitalkan BNI Java Jazz 2020  finance   \n",
              "2      2020-02-26  Terbang ke Australia, Edhy Prabowo Mau Genjot ...  finance   \n",
              "3      2020-02-26  OJK Siapkan Stimulus Ekonomi Antisipasi Dampak...  finance   \n",
              "4      2020-02-26  Saran Buat Anies-RK yang Mangkir Rapat Banjir ...  finance   \n",
              "...           ...                                                ...      ...   \n",
              "91012  2020-02-03  Ketumpahan Air Panas di Pesawat, Kamu Bisa Tun...   travel   \n",
              "91013  2020-02-03  Foto: Bali & 9 Destinasi Paling Instagramable ...   travel   \n",
              "91014  2020-02-03  Game Bikin Turis Ini Liburan ke Jepang untuk.....   travel   \n",
              "91015  2020-02-03  Sekeluarga Didepak dari Pesawat, Maskapai Bila...   travel   \n",
              "91016  2020-02-03  Kapal Raib di Segitiga Bermuda, Nyaris Seabad ...   travel   \n",
              "\n",
              "       title_length  \n",
              "0                30  \n",
              "1                33  \n",
              "2                63  \n",
              "3                53  \n",
              "4                52  \n",
              "...             ...  \n",
              "91012            58  \n",
              "91013            56  \n",
              "91014            60  \n",
              "91015            58  \n",
              "91016            57  \n",
              "\n",
              "[91017 rows x 4 columns]"
            ]
          },
          "execution_count": 6,
          "metadata": {},
          "output_type": "execute_result"
        }
      ],
      "source": [
        "df.drop('url', axis=1, inplace=True)\n",
        "\n",
        "df"
      ]
    },
    {
      "cell_type": "markdown",
      "id": "ca1f7a95",
      "metadata": {
        "tags": [],
        "id": "ca1f7a95"
      },
      "source": [
        " * ####          Menghapus Baris Duplikat"
      ]
    },
    {
      "cell_type": "markdown",
      "id": "9f863057-6590-41a7-852c-76a51b95237c",
      "metadata": {
        "id": "9f863057-6590-41a7-852c-76a51b95237c"
      },
      "source": [
        "> Mengecek seluruh judul artikel apakah terdapat baris ganda, atau dengan judul yang sama namun memiliki kategori/tanggal yang berbeda"
      ]
    },
    {
      "cell_type": "code",
      "execution_count": null,
      "id": "ca31647d-94c2-4b58-8c79-452014b700ae",
      "metadata": {
        "id": "ca31647d-94c2-4b58-8c79-452014b700ae",
        "outputId": "1a43753e-db6b-4b3d-898b-5f2549496cf7"
      },
      "outputs": [
        {
          "data": {
            "text/html": [
              "<div>\n",
              "<style scoped>\n",
              "    .dataframe tbody tr th:only-of-type {\n",
              "        vertical-align: middle;\n",
              "    }\n",
              "\n",
              "    .dataframe tbody tr th {\n",
              "        vertical-align: top;\n",
              "    }\n",
              "\n",
              "    .dataframe thead th {\n",
              "        text-align: right;\n",
              "    }\n",
              "</style>\n",
              "<table border=\"1\" class=\"dataframe\">\n",
              "  <thead>\n",
              "    <tr style=\"text-align: right;\">\n",
              "      <th></th>\n",
              "      <th>date</th>\n",
              "      <th>title</th>\n",
              "      <th>category</th>\n",
              "      <th>title_length</th>\n",
              "    </tr>\n",
              "  </thead>\n",
              "  <tbody>\n",
              "    <tr>\n",
              "      <th>36982</th>\n",
              "      <td>2020-04-24</td>\n",
              "      <td>'The Expendables 3' dan 'A Good Man' Tayang di...</td>\n",
              "      <td>hot</td>\n",
              "      <td>63</td>\n",
              "    </tr>\n",
              "    <tr>\n",
              "      <th>36985</th>\n",
              "      <td>2020-04-24</td>\n",
              "      <td>'The Expendables 3' dan 'A Good Man' Tayang di...</td>\n",
              "      <td>hot</td>\n",
              "      <td>63</td>\n",
              "    </tr>\n",
              "    <tr>\n",
              "      <th>55232</th>\n",
              "      <td>2020-03-06</td>\n",
              "      <td>1 WNI ABK Diamond Princess Dicurigai COVID-19,...</td>\n",
              "      <td>news</td>\n",
              "      <td>75</td>\n",
              "    </tr>\n",
              "    <tr>\n",
              "      <th>18763</th>\n",
              "      <td>2020-03-06</td>\n",
              "      <td>1 WNI ABK Diamond Princess Dicurigai COVID-19,...</td>\n",
              "      <td>health</td>\n",
              "      <td>75</td>\n",
              "    </tr>\n",
              "    <tr>\n",
              "      <th>70942</th>\n",
              "      <td>2020-03-04</td>\n",
              "      <td>11 Orang Kontak Langsung dengan WN Jepang di B...</td>\n",
              "      <td>news</td>\n",
              "      <td>64</td>\n",
              "    </tr>\n",
              "    <tr>\n",
              "      <th>...</th>\n",
              "      <td>...</td>\n",
              "      <td>...</td>\n",
              "      <td>...</td>\n",
              "      <td>...</td>\n",
              "    </tr>\n",
              "    <tr>\n",
              "      <th>42649</th>\n",
              "      <td>2020-03-11</td>\n",
              "      <td>Unboxing vivo V19, Unggulkan Ultra O Screen de...</td>\n",
              "      <td>inet</td>\n",
              "      <td>70</td>\n",
              "    </tr>\n",
              "    <tr>\n",
              "      <th>85499</th>\n",
              "      <td>2020-01-06</td>\n",
              "      <td>Viral, Penumpang 'Ditahan' Gara-gara Hina Garu...</td>\n",
              "      <td>travel</td>\n",
              "      <td>58</td>\n",
              "    </tr>\n",
              "    <tr>\n",
              "      <th>4402</th>\n",
              "      <td>2020-01-06</td>\n",
              "      <td>Viral, Penumpang 'Ditahan' Gara-gara Hina Garu...</td>\n",
              "      <td>finance</td>\n",
              "      <td>58</td>\n",
              "    </tr>\n",
              "    <tr>\n",
              "      <th>80996</th>\n",
              "      <td>2020-01-29</td>\n",
              "      <td>Yamaha Buka Banyak Lowongan, Lulusan SMA Bisa ...</td>\n",
              "      <td>oto</td>\n",
              "      <td>52</td>\n",
              "    </tr>\n",
              "    <tr>\n",
              "      <th>10010</th>\n",
              "      <td>2020-01-29</td>\n",
              "      <td>Yamaha Buka Banyak Lowongan, Lulusan SMA Bisa ...</td>\n",
              "      <td>finance</td>\n",
              "      <td>52</td>\n",
              "    </tr>\n",
              "  </tbody>\n",
              "</table>\n",
              "<p>235 rows × 4 columns</p>\n",
              "</div>"
            ],
            "text/plain": [
              "             date                                              title category  \\\n",
              "36982  2020-04-24  'The Expendables 3' dan 'A Good Man' Tayang di...      hot   \n",
              "36985  2020-04-24  'The Expendables 3' dan 'A Good Man' Tayang di...      hot   \n",
              "55232  2020-03-06  1 WNI ABK Diamond Princess Dicurigai COVID-19,...     news   \n",
              "18763  2020-03-06  1 WNI ABK Diamond Princess Dicurigai COVID-19,...   health   \n",
              "70942  2020-03-04  11 Orang Kontak Langsung dengan WN Jepang di B...     news   \n",
              "...           ...                                                ...      ...   \n",
              "42649  2020-03-11  Unboxing vivo V19, Unggulkan Ultra O Screen de...     inet   \n",
              "85499  2020-01-06  Viral, Penumpang 'Ditahan' Gara-gara Hina Garu...   travel   \n",
              "4402   2020-01-06  Viral, Penumpang 'Ditahan' Gara-gara Hina Garu...  finance   \n",
              "80996  2020-01-29  Yamaha Buka Banyak Lowongan, Lulusan SMA Bisa ...      oto   \n",
              "10010  2020-01-29  Yamaha Buka Banyak Lowongan, Lulusan SMA Bisa ...  finance   \n",
              "\n",
              "       title_length  \n",
              "36982            63  \n",
              "36985            63  \n",
              "55232            75  \n",
              "18763            75  \n",
              "70942            64  \n",
              "...             ...  \n",
              "42649            70  \n",
              "85499            58  \n",
              "4402             58  \n",
              "80996            52  \n",
              "10010            52  \n",
              "\n",
              "[235 rows x 4 columns]"
            ]
          },
          "execution_count": 7,
          "metadata": {},
          "output_type": "execute_result"
        }
      ],
      "source": [
        "df[df['title'].duplicated(keep=False)].sort_values(by='title')"
      ]
    },
    {
      "cell_type": "markdown",
      "id": "6e2a0b45-5ff4-4891-b4c6-2d8a75641603",
      "metadata": {
        "id": "6e2a0b45-5ff4-4891-b4c6-2d8a75641603"
      },
      "source": [
        "> Membersihkan seluruh judul ganda"
      ]
    },
    {
      "cell_type": "code",
      "execution_count": null,
      "id": "dc15163a",
      "metadata": {
        "id": "dc15163a",
        "outputId": "dace9199-6d66-4559-90d3-5c982ef3707c"
      },
      "outputs": [
        {
          "data": {
            "text/html": [
              "<div>\n",
              "<style scoped>\n",
              "    .dataframe tbody tr th:only-of-type {\n",
              "        vertical-align: middle;\n",
              "    }\n",
              "\n",
              "    .dataframe tbody tr th {\n",
              "        vertical-align: top;\n",
              "    }\n",
              "\n",
              "    .dataframe thead th {\n",
              "        text-align: right;\n",
              "    }\n",
              "</style>\n",
              "<table border=\"1\" class=\"dataframe\">\n",
              "  <thead>\n",
              "    <tr style=\"text-align: right;\">\n",
              "      <th></th>\n",
              "      <th>date</th>\n",
              "      <th>title</th>\n",
              "      <th>category</th>\n",
              "      <th>title_length</th>\n",
              "    </tr>\n",
              "  </thead>\n",
              "  <tbody>\n",
              "    <tr>\n",
              "      <th>0</th>\n",
              "      <td>2020-02-26</td>\n",
              "      <td>Kemnaker Awasi TKA di Meikarta</td>\n",
              "      <td>finance</td>\n",
              "      <td>30</td>\n",
              "    </tr>\n",
              "    <tr>\n",
              "      <th>1</th>\n",
              "      <td>2020-02-26</td>\n",
              "      <td>BNI Digitalkan BNI Java Jazz 2020</td>\n",
              "      <td>finance</td>\n",
              "      <td>33</td>\n",
              "    </tr>\n",
              "    <tr>\n",
              "      <th>2</th>\n",
              "      <td>2020-02-26</td>\n",
              "      <td>Terbang ke Australia, Edhy Prabowo Mau Genjot ...</td>\n",
              "      <td>finance</td>\n",
              "      <td>63</td>\n",
              "    </tr>\n",
              "    <tr>\n",
              "      <th>3</th>\n",
              "      <td>2020-02-26</td>\n",
              "      <td>OJK Siapkan Stimulus Ekonomi Antisipasi Dampak...</td>\n",
              "      <td>finance</td>\n",
              "      <td>53</td>\n",
              "    </tr>\n",
              "    <tr>\n",
              "      <th>4</th>\n",
              "      <td>2020-02-26</td>\n",
              "      <td>Saran Buat Anies-RK yang Mangkir Rapat Banjir ...</td>\n",
              "      <td>finance</td>\n",
              "      <td>52</td>\n",
              "    </tr>\n",
              "    <tr>\n",
              "      <th>...</th>\n",
              "      <td>...</td>\n",
              "      <td>...</td>\n",
              "      <td>...</td>\n",
              "      <td>...</td>\n",
              "    </tr>\n",
              "    <tr>\n",
              "      <th>91012</th>\n",
              "      <td>2020-02-03</td>\n",
              "      <td>Ketumpahan Air Panas di Pesawat, Kamu Bisa Tun...</td>\n",
              "      <td>travel</td>\n",
              "      <td>58</td>\n",
              "    </tr>\n",
              "    <tr>\n",
              "      <th>91013</th>\n",
              "      <td>2020-02-03</td>\n",
              "      <td>Foto: Bali &amp; 9 Destinasi Paling Instagramable ...</td>\n",
              "      <td>travel</td>\n",
              "      <td>56</td>\n",
              "    </tr>\n",
              "    <tr>\n",
              "      <th>91014</th>\n",
              "      <td>2020-02-03</td>\n",
              "      <td>Game Bikin Turis Ini Liburan ke Jepang untuk.....</td>\n",
              "      <td>travel</td>\n",
              "      <td>60</td>\n",
              "    </tr>\n",
              "    <tr>\n",
              "      <th>91015</th>\n",
              "      <td>2020-02-03</td>\n",
              "      <td>Sekeluarga Didepak dari Pesawat, Maskapai Bila...</td>\n",
              "      <td>travel</td>\n",
              "      <td>58</td>\n",
              "    </tr>\n",
              "    <tr>\n",
              "      <th>91016</th>\n",
              "      <td>2020-02-03</td>\n",
              "      <td>Kapal Raib di Segitiga Bermuda, Nyaris Seabad ...</td>\n",
              "      <td>travel</td>\n",
              "      <td>57</td>\n",
              "    </tr>\n",
              "  </tbody>\n",
              "</table>\n",
              "<p>90891 rows × 4 columns</p>\n",
              "</div>"
            ],
            "text/plain": [
              "             date                                              title category  \\\n",
              "0      2020-02-26                     Kemnaker Awasi TKA di Meikarta  finance   \n",
              "1      2020-02-26                  BNI Digitalkan BNI Java Jazz 2020  finance   \n",
              "2      2020-02-26  Terbang ke Australia, Edhy Prabowo Mau Genjot ...  finance   \n",
              "3      2020-02-26  OJK Siapkan Stimulus Ekonomi Antisipasi Dampak...  finance   \n",
              "4      2020-02-26  Saran Buat Anies-RK yang Mangkir Rapat Banjir ...  finance   \n",
              "...           ...                                                ...      ...   \n",
              "91012  2020-02-03  Ketumpahan Air Panas di Pesawat, Kamu Bisa Tun...   travel   \n",
              "91013  2020-02-03  Foto: Bali & 9 Destinasi Paling Instagramable ...   travel   \n",
              "91014  2020-02-03  Game Bikin Turis Ini Liburan ke Jepang untuk.....   travel   \n",
              "91015  2020-02-03  Sekeluarga Didepak dari Pesawat, Maskapai Bila...   travel   \n",
              "91016  2020-02-03  Kapal Raib di Segitiga Bermuda, Nyaris Seabad ...   travel   \n",
              "\n",
              "       title_length  \n",
              "0                30  \n",
              "1                33  \n",
              "2                63  \n",
              "3                53  \n",
              "4                52  \n",
              "...             ...  \n",
              "91012            58  \n",
              "91013            56  \n",
              "91014            60  \n",
              "91015            58  \n",
              "91016            57  \n",
              "\n",
              "[90891 rows x 4 columns]"
            ]
          },
          "execution_count": 8,
          "metadata": {},
          "output_type": "execute_result"
        }
      ],
      "source": [
        "df.drop_duplicates(subset=['title'],inplace=True)\n",
        "\n",
        "df"
      ]
    },
    {
      "cell_type": "markdown",
      "id": "cd27907b-230c-44db-94af-b8e3b38db362",
      "metadata": {
        "id": "cd27907b-230c-44db-94af-b8e3b38db362"
      },
      "source": [
        "* #### Mengecek Seluruh Kolom Apakah Ada Data yang Kosong"
      ]
    },
    {
      "cell_type": "code",
      "execution_count": null,
      "id": "c40dc209-ca47-4d75-bb55-11db21f053d1",
      "metadata": {
        "id": "c40dc209-ca47-4d75-bb55-11db21f053d1",
        "outputId": "7ddcdb56-b2d3-41b7-c633-2904846522b0"
      },
      "outputs": [
        {
          "name": "stdout",
          "output_type": "stream",
          "text": [
            "date            False\n",
            "title           False\n",
            "category        False\n",
            "title_length    False\n",
            "dtype: bool\n"
          ]
        }
      ],
      "source": [
        "print(df.isna().any())"
      ]
    },
    {
      "cell_type": "markdown",
      "id": "2be3fccd-4d62-4f11-a329-87377952279d",
      "metadata": {
        "id": "2be3fccd-4d62-4f11-a329-87377952279d"
      },
      "source": [
        "> Tidak data yang kosong pada seluruh kolom. Dataset ini terlihat cukup bagus karena hanya mempunyai sedikit masalah pada duplikasi judul"
      ]
    },
    {
      "cell_type": "markdown",
      "id": "f354c189",
      "metadata": {
        "tags": [],
        "id": "f354c189"
      },
      "source": [
        "* #### Membersihkan Seluruh Judul dengan Menghilangkan Seluruh Karakter yang Tidak Berguna"
      ]
    },
    {
      "cell_type": "markdown",
      "id": "d7813cae",
      "metadata": {
        "id": "d7813cae"
      },
      "source": [
        "> Terdapat banyak karakter tidak berguna yang ada pada kolom title. Menggunakan regex untuk membersihkan angka dan simbol agar nanti data lebih mudah diolah saat dianalisis. Judul yang sudah dibersihkan sementara akan disimpan pada kolom baru"
      ]
    },
    {
      "cell_type": "code",
      "execution_count": null,
      "id": "f5d81f5f",
      "metadata": {
        "id": "f5d81f5f",
        "outputId": "ea4b3ec0-44cd-4a4c-b13d-d7823fbc4bcc"
      },
      "outputs": [
        {
          "data": {
            "text/html": [
              "<div>\n",
              "<style scoped>\n",
              "    .dataframe tbody tr th:only-of-type {\n",
              "        vertical-align: middle;\n",
              "    }\n",
              "\n",
              "    .dataframe tbody tr th {\n",
              "        vertical-align: top;\n",
              "    }\n",
              "\n",
              "    .dataframe thead th {\n",
              "        text-align: right;\n",
              "    }\n",
              "</style>\n",
              "<table border=\"1\" class=\"dataframe\">\n",
              "  <thead>\n",
              "    <tr style=\"text-align: right;\">\n",
              "      <th></th>\n",
              "      <th>date</th>\n",
              "      <th>title</th>\n",
              "      <th>category</th>\n",
              "      <th>title_length</th>\n",
              "      <th>title_clean</th>\n",
              "    </tr>\n",
              "  </thead>\n",
              "  <tbody>\n",
              "    <tr>\n",
              "      <th>0</th>\n",
              "      <td>2020-02-26</td>\n",
              "      <td>Kemnaker Awasi TKA di Meikarta</td>\n",
              "      <td>finance</td>\n",
              "      <td>30</td>\n",
              "      <td>kemnaker awasi tka di meikarta</td>\n",
              "    </tr>\n",
              "    <tr>\n",
              "      <th>1</th>\n",
              "      <td>2020-02-26</td>\n",
              "      <td>BNI Digitalkan BNI Java Jazz 2020</td>\n",
              "      <td>finance</td>\n",
              "      <td>33</td>\n",
              "      <td>bni digitalkan bni java jazz</td>\n",
              "    </tr>\n",
              "    <tr>\n",
              "      <th>2</th>\n",
              "      <td>2020-02-26</td>\n",
              "      <td>Terbang ke Australia, Edhy Prabowo Mau Genjot ...</td>\n",
              "      <td>finance</td>\n",
              "      <td>63</td>\n",
              "      <td>terbang ke australia edhy prabowo mau genjot b...</td>\n",
              "    </tr>\n",
              "    <tr>\n",
              "      <th>3</th>\n",
              "      <td>2020-02-26</td>\n",
              "      <td>OJK Siapkan Stimulus Ekonomi Antisipasi Dampak...</td>\n",
              "      <td>finance</td>\n",
              "      <td>53</td>\n",
              "      <td>ojk siapkan stimulus ekonomi antisipasi dampak...</td>\n",
              "    </tr>\n",
              "    <tr>\n",
              "      <th>4</th>\n",
              "      <td>2020-02-26</td>\n",
              "      <td>Saran Buat Anies-RK yang Mangkir Rapat Banjir ...</td>\n",
              "      <td>finance</td>\n",
              "      <td>52</td>\n",
              "      <td>saran buat aniesrk yang mangkir rapat banjir d...</td>\n",
              "    </tr>\n",
              "    <tr>\n",
              "      <th>...</th>\n",
              "      <td>...</td>\n",
              "      <td>...</td>\n",
              "      <td>...</td>\n",
              "      <td>...</td>\n",
              "      <td>...</td>\n",
              "    </tr>\n",
              "    <tr>\n",
              "      <th>91012</th>\n",
              "      <td>2020-02-03</td>\n",
              "      <td>Ketumpahan Air Panas di Pesawat, Kamu Bisa Tun...</td>\n",
              "      <td>travel</td>\n",
              "      <td>58</td>\n",
              "      <td>ketumpahan air panas di pesawat kamu bisa tunt...</td>\n",
              "    </tr>\n",
              "    <tr>\n",
              "      <th>91013</th>\n",
              "      <td>2020-02-03</td>\n",
              "      <td>Foto: Bali &amp; 9 Destinasi Paling Instagramable ...</td>\n",
              "      <td>travel</td>\n",
              "      <td>56</td>\n",
              "      <td>foto bali   destinasi paling instagramable tahun</td>\n",
              "    </tr>\n",
              "    <tr>\n",
              "      <th>91014</th>\n",
              "      <td>2020-02-03</td>\n",
              "      <td>Game Bikin Turis Ini Liburan ke Jepang untuk.....</td>\n",
              "      <td>travel</td>\n",
              "      <td>60</td>\n",
              "      <td>game bikin turis ini liburan ke jepang untuk c...</td>\n",
              "    </tr>\n",
              "    <tr>\n",
              "      <th>91015</th>\n",
              "      <td>2020-02-03</td>\n",
              "      <td>Sekeluarga Didepak dari Pesawat, Maskapai Bila...</td>\n",
              "      <td>travel</td>\n",
              "      <td>58</td>\n",
              "      <td>sekeluarga didepak dari pesawat maskapai bilan...</td>\n",
              "    </tr>\n",
              "    <tr>\n",
              "      <th>91016</th>\n",
              "      <td>2020-02-03</td>\n",
              "      <td>Kapal Raib di Segitiga Bermuda, Nyaris Seabad ...</td>\n",
              "      <td>travel</td>\n",
              "      <td>57</td>\n",
              "      <td>kapal raib di segitiga bermuda nyaris seabad b...</td>\n",
              "    </tr>\n",
              "  </tbody>\n",
              "</table>\n",
              "<p>90891 rows × 5 columns</p>\n",
              "</div>"
            ],
            "text/plain": [
              "             date                                              title category  \\\n",
              "0      2020-02-26                     Kemnaker Awasi TKA di Meikarta  finance   \n",
              "1      2020-02-26                  BNI Digitalkan BNI Java Jazz 2020  finance   \n",
              "2      2020-02-26  Terbang ke Australia, Edhy Prabowo Mau Genjot ...  finance   \n",
              "3      2020-02-26  OJK Siapkan Stimulus Ekonomi Antisipasi Dampak...  finance   \n",
              "4      2020-02-26  Saran Buat Anies-RK yang Mangkir Rapat Banjir ...  finance   \n",
              "...           ...                                                ...      ...   \n",
              "91012  2020-02-03  Ketumpahan Air Panas di Pesawat, Kamu Bisa Tun...   travel   \n",
              "91013  2020-02-03  Foto: Bali & 9 Destinasi Paling Instagramable ...   travel   \n",
              "91014  2020-02-03  Game Bikin Turis Ini Liburan ke Jepang untuk.....   travel   \n",
              "91015  2020-02-03  Sekeluarga Didepak dari Pesawat, Maskapai Bila...   travel   \n",
              "91016  2020-02-03  Kapal Raib di Segitiga Bermuda, Nyaris Seabad ...   travel   \n",
              "\n",
              "       title_length                                        title_clean  \n",
              "0                30                     kemnaker awasi tka di meikarta  \n",
              "1                33                      bni digitalkan bni java jazz   \n",
              "2                63  terbang ke australia edhy prabowo mau genjot b...  \n",
              "3                53  ojk siapkan stimulus ekonomi antisipasi dampak...  \n",
              "4                52  saran buat aniesrk yang mangkir rapat banjir d...  \n",
              "...             ...                                                ...  \n",
              "91012            58  ketumpahan air panas di pesawat kamu bisa tunt...  \n",
              "91013            56  foto bali   destinasi paling instagramable tahun   \n",
              "91014            60  game bikin turis ini liburan ke jepang untuk c...  \n",
              "91015            58  sekeluarga didepak dari pesawat maskapai bilan...  \n",
              "91016            57  kapal raib di segitiga bermuda nyaris seabad b...  \n",
              "\n",
              "[90891 rows x 5 columns]"
            ]
          },
          "execution_count": 10,
          "metadata": {},
          "output_type": "execute_result"
        }
      ],
      "source": [
        "df['title_clean'] = df['title'].str.replace('[^a-zA-Z\\s]', '',regex = True)\n",
        "df['title_clean'] = df['title_clean'].str.lower()\n",
        "\n",
        "df"
      ]
    },
    {
      "cell_type": "markdown",
      "id": "dc75301b-a303-421b-818c-a57ca39af086",
      "metadata": {
        "id": "dc75301b-a303-421b-818c-a57ca39af086"
      },
      "source": [
        "* #### Membuat Token dari Judul yang Telah Dibersihkan"
      ]
    },
    {
      "cell_type": "markdown",
      "id": "0628aa79-f706-4650-a761-278f111402b8",
      "metadata": {
        "id": "0628aa79-f706-4650-a761-278f111402b8"
      },
      "source": [
        "> Judul yang kita sudah bersihkan kita ubah menjadi token (unit terkecil dari teks) untuk diambil sebagai satuan analisis teks."
      ]
    },
    {
      "cell_type": "code",
      "execution_count": null,
      "id": "5a21f7ce-329f-41aa-8fbf-a2e78e893510",
      "metadata": {
        "id": "5a21f7ce-329f-41aa-8fbf-a2e78e893510",
        "outputId": "ed9edd65-7aeb-4646-eade-0d7d0e0230b7"
      },
      "outputs": [
        {
          "data": {
            "text/html": [
              "<div>\n",
              "<style scoped>\n",
              "    .dataframe tbody tr th:only-of-type {\n",
              "        vertical-align: middle;\n",
              "    }\n",
              "\n",
              "    .dataframe tbody tr th {\n",
              "        vertical-align: top;\n",
              "    }\n",
              "\n",
              "    .dataframe thead th {\n",
              "        text-align: right;\n",
              "    }\n",
              "</style>\n",
              "<table border=\"1\" class=\"dataframe\">\n",
              "  <thead>\n",
              "    <tr style=\"text-align: right;\">\n",
              "      <th></th>\n",
              "      <th>date</th>\n",
              "      <th>title</th>\n",
              "      <th>category</th>\n",
              "      <th>title_length</th>\n",
              "      <th>title_tokens</th>\n",
              "    </tr>\n",
              "  </thead>\n",
              "  <tbody>\n",
              "    <tr>\n",
              "      <th>0</th>\n",
              "      <td>2020-02-26</td>\n",
              "      <td>Kemnaker Awasi TKA di Meikarta</td>\n",
              "      <td>finance</td>\n",
              "      <td>30</td>\n",
              "      <td>[kemnaker, awasi, tka, di, meikarta]</td>\n",
              "    </tr>\n",
              "    <tr>\n",
              "      <th>1</th>\n",
              "      <td>2020-02-26</td>\n",
              "      <td>BNI Digitalkan BNI Java Jazz 2020</td>\n",
              "      <td>finance</td>\n",
              "      <td>33</td>\n",
              "      <td>[bni, digitalkan, bni, java, jazz]</td>\n",
              "    </tr>\n",
              "    <tr>\n",
              "      <th>2</th>\n",
              "      <td>2020-02-26</td>\n",
              "      <td>Terbang ke Australia, Edhy Prabowo Mau Genjot ...</td>\n",
              "      <td>finance</td>\n",
              "      <td>63</td>\n",
              "      <td>[terbang, ke, australia, edhy, prabowo, mau, g...</td>\n",
              "    </tr>\n",
              "    <tr>\n",
              "      <th>3</th>\n",
              "      <td>2020-02-26</td>\n",
              "      <td>OJK Siapkan Stimulus Ekonomi Antisipasi Dampak...</td>\n",
              "      <td>finance</td>\n",
              "      <td>53</td>\n",
              "      <td>[ojk, siapkan, stimulus, ekonomi, antisipasi, ...</td>\n",
              "    </tr>\n",
              "    <tr>\n",
              "      <th>4</th>\n",
              "      <td>2020-02-26</td>\n",
              "      <td>Saran Buat Anies-RK yang Mangkir Rapat Banjir ...</td>\n",
              "      <td>finance</td>\n",
              "      <td>52</td>\n",
              "      <td>[saran, buat, aniesrk, yang, mangkir, rapat, b...</td>\n",
              "    </tr>\n",
              "    <tr>\n",
              "      <th>...</th>\n",
              "      <td>...</td>\n",
              "      <td>...</td>\n",
              "      <td>...</td>\n",
              "      <td>...</td>\n",
              "      <td>...</td>\n",
              "    </tr>\n",
              "    <tr>\n",
              "      <th>91012</th>\n",
              "      <td>2020-02-03</td>\n",
              "      <td>Ketumpahan Air Panas di Pesawat, Kamu Bisa Tun...</td>\n",
              "      <td>travel</td>\n",
              "      <td>58</td>\n",
              "      <td>[ketumpahan, air, panas, di, pesawat, kamu, bi...</td>\n",
              "    </tr>\n",
              "    <tr>\n",
              "      <th>91013</th>\n",
              "      <td>2020-02-03</td>\n",
              "      <td>Foto: Bali &amp; 9 Destinasi Paling Instagramable ...</td>\n",
              "      <td>travel</td>\n",
              "      <td>56</td>\n",
              "      <td>[foto, bali, destinasi, paling, instagramable,...</td>\n",
              "    </tr>\n",
              "    <tr>\n",
              "      <th>91014</th>\n",
              "      <td>2020-02-03</td>\n",
              "      <td>Game Bikin Turis Ini Liburan ke Jepang untuk.....</td>\n",
              "      <td>travel</td>\n",
              "      <td>60</td>\n",
              "      <td>[game, bikin, turis, ini, liburan, ke, jepang,...</td>\n",
              "    </tr>\n",
              "    <tr>\n",
              "      <th>91015</th>\n",
              "      <td>2020-02-03</td>\n",
              "      <td>Sekeluarga Didepak dari Pesawat, Maskapai Bila...</td>\n",
              "      <td>travel</td>\n",
              "      <td>58</td>\n",
              "      <td>[sekeluarga, didepak, dari, pesawat, maskapai,...</td>\n",
              "    </tr>\n",
              "    <tr>\n",
              "      <th>91016</th>\n",
              "      <td>2020-02-03</td>\n",
              "      <td>Kapal Raib di Segitiga Bermuda, Nyaris Seabad ...</td>\n",
              "      <td>travel</td>\n",
              "      <td>57</td>\n",
              "      <td>[kapal, raib, di, segitiga, bermuda, nyaris, s...</td>\n",
              "    </tr>\n",
              "  </tbody>\n",
              "</table>\n",
              "<p>90891 rows × 5 columns</p>\n",
              "</div>"
            ],
            "text/plain": [
              "             date                                              title category  \\\n",
              "0      2020-02-26                     Kemnaker Awasi TKA di Meikarta  finance   \n",
              "1      2020-02-26                  BNI Digitalkan BNI Java Jazz 2020  finance   \n",
              "2      2020-02-26  Terbang ke Australia, Edhy Prabowo Mau Genjot ...  finance   \n",
              "3      2020-02-26  OJK Siapkan Stimulus Ekonomi Antisipasi Dampak...  finance   \n",
              "4      2020-02-26  Saran Buat Anies-RK yang Mangkir Rapat Banjir ...  finance   \n",
              "...           ...                                                ...      ...   \n",
              "91012  2020-02-03  Ketumpahan Air Panas di Pesawat, Kamu Bisa Tun...   travel   \n",
              "91013  2020-02-03  Foto: Bali & 9 Destinasi Paling Instagramable ...   travel   \n",
              "91014  2020-02-03  Game Bikin Turis Ini Liburan ke Jepang untuk.....   travel   \n",
              "91015  2020-02-03  Sekeluarga Didepak dari Pesawat, Maskapai Bila...   travel   \n",
              "91016  2020-02-03  Kapal Raib di Segitiga Bermuda, Nyaris Seabad ...   travel   \n",
              "\n",
              "       title_length                                       title_tokens  \n",
              "0                30               [kemnaker, awasi, tka, di, meikarta]  \n",
              "1                33                 [bni, digitalkan, bni, java, jazz]  \n",
              "2                63  [terbang, ke, australia, edhy, prabowo, mau, g...  \n",
              "3                53  [ojk, siapkan, stimulus, ekonomi, antisipasi, ...  \n",
              "4                52  [saran, buat, aniesrk, yang, mangkir, rapat, b...  \n",
              "...             ...                                                ...  \n",
              "91012            58  [ketumpahan, air, panas, di, pesawat, kamu, bi...  \n",
              "91013            56  [foto, bali, destinasi, paling, instagramable,...  \n",
              "91014            60  [game, bikin, turis, ini, liburan, ke, jepang,...  \n",
              "91015            58  [sekeluarga, didepak, dari, pesawat, maskapai,...  \n",
              "91016            57  [kapal, raib, di, segitiga, bermuda, nyaris, s...  \n",
              "\n",
              "[90891 rows x 5 columns]"
            ]
          },
          "execution_count": 11,
          "metadata": {},
          "output_type": "execute_result"
        }
      ],
      "source": [
        "df['title_tokens'] = df['title_clean'].apply(lambda x: x.split())\n",
        "df.drop('title_clean', axis=1, inplace=True)\n",
        "\n",
        "df"
      ]
    },
    {
      "cell_type": "markdown",
      "id": "cb262384",
      "metadata": {
        "id": "cb262384"
      },
      "source": [
        "***"
      ]
    },
    {
      "cell_type": "markdown",
      "id": "0d8cafb8",
      "metadata": {
        "id": "0d8cafb8"
      },
      "source": [
        "## Exploratory Data Analysis"
      ]
    },
    {
      "cell_type": "markdown",
      "id": "9788efdd",
      "metadata": {
        "tags": [],
        "id": "9788efdd"
      },
      "source": [
        " * ### Kategori Berita"
      ]
    },
    {
      "cell_type": "markdown",
      "id": "44e54061",
      "metadata": {
        "jupyter": {
          "outputs_hidden": true
        },
        "tags": [],
        "id": "44e54061"
      },
      "source": [
        "> Menghitung frekuensi jumlah artikel perkategori"
      ]
    },
    {
      "cell_type": "code",
      "execution_count": null,
      "id": "77d2e848",
      "metadata": {
        "id": "77d2e848",
        "outputId": "5b009435-024d-4981-dd30-f8948385889e"
      },
      "outputs": [
        {
          "name": "stdout",
          "output_type": "stream",
          "text": [
            "news       32330\n",
            "hot        16300\n",
            "finance    14141\n",
            "travel      6454\n",
            "inet        5629\n",
            "health      4914\n",
            "oto         4375\n",
            "food        4314\n",
            "sport       2434\n",
            "Name: category, dtype: int64\n"
          ]
        }
      ],
      "source": [
        "category_counts = df['category'].value_counts()\n",
        "print(category_counts)"
      ]
    },
    {
      "cell_type": "markdown",
      "id": "ccecab22",
      "metadata": {
        "id": "ccecab22"
      },
      "source": [
        " > Di sini saya memilih grafik pie, karena untuk memperjelas bagaimana perbandingan kategori terhadap kategori yang lainnya."
      ]
    },
    {
      "cell_type": "code",
      "execution_count": null,
      "id": "12468c21",
      "metadata": {
        "id": "12468c21",
        "outputId": "5a08b1f4-7d88-49a3-cc56-6437500aaac8"
      },
      "outputs": [
        {
          "data": {
            "image/png": "[encoded data removed]",
            "text/plain": [
              "<Figure size 864x432 with 1 Axes>"
            ]
          },
          "metadata": {},
          "output_type": "display_data"
        }
      ],
      "source": [
        "plt.figure(figsize=(12, 6))\n",
        "plt.pie(category_counts.values, labels=category_counts.index, autopct='%1.1f%%')\n",
        "plt.title('Proporsi Kategori Berita')\n",
        "plt.show()"
      ]
    },
    {
      "cell_type": "markdown",
      "id": "97a96db4",
      "metadata": {
        "id": "97a96db4"
      },
      "source": [
        "***"
      ]
    },
    {
      "cell_type": "markdown",
      "id": "414a0440",
      "metadata": {
        "id": "414a0440"
      },
      "source": [
        " * ### Menganalisa Panjang Judul"
      ]
    },
    {
      "cell_type": "markdown",
      "id": "d42045f7",
      "metadata": {
        "id": "d42045f7"
      },
      "source": [
        "#### Menganalisa Panjang Judul untuk Keseluruhan Kategori"
      ]
    },
    {
      "cell_type": "markdown",
      "id": "116b0a8c",
      "metadata": {
        "id": "116b0a8c"
      },
      "source": [
        "> Menghitung statistik untuk panjang judul keseluruhan artikel"
      ]
    },
    {
      "cell_type": "code",
      "execution_count": null,
      "id": "f5282974",
      "metadata": {
        "id": "f5282974",
        "outputId": "29f82ff7-8b34-4d85-b46e-61f796176fde"
      },
      "outputs": [
        {
          "name": "stdout",
          "output_type": "stream",
          "text": [
            "count    90891.000000\n",
            "mean        60.375692\n",
            "std         11.141248\n",
            "min          4.000000\n",
            "25%         53.000000\n",
            "50%         62.000000\n",
            "75%         69.000000\n",
            "max        107.000000\n",
            "Name: title_length, dtype: float64\n"
          ]
        }
      ],
      "source": [
        "title_lengths = df['title_length']\n",
        "print(title_lengths.describe())"
      ]
    },
    {
      "cell_type": "markdown",
      "id": "3fb820b6",
      "metadata": {
        "id": "3fb820b6"
      },
      "source": [
        "> Membuat histogram panjang judul"
      ]
    },
    {
      "cell_type": "code",
      "execution_count": null,
      "id": "650371ed",
      "metadata": {
        "id": "650371ed",
        "outputId": "4f02ebd4-749a-4599-c1e5-bde8715f6d32"
      },
      "outputs": [
        {
          "data": {
            "image/png": "[encoded data removed]",
            "text/plain": [
              "<Figure size 720x432 with 1 Axes>"
            ]
          },
          "metadata": {
            "needs_background": "light"
          },
          "output_type": "display_data"
        }
      ],
      "source": [
        "plt.figure(figsize=(10, 6))\n",
        "sns.histplot(data=title_lengths, bins=20, edgecolor='black', kde=True, color='blue')\n",
        "plt.xlabel('Panjang Judul', fontsize=14)\n",
        "plt.ylabel('Frekuensi', fontsize=14)\n",
        "plt.title('Distribusi Panjang Judul Artikel', fontsize=16)\n",
        "sns.despine(left=True, bottom=True)\n",
        "plt.show()\n"
      ]
    },
    {
      "cell_type": "markdown",
      "id": "8368ae82",
      "metadata": {
        "id": "8368ae82"
      },
      "source": [
        "***"
      ]
    },
    {
      "cell_type": "markdown",
      "id": "df286df1",
      "metadata": {
        "id": "df286df1"
      },
      "source": [
        "#### Menganalisa Panjang Judul pada Setiap Kategori"
      ]
    },
    {
      "cell_type": "markdown",
      "id": "248c197e",
      "metadata": {
        "id": "248c197e"
      },
      "source": [
        "> Menganalisis hubungan antara kategori dan panjang judul"
      ]
    },
    {
      "cell_type": "code",
      "execution_count": null,
      "id": "8dc94eba",
      "metadata": {
        "id": "8dc94eba",
        "outputId": "cee57527-55fc-4314-d9fa-8145e479ae72"
      },
      "outputs": [
        {
          "name": "stdout",
          "output_type": "stream",
          "text": [
            "category\n",
            "finance    54.496005\n",
            "food       66.313862\n",
            "health     63.876068\n",
            "hot        59.446012\n",
            "inet       52.535086\n",
            "news       65.726972\n",
            "oto        57.178743\n",
            "sport      54.800329\n",
            "travel     53.273939\n",
            "Name: title_length, dtype: float64\n"
          ]
        }
      ],
      "source": [
        "category_title_length = df.groupby('category')['title_length'].mean()\n",
        "print(category_title_length)\n"
      ]
    },
    {
      "cell_type": "markdown",
      "id": "553a61cf",
      "metadata": {
        "id": "553a61cf"
      },
      "source": [
        "> Membuat grafik untuk hubungan frekuensi panjang judul dan kategori. Dan juga menambahkan garis bantu untuk setiap y kelipatan 10 agar setiap bar mudah di bandingkan satu sama lain"
      ]
    },
    {
      "cell_type": "code",
      "execution_count": null,
      "id": "aa662315",
      "metadata": {
        "id": "aa662315",
        "outputId": "eed30702-9dee-4c13-bbc5-1c6ebacdfed0"
      },
      "outputs": [
        {
          "data": {
            "image/png": "[encoded data removed]",
            "text/plain": [
              "<Figure size 720x432 with 1 Axes>"
            ]
          },
          "metadata": {
            "needs_background": "light"
          },
          "output_type": "display_data"
        }
      ],
      "source": [
        "plt.figure(figsize=(10, 6))\n",
        "sns.barplot(x=category_title_length.index, y=category_title_length.values)\n",
        "plt.xlabel('Kategori', fontsize=14)\n",
        "plt.ylabel('Panjang Judul Rata-Rata', fontsize=14)\n",
        "plt.title('Hubungan antara Kategori dan Panjang Judul', fontsize=16)\n",
        "\n",
        "sns.despine(left=True, bottom=True)\n",
        "\n",
        "#Membuat garis bantu\n",
        "plt.yticks(np.arange(0, 75, 10))\n",
        "plt.grid(axis='y', linestyle='-')\n",
        "\n",
        "plt.show()\n"
      ]
    },
    {
      "cell_type": "markdown",
      "id": "550174da",
      "metadata": {
        "id": "550174da"
      },
      "source": [
        "***"
      ]
    },
    {
      "cell_type": "markdown",
      "id": "7e4e78cf",
      "metadata": {
        "tags": [],
        "id": "7e4e78cf"
      },
      "source": [
        "* ### Frekuensi Kata Terbanyak pada Judul"
      ]
    },
    {
      "cell_type": "markdown",
      "id": "37e5d686",
      "metadata": {
        "id": "37e5d686"
      },
      "source": [
        " #### Menganalisa kata terbanyak untuk keseluruhan judul"
      ]
    },
    {
      "cell_type": "markdown",
      "id": "13f63344",
      "metadata": {
        "id": "13f63344"
      },
      "source": [
        "> Mengambil 10 kata terbanyak yang muncul. Menggunakan fungsi _stopwords_ pada library __nltk__ untuk menyaring kata-kata penghubung yang sering muncul dan tidak dibutuhkan"
      ]
    },
    {
      "cell_type": "code",
      "execution_count": null,
      "id": "957f7279",
      "metadata": {
        "id": "957f7279",
        "outputId": "e3510965-1895-46c0-b489-dbc29d858ba3"
      },
      "outputs": [
        {
          "name": "stdout",
          "output_type": "stream",
          "text": [
            "[('corona', 17198), ('rp', 3154), ('virus', 3070), ('polisi', 2706), ('positif', 2680), ('warga', 2475), ('indonesia', 2465), ('rumah', 2428), ('jokowi', 2275), ('ri', 2147)]\n"
          ]
        }
      ],
      "source": [
        "sw_indo = set(stopwords.words('indonesian'))\n",
        "\n",
        "word_freq = Counter()\n",
        "for tokens in df['title_tokens']:\n",
        "    word_freq.update(tokens)\n",
        "\n",
        "for sw in sw_indo:\n",
        "    word_freq.pop(sw, None)\n",
        "\n",
        "top_words = word_freq.most_common(10)\n",
        "print(top_words)"
      ]
    },
    {
      "cell_type": "markdown",
      "id": "44d24449-2c5f-4a87-b20f-d92f0f969842",
      "metadata": {
        "id": "44d24449-2c5f-4a87-b20f-d92f0f969842"
      },
      "source": [
        ""
      ]
    },
    {
      "cell_type": "markdown",
      "id": "1775af2a",
      "metadata": {
        "id": "1775af2a"
      },
      "source": [
        "> Menggunakan diagram pareto untuk memvisualisasikan kata terbanyak"
      ]
    },
    {
      "cell_type": "code",
      "execution_count": null,
      "id": "c35c9878",
      "metadata": {
        "id": "c35c9878",
        "outputId": "5a9e85e5-4df5-4b80-f5b6-efcf5d82a199"
      },
      "outputs": [
        {
          "data": {
            "image/png": "[encoded data removed]",
            "text/plain": [
              "<Figure size 1008x432 with 1 Axes>"
            ]
          },
          "metadata": {
            "needs_background": "light"
          },
          "output_type": "display_data"
        }
      ],
      "source": [
        "# Membuat grafik\n",
        "top_words_labels, top_words_values = zip(*top_words)\n",
        "plt.figure(figsize=(14, 6))\n",
        "plt.bar(top_words_labels, top_words_values,color = \"darkblue\" ,edgecolor =\"black\")\n",
        "\n",
        "# Menambahkan label dan judul\n",
        "plt.xlabel('Kata', fontsize=16)\n",
        "plt.ylabel('Frekuensi', fontsize=14)\n",
        "plt.title('10 Kata Terbanyak dalam Judul Berita (Tanpa Kata Penghubung)', fontsize=16)\n",
        "\n",
        "# Memutar label pada sumbu x\n",
        "plt.xticks(rotation=45)\n",
        "\n",
        "# Menampilkan grafik\n",
        "plt.show()\n"
      ]
    },
    {
      "cell_type": "markdown",
      "id": "7aa0c808",
      "metadata": {
        "id": "7aa0c808"
      },
      "source": [
        "***"
      ]
    },
    {
      "cell_type": "markdown",
      "id": "a0df1650",
      "metadata": {
        "id": "a0df1650"
      },
      "source": [
        " #### Menganalisa kata terbanyak pada setiap kategori"
      ]
    },
    {
      "cell_type": "markdown",
      "id": "d667a1a9",
      "metadata": {
        "id": "d667a1a9"
      },
      "source": [
        "> Terdapat 9 kategori pada dataset tersebut. Kata terbanyak akan ditampilkan begitu juga grafiknya. Menggunakan kode berulang-ulang yang hampir sama pada setiap sel yang berbeda tidak akan efisien, atau juga menampilkan keseluruhan grafik dalam satu sel akan sulit untuk dibaca. Maka membuat fungsi dan memanggilnya berkali-kali pada sel yang berbeda untuk ditampilkan akan lebih mudah dibaca dan lebih efisien."
      ]
    },
    {
      "cell_type": "code",
      "execution_count": null,
      "id": "b49404f3",
      "metadata": {
        "id": "b49404f3"
      },
      "outputs": [],
      "source": [
        "# Fungsi untuk mengambil terbanyak dari setiap kategorinya tanpa kata penghubung\n",
        "def top_words_per_category(df, category, sw_indo, n_top_words=10):\n",
        "    df_category = df[df['category'] == category]\n",
        "\n",
        "    word_freq = Counter()\n",
        "    for tokens in df_category['title_tokens']:\n",
        "        word_freq.update(tokens)\n",
        "\n",
        "    for sw in sw_indo:\n",
        "        word_freq.pop(sw, None)\n",
        "\n",
        "    top_words = word_freq.most_common(n_top_words)\n",
        "    return top_words\n",
        "\n",
        "# Fungsi untuk menggambarkan grafik frekuensi kata terbanyak per kategori\n",
        "def plot_top_words(top_words, category):\n",
        "    words, freqs = zip(*top_words)\n",
        "    words = list(map(str, words))  # Konversi tipe data menjadi string\n",
        "    freqs = list(map(int, freqs))  # Konversi tipe data menjadi integer\n",
        "\n",
        "    #Pembuatan grafik untuk setiap kategori\n",
        "    plt.figure(figsize=(10, 6))\n",
        "    sns.barplot(x=freqs, y=words)\n",
        "    plt.xlabel('Frekuensi', fontsize=14)\n",
        "    plt.ylabel('Kata', fontsize=14)\n",
        "    plt.title(f'Frekuensi Kata Terbanyak dalam Kategori {category}', fontsize=16)\n",
        "    sns.despine(left=True, bottom=True)\n",
        "    plt.show()\n",
        "\n",
        "# Menghitung frekuensi kata terbanyak per kategori\n",
        "sw_indo = set(stopwords.words('indonesian'))\n",
        "categories = df['category'].unique()\n"
      ]
    },
    {
      "cell_type": "markdown",
      "id": "f5d4d533",
      "metadata": {
        "id": "f5d4d533"
      },
      "source": [
        "> Selanjutnya untuk menampilkan bar chart pada setiap kategori, kita hanya perlu mengganti index-nya dari 0-8 (9 indeks) pada \"categories[i]\". Urutan pemanggilan sesuai index berurut dengan huruf pertama kategori"
      ]
    },
    {
      "cell_type": "code",
      "execution_count": null,
      "id": "5d109a07",
      "metadata": {
        "id": "5d109a07",
        "outputId": "30b35f9c-cca0-4515-ba98-050258ac4f81"
      },
      "outputs": [
        {
          "data": {
            "image/png": "[encoded data removed]",
            "text/plain": [
              "<Figure size 720x432 with 1 Axes>"
            ]
          },
          "metadata": {
            "needs_background": "light"
          },
          "output_type": "display_data"
        },
        {
          "name": "stdout",
          "output_type": "stream",
          "text": [
            "[('corona', 2465), ('rp', 1385), ('ri', 1087), ('harga', 691), ('jokowi', 638), ('ekonomi', 534), ('kerja', 534), ('t', 477), ('erick', 448), ('bumn', 441)]\n",
            "\n",
            "\n"
          ]
        }
      ],
      "source": [
        "category = categories[0]\n",
        "top_words = top_words_per_category(df, category, sw_indo)\n",
        "plot_top_words(top_words, category)\n",
        "print(top_words)\n",
        "print(\"\\n\")"
      ]
    },
    {
      "cell_type": "code",
      "execution_count": null,
      "id": "c7a310a0",
      "metadata": {
        "id": "c7a310a0",
        "outputId": "7cd86cb1-1a53-45ad-9f31-55b2e0f7319a"
      },
      "outputs": [
        {
          "data": {
            "image/png": "[encoded data removed]",
            "text/plain": [
              "<Figure size 720x432 with 1 Axes>"
            ]
          },
          "metadata": {
            "needs_background": "light"
          },
          "output_type": "display_data"
        },
        {
          "name": "stdout",
          "output_type": "stream",
          "text": [
            "[('makanan', 697), ('makan', 534), ('foto', 458), ('galeri', 438), ('enak', 358), ('bikin', 343), ('rumah', 311), ('corona', 310), ('resep', 270), ('masak', 259)]\n",
            "\n",
            "\n"
          ]
        }
      ],
      "source": [
        "category = categories[1]\n",
        "top_words = top_words_per_category(df, category, sw_indo)\n",
        "plot_top_words(top_words, category)\n",
        "print(top_words)\n",
        "print(\"\\n\")"
      ]
    },
    {
      "cell_type": "code",
      "execution_count": null,
      "id": "8894bd94",
      "metadata": {
        "id": "8894bd94",
        "outputId": "21408ac6-9f20-408f-f10d-ec59d12fe19f"
      },
      "outputs": [
        {
          "data": {
            "image/png": "[encoded data removed]",
            "text/plain": [
              "<Figure size 720x432 with 1 Axes>"
            ]
          },
          "metadata": {
            "needs_background": "light"
          },
          "output_type": "display_data"
        },
        {
          "name": "stdout",
          "output_type": "stream",
          "text": [
            "[('corona', 2589), ('virus', 1038), ('pasien', 471), ('indonesia', 427), ('meninggal', 412), ('positif', 360), ('sembuh', 306), ('covid', 262), ('dokter', 208), ('ri', 196)]\n",
            "\n",
            "\n"
          ]
        }
      ],
      "source": [
        "category = categories[2]\n",
        "top_words = top_words_per_category(df, category, sw_indo)\n",
        "plot_top_words(top_words, category)\n",
        "print(top_words)\n",
        "print(\"\\n\")"
      ]
    },
    {
      "cell_type": "code",
      "execution_count": null,
      "id": "76a8db54",
      "metadata": {
        "id": "76a8db54",
        "outputId": "3b847c87-7106-42e4-a4d0-2625074f3487"
      },
      "outputs": [
        {
          "data": {
            "image/png": "[encoded data removed]",
            "text/plain": [
              "<Figure size 720x432 with 1 Axes>"
            ]
          },
          "metadata": {
            "needs_background": "light"
          },
          "output_type": "display_data"
        },
        {
          "name": "stdout",
          "output_type": "stream",
          "text": [
            "[('corona', 1658), ('anak', 675), ('rumah', 560), ('meninggal', 545), ('the', 527), ('film', 482), ('lagu', 461), ('bikin', 395), ('istri', 383), ('dunia', 368)]\n",
            "\n",
            "\n"
          ]
        }
      ],
      "source": [
        "category = categories[3]\n",
        "top_words = top_words_per_category(df, category, sw_indo)\n",
        "plot_top_words(top_words, category)\n",
        "print(top_words)\n",
        "print(\"\\n\")"
      ]
    },
    {
      "cell_type": "code",
      "execution_count": null,
      "id": "7236d3ed",
      "metadata": {
        "id": "7236d3ed",
        "outputId": "7bf86646-66a2-4794-b15e-3c0dce12b51c"
      },
      "outputs": [
        {
          "data": {
            "image/png": "[encoded data removed]",
            "text/plain": [
              "<Figure size 720x432 with 1 Axes>"
            ]
          },
          "metadata": {
            "needs_background": "light"
          },
          "output_type": "display_data"
        },
        {
          "name": "stdout",
          "output_type": "stream",
          "text": [
            "[('corona', 845), ('virus', 341), ('ponsel', 309), ('bikin', 253), ('indonesia', 248), ('google', 217), ('rp', 210), ('covid', 203), ('galaxy', 173), ('pakai', 168)]\n",
            "\n",
            "\n"
          ]
        }
      ],
      "source": [
        "category = categories[4]\n",
        "top_words = top_words_per_category(df, category, sw_indo)\n",
        "plot_top_words(top_words, category)\n",
        "print(top_words)\n",
        "print(\"\\n\")"
      ]
    },
    {
      "cell_type": "code",
      "execution_count": null,
      "id": "7076d00d",
      "metadata": {
        "id": "7076d00d",
        "outputId": "62f816ed-4953-4997-a5b7-edd3232fefbd"
      },
      "outputs": [
        {
          "data": {
            "image/png": "[encoded data removed]",
            "text/plain": [
              "<Figure size 720x432 with 1 Axes>"
            ]
          },
          "metadata": {
            "needs_background": "light"
          },
          "output_type": "display_data"
        },
        {
          "name": "stdout",
          "output_type": "stream",
          "text": [
            "[('corona', 7508), ('polisi', 2221), ('warga', 1952), ('positif', 1874), ('jokowi', 1474), ('dki', 1262), ('banjir', 1225), ('pasien', 1134), ('orang', 1092), ('kpk', 1088)]\n",
            "\n",
            "\n"
          ]
        }
      ],
      "source": [
        "category = categories[5]\n",
        "top_words = top_words_per_category(df, category, sw_indo)\n",
        "plot_top_words(top_words, category)\n",
        "print(top_words)\n",
        "print(\"\\n\")"
      ]
    },
    {
      "cell_type": "code",
      "execution_count": null,
      "id": "979ded11",
      "metadata": {
        "id": "979ded11",
        "outputId": "7bd77506-81d2-4a1f-c3b5-f77b3a93a942"
      },
      "outputs": [
        {
          "data": {
            "image/png": "[encoded data removed]",
            "text/plain": [
              "<Figure size 720x432 with 1 Axes>"
            ]
          },
          "metadata": {
            "needs_background": "light"
          },
          "output_type": "display_data"
        },
        {
          "name": "stdout",
          "output_type": "stream",
          "text": [
            "[('mobil', 1176), ('corona', 574), ('motor', 425), ('rp', 267), ('indonesia', 253), ('honda', 253), ('listrik', 215), ('jakarta', 182), ('toyota', 173), ('kendaraan', 159)]\n",
            "\n",
            "\n"
          ]
        }
      ],
      "source": [
        "category = categories[6]\n",
        "top_words = top_words_per_category(df, category, sw_indo)\n",
        "plot_top_words(top_words, category)\n",
        "print(top_words)\n",
        "print(\"\\n\")"
      ]
    },
    {
      "cell_type": "code",
      "execution_count": null,
      "id": "8bd2834c",
      "metadata": {
        "id": "8bd2834c",
        "outputId": "43559ac8-bb03-4d5a-cc02-6453c5b28005"
      },
      "outputs": [
        {
          "data": {
            "image/png": "[encoded data removed]",
            "text/plain": [
              "<Figure size 720x432 with 1 Axes>"
            ]
          },
          "metadata": {
            "needs_background": "light"
          },
          "output_type": "display_data"
        },
        {
          "name": "stdout",
          "output_type": "stream",
          "text": [
            "[('corona', 228), ('indonesia', 223), ('motogp', 209), ('masters', 127), ('olimpiade', 124), ('virus', 117), ('rossi', 113), ('marquez', 110), ('video', 108), ('juara', 96)]\n",
            "\n",
            "\n"
          ]
        }
      ],
      "source": [
        "category = categories[7]\n",
        "top_words = top_words_per_category(df, category, sw_indo)\n",
        "plot_top_words(top_words, category)\n",
        "print(top_words)\n",
        "print(\"\\n\")"
      ]
    },
    {
      "cell_type": "code",
      "execution_count": null,
      "id": "0c0a3c98",
      "metadata": {
        "id": "0c0a3c98",
        "outputId": "4a579c61-0ea0-49c9-cfd7-a224e036cc42"
      },
      "outputs": [
        {
          "data": {
            "image/png": "[encoded data removed]",
            "text/plain": [
              "<Figure size 720x432 with 1 Axes>"
            ]
          },
          "metadata": {
            "needs_background": "light"
          },
          "output_type": "display_data"
        },
        {
          "name": "stdout",
          "output_type": "stream",
          "text": [
            "[('corona', 1021), ('wisata', 525), ('foto', 305), ('dunia', 297), ('turis', 280), ('indonesia', 267), ('potret', 264), ('pesawat', 240), ('virus', 224), ('kota', 223)]\n",
            "\n",
            "\n"
          ]
        }
      ],
      "source": [
        "category = categories[8]\n",
        "top_words = top_words_per_category(df, category, sw_indo)\n",
        "plot_top_words(top_words, category)\n",
        "print(top_words)\n",
        "print(\"\\n\")"
      ]
    }
  ],
  "metadata": {
    "kernelspec": {
      "display_name": "Python 3 (ipykernel)",
      "language": "python",
      "name": "python3"
    },
    "language_info": {
      "codemirror_mode": {
        "name": "ipython",
        "version": 3
      },
      "file_extension": ".py",
      "mimetype": "text/x-python",
      "name": "python",
      "nbconvert_exporter": "python",
      "pygments_lexer": "ipython3",
      "version": "3.9.12"
    },
    "toc-autonumbering": false,
    "toc-showcode": false,
    "colab": {
      "provenance": []
    }
  },
  "nbformat": 4,
  "nbformat_minor": 5
}