{
  "nbformat": 4,
  "nbformat_minor": 0,
  "metadata": {
    "colab": {
      "provenance": [],
      "collapsed_sections": [
        "TLECpemm1MAM",
        "f168XEhv1P-J",
        "HXisF2VC1U53",
        "EVXdorpr1auj",
        "E2Ep0Sjs1eSD",
        "O2XcmLlO1jsZ",
        "KjBdXoNp1mUU",
        "ILzK_XRK1o2q",
        "ft1-aYVR1reP",
        "28LAApoe1uO7"
      ]
    },
    "kernelspec": {
      "name": "python3",
      "display_name": "Python 3"
    },
    "language_info": {
      "name": "python"
    }
  },
  "cells": [
    {
      "cell_type": "markdown",
      "source": [
        "## MODUL 3 - Visualisasi"
      ],
      "metadata": {
        "id": "iqVOIXQGfXhK"
      }
    },
    {
      "cell_type": "markdown",
      "source": [
        "# TUJUAN"
      ],
      "metadata": {
        "id": "sQzhGnFbftMm"
      }
    },
    {
      "cell_type": "markdown",
      "source": [
        "1. Praktikan dapat memahami pentingnya visualisasi data menggunakan jenis-jenis\n",
        "visualisasi data sesuai penggunaannya.\n",
        "2. Praktikan mampu memahami prinsip-prinsip visualisasi yang baik dan benar."
      ],
      "metadata": {
        "id": "45-6LhZXf0Og"
      }
    },
    {
      "cell_type": "markdown",
      "source": [
        "# TEORI"
      ],
      "metadata": {
        "id": "L4XtDJn3gAS8"
      }
    },
    {
      "cell_type": "markdown",
      "source": [
        "**Visualisasi data merupakan representasi grafis dari informasi dan data yang\n",
        "menggunakan berbagai elemen visual seperti bagan, grafik ataupun peta.** Bahasa\n",
        "Python menyediakan banyak libraries visualisasi data untuk memplot data. Libraries\n",
        "visualisasi data yang paling banyak digunakan adalah Pygal, Altair, VisPy, PyQtGraph,\n",
        "Matplotlib, Bokeh, Seaborn, Plotly, dan ggplot."
      ],
      "metadata": {
        "id": "YBEuk1WBTwhZ"
      }
    },
    {
      "cell_type": "markdown",
      "source": [
        "## Pengenalan Matplotlib dan Seaborn"
      ],
      "metadata": {
        "id": "TLECpemm1MAM"
      }
    },
    {
      "cell_type": "markdown",
      "source": [
        "### Matplotlib"
      ],
      "metadata": {
        "id": "f168XEhv1P-J"
      }
    },
    {
      "cell_type": "markdown",
      "source": [
        "Matplotlib adalah library plotting Python 2D untuk visualisasi data yang\n",
        "dibangun di atas array Numpy dan dirancang untuk bekerja dengan tumpukan\n",
        "SciPy yang lebih luas. Ini menghasilkan publikasi berkualitas dalam berbagai format\n",
        "dan lingkungan interaktif di seluruh platform.\n",
        "\n",
        "Ada dua opsi untuk menyematkan grafik secara langsung di notebook\n",
        "- %matplotlib notebook akan menghasilkan plot interaktif yang ada di notebook.\n",
        "- %matplotlib inline akan menghasilkan gambar grafik statis dari plot yang ada di\n",
        "notebook."
      ],
      "metadata": {
        "id": "CukbcnfVgvzT"
      }
    },
    {
      "cell_type": "markdown",
      "source": [
        "**Mengimpor dan menggunakan library matplotlib**"
      ],
      "metadata": {
        "id": "qU1d7wDqg9uR"
      }
    },
    {
      "cell_type": "code",
      "execution_count": null,
      "metadata": {
        "colab": {
          "base_uri": "https://localhost:8080/",
          "height": 352
        },
        "id": "_Sz6giq-Tt6A",
        "outputId": "7b098660-00f0-4ae5-8524-08a679855d7e"
      },
      "outputs": [
        {
          "output_type": "stream",
          "name": "stderr",
          "text": [
            "<ipython-input-18-2c3952ec956d>:4: MatplotlibDeprecationWarning: The seaborn styles shipped by Matplotlib are deprecated since 3.6, as they no longer correspond to the styles shipped by seaborn. However, they will remain available as 'seaborn-v0_8-<style>'. Alternatively, directly use the seaborn API instead.\n",
            "  plt.style.use('seaborn-whitegrid')\n"
          ]
        },
        {
          "output_type": "display_data",
          "data": {
            "text/plain": [
              "<Figure size 432x288 with 1 Axes>"
            ],
            "image/png": "[encoded data removed]"
          },
          "metadata": {}
        }
      ],
      "source": [
        "import numpy as np\n",
        "import matplotlib.pyplot as plt\n",
        "%matplotlib inline\n",
        "plt.style.use('seaborn-whitegrid')\n",
        "X = [590,540,740,130,810,300,320,230,470,620,770,250,240,600,328,32]\n",
        "Y = [32,36,39,52,61,72,77,75,68,57,48,48,99,20,32,97]\n",
        "\n",
        "plt.scatter(X,Y)\n",
        "plt.xlim(0,1200)\n",
        "plt.ylim(0,120)\n",
        "#Warna scatter plot\n",
        "plt.scatter(X, Y, s=60, c='red', marker='o')\n",
        "#Judul Grafik\n",
        "plt.title('Relationship Between Temperature and Iced Coffee Sales')\n",
        "#Label Sumbu\n",
        "plt.xlabel('Sold Coffee')\n",
        "plt.ylabel('Temperature in Fahrenheit')\n",
        "#Tampilkan grafik\n",
        "plt.show()"
      ]
    },
    {
      "cell_type": "markdown",
      "source": [
        "**Mengimpor Numpy dan menggunakan functionnya**"
      ],
      "metadata": {
        "id": "4VwAA7WTlZDE"
      }
    },
    {
      "cell_type": "code",
      "source": [
        "import matplotlib.pyplot as plt\n",
        "import numpy as np\n",
        "%matplotlib inline\n",
        "plt.style.use('seaborn-whitegrid')\n",
        "#membuat grafik/visualisasi kosong\n",
        "fig = plt.figure()\n",
        "ax = plt.axes()\n",
        "x = np.linspace(0, 10, 1000)\n",
        "ax.plot(x, np.sin(x));\n",
        "plt.plot(x, np.sin(x))\n",
        "plt.plot(x, np.cos(x))\n",
        "#Penetapan Rentang Sumbu\n",
        "plt.xlim(0, 11)\n",
        "plt.ylim(-2, 2)\n",
        "plt.axis('tight')\n",
        "#Judul Grafik\n",
        "plt.title('Plotting data using sin and cos')"
      ],
      "metadata": {
        "colab": {
          "base_uri": "https://localhost:8080/",
          "height": 354
        },
        "id": "E-3XM9tulkAe",
        "outputId": "510c43c5-83d5-46c4-d803-7b7a51319737"
      },
      "execution_count": null,
      "outputs": [
        {
          "output_type": "stream",
          "name": "stderr",
          "text": [
            "<ipython-input-19-62467f81425b>:4: MatplotlibDeprecationWarning: The seaborn styles shipped by Matplotlib are deprecated since 3.6, as they no longer correspond to the styles shipped by seaborn. However, they will remain available as 'seaborn-v0_8-<style>'. Alternatively, directly use the seaborn API instead.\n",
            "  plt.style.use('seaborn-whitegrid')\n"
          ]
        },
        {
          "output_type": "execute_result",
          "data": {
            "text/plain": [
              "Text(0.5, 1.0, 'Plotting data using sin and cos')"
            ]
          },
          "metadata": {},
          "execution_count": 19
        },
        {
          "output_type": "display_data",
          "data": {
            "text/plain": [
              "<Figure size 432x288 with 1 Axes>"
            ],
            "image/png": "[encoded data removed]"
          },
          "metadata": {}
        }
      ]
    },
    {
      "cell_type": "markdown",
      "source": [
        "### Seaborn"
      ],
      "metadata": {
        "id": "HXisF2VC1U53"
      }
    },
    {
      "cell_type": "markdown",
      "source": [
        "Seaborn adalah library visualisasi data Python yang berdasarkan Matplotlib\n",
        "yang menyediakan antarmuka tingkat tinggi untuk menggambar grafik statistik yang\n",
        "menarik dan informatif."
      ],
      "metadata": {
        "id": "MOs2CQu8nRAg"
      }
    },
    {
      "cell_type": "markdown",
      "source": [
        "**Mengimpor dan menggunakan library seaborn**"
      ],
      "metadata": {
        "id": "fGrHycWynXYb"
      }
    },
    {
      "cell_type": "code",
      "source": [
        "import matplotlib.pyplot as plt\n",
        "import numpy as np\n",
        "import pandas as pd\n",
        "import seaborn as sns\n",
        "%matplotlib inline\n",
        "plt.style.use('classic')\n",
        "plt.style.use('seaborn-whitegrid')\n",
        "#Membuat data\n",
        "data = np.random.multivariate_normal([0, 0], [[5, 2], [2, 2]],\n",
        "size=2000)\n",
        "data = pd.DataFrame(data, columns=['x', 'y'])\n",
        "#Plot data menggunakan seaborn\n",
        "sns.displot([data['x'], data['y']], kde = True)"
      ],
      "metadata": {
        "colab": {
          "base_uri": "https://localhost:8080/",
          "height": 476
        },
        "id": "VoBCSa_-ovgE",
        "outputId": "e476a0a8-0981-4b9d-e50e-e18b1f46935e"
      },
      "execution_count": null,
      "outputs": [
        {
          "output_type": "stream",
          "name": "stderr",
          "text": [
            "<ipython-input-25-d55e3b51c52a>:7: MatplotlibDeprecationWarning: The seaborn styles shipped by Matplotlib are deprecated since 3.6, as they no longer correspond to the styles shipped by seaborn. However, they will remain available as 'seaborn-v0_8-<style>'. Alternatively, directly use the seaborn API instead.\n",
            "  plt.style.use('seaborn-whitegrid')\n"
          ]
        },
        {
          "output_type": "execute_result",
          "data": {
            "text/plain": [
              "<seaborn.axisgrid.FacetGrid at 0x7feaeca322b0>"
            ]
          },
          "metadata": {},
          "execution_count": 25
        },
        {
          "output_type": "display_data",
          "data": {
            "text/plain": [
              "<Figure size 465.6x400 with 1 Axes>"
            ],
            "image/png": "[encoded data removed]"
          },
          "metadata": {}
        }
      ]
    },
    {
      "cell_type": "markdown",
      "source": [
        "## Jenis-Jenis Grafik"
      ],
      "metadata": {
        "id": "EVXdorpr1auj"
      }
    },
    {
      "cell_type": "markdown",
      "source": [
        "### Bar Chart"
      ],
      "metadata": {
        "id": "E2Ep0Sjs1eSD"
      }
    },
    {
      "cell_type": "markdown",
      "source": [
        "**Bar Chart merupakan sebuah visualisasi yang ditampilkan berupa grafik\n",
        "dengan bentuk diagram batang**, oleh karena itu Bar Chart juga sering disebut sebagai diagram batang. *Grafik atau diagram batang digunakan untuk menyajikan perbandingan data pada satu atau beberapa seri data.*"
      ],
      "metadata": {
        "id": "8kC8cWgcpHtA"
      }
    },
    {
      "cell_type": "markdown",
      "source": [
        "**Membuat bar chart menggunakan matplotlib**"
      ],
      "metadata": {
        "id": "cCf2dwMIp69S"
      }
    },
    {
      "cell_type": "code",
      "source": [
        "#Data\n",
        "Learn = [6]\n",
        "Courses = [7]\n",
        "Sleep = [9]\n",
        "#Label sumbu\n",
        "plt.bar(Learn,Courses,Sleep label=\"Learn/Courses/Sleep\")\n",
        "plt.xlim(0,10)\n",
        "plt.ylim(0,10)\n",
        "plt.xlabel('Students ')\n",
        "plt.ylabel('Courses')\n",
        "plt.\n",
        "#Judul Grafik\n",
        "plt.title('Students Courses Data\\n 2018')\n",
        "plt.legend()\n",
        "plt.show()"
      ],
      "metadata": {
        "colab": {
          "base_uri": "https://localhost:8080/",
          "height": 485
        },
        "id": "gvTKT60-p8uL",
        "outputId": "14fc0245-4aed-481c-cc55-545c997ebbd1"
      },
      "execution_count": null,
      "outputs": [
        {
          "output_type": "display_data",
          "data": {
            "text/plain": [
              "<Figure size 640x480 with 1 Axes>"
            ],
            "image/png": "[encoded data removed]"
          },
          "metadata": {}
        }
      ]
    },
    {
      "cell_type": "markdown",
      "source": [
        "### Pie Chart"
      ],
      "metadata": {
        "id": "O2XcmLlO1jsZ"
      }
    },
    {
      "cell_type": "markdown",
      "source": [
        "**Pie chart atau diagram lingkaran merupakan grafik statistik berbentuk lingkaran yang dibagi menjadi beberapa irisan dan luasnya bergantung kepada\n",
        "kuantitas dari data yang dimiliki.** *Pie chart digunakan untuk membandingkan antar bagian terhadap total keseluruhan*. Biasanya pie chart ditulis dalam bentuk persentase."
      ],
      "metadata": {
        "id": "P0cJ61ofqJLa"
      }
    },
    {
      "cell_type": "markdown",
      "source": [
        "**Membuat pie chart menggunakan matplotlib**"
      ],
      "metadata": {
        "id": "0cy190woqfCq"
      }
    },
    {
      "cell_type": "code",
      "source": [
        "import matplotlib.pyplot as plt\n",
        "\n",
        "#Data\n",
        "\n",
        "heights = [160,155,165,167,170,163,162,168,158,172,167,162,162,156,157,147,168,166]\n",
        "\n",
        "#Histogram\n",
        "\n",
        "plt.hist(heights)\n",
        "\n",
        "#Judul Grafik\n",
        "\n",
        "plt.title('Perbandingan Jumlah Mahasiswa Dengan Tinggi Badan')\n",
        "\n",
        "#Label sumbu x dan y\n",
        "\n",
        "plt.xlabel('Tinggi Badan')\n",
        "plt.ylabel('Jumlah Mahasiswa')\n",
        "\n",
        "\n",
        "plt.ylim(0, 5)\n",
        "\n",
        "plt.show()\n"
      ],
      "metadata": {
        "colab": {
          "base_uri": "https://localhost:8080/",
          "height": 468
        },
        "id": "K1UowbNEqmWt",
        "outputId": "5ae644fc-2749-445d-f5ee-79db2ae3fab2"
      },
      "execution_count": null,
      "outputs": [
        {
          "output_type": "display_data",
          "data": {
            "text/plain": [
              "<Figure size 640x480 with 1 Axes>"
            ],
            "image/png": "[encoded data removed]"
          },
          "metadata": {}
        }
      ]
    },
    {
      "cell_type": "markdown",
      "source": [
        "### Histogram"
      ],
      "metadata": {
        "id": "KjBdXoNp1mUU"
      }
    },
    {
      "cell_type": "markdown",
      "source": [
        "**Histogram adalah representasi grafis (diagram) yang mengatur dan menampilkan frekuensi data sampel pada rentang tertentu.** Frekuensi data yang ada pada masing-masing kelas direpresentasikan dengan bentuk grafik diagram batang atau kolom."
      ],
      "metadata": {
        "id": "0otvs-Nfr7w6"
      }
    },
    {
      "cell_type": "markdown",
      "source": [
        "**Membuat histogram menggunakan matplotlib**"
      ],
      "metadata": {
        "id": "7vX21QtesAoH"
      }
    },
    {
      "cell_type": "code",
      "source": [
        "#Data\n",
        "heigh = [160,155,168,158,172,167,162,162,156,157,147]\n",
        "#Rentang\n",
        "binsx = [150,155,160,165,170,175]\n",
        "plt.hist(heigh, bins=binsx, histtype='bar', rwidth=0.7)\n",
        "#Label sumbu\n",
        "plt.xlabel('Tinggi')\n",
        "plt.ylabel('Rasio Mahasiwa')\n",
        "#Judul grafik\n",
        "plt.title('Perbandingan Jumlah Mahasiswa Dengan Tinggi Badan')\n",
        "plt.show()"
      ],
      "metadata": {
        "colab": {
          "base_uri": "https://localhost:8080/",
          "height": 468
        },
        "id": "oY3lgSbssisI",
        "outputId": "efd7aaf6-974b-40dd-f87a-a8accc912c1a"
      },
      "execution_count": null,
      "outputs": [
        {
          "output_type": "display_data",
          "data": {
            "text/plain": [
              "<Figure size 640x480 with 1 Axes>"
            ],
            "image/png": "[encoded data removed]"
          },
          "metadata": {}
        }
      ]
    },
    {
      "cell_type": "markdown",
      "source": [
        "### Line Chart"
      ],
      "metadata": {
        "id": "ILzK_XRK1o2q"
      }
    },
    {
      "cell_type": "markdown",
      "source": [
        "**Line chart atau diagram garis adalah grafik yang berbentuk garis naik dan\n",
        "turun yang menghubungkan titik-titik penting data.** *Diagram garis sering\n",
        "digunakan untuk memperlihatkan fluktuasi atau perubahan kondisi dari waktu ke waktu secara kontinu.*"
      ],
      "metadata": {
        "id": "qddvK6mxs0ph"
      }
    },
    {
      "cell_type": "markdown",
      "source": [
        "**Membuat line chart menggunakan matplotlib**"
      ],
      "metadata": {
        "id": "-8d1kkwGs7Og"
      }
    },
    {
      "cell_type": "code",
      "source": [
        "#Data\n",
        "import matplotlib.pyplot as plt\n",
        "x =[3,6,8,11,13,14,17,19,21,24,33,37]\n",
        "y = [7.5,12,13.2,15,17,22,24,37,34,38.5,42,47]\n",
        "x2 =[3,6,8,11,13,14,17,19,21,24,33]\n",
        "y2 = [50,45,33,24,21.5,19,14,13,10,6,3]\n",
        "#Label sumbu\n",
        "plt.plot(x,y, label='First Line')\n",
        "plt.plot(x2, y2, label='Second Line')\n",
        "plt.xlabel('Plot Number')\n",
        "plt.ylabel('Important var')\n",
        "#Rentang\n",
        "plt.yticks([0,5,10,15,20,25,30,35,40,45,50], ['0B','5B','10B','15B','20B','25B','30B','35B', '40B','45B','50B'])\n",
        "plt.legend()\n",
        "#Judul grafik\n",
        "plt.title('Interesting Graph\\n2018 ')\n",
        "plt.show()"
      ],
      "metadata": {
        "colab": {
          "base_uri": "https://localhost:8080/",
          "height": 310
        },
        "id": "DJ2DpNTAtL6i",
        "outputId": "3f818a1e-e008-4907-d3b9-28ff8e0a23e4"
      },
      "execution_count": null,
      "outputs": [
        {
          "output_type": "display_data",
          "data": {
            "text/plain": [
              "<Figure size 432x288 with 1 Axes>"
            ],
            "image/png": "[encoded data removed]"
          },
          "metadata": {
            "needs_background": "light"
          }
        }
      ]
    },
    {
      "cell_type": "markdown",
      "source": [
        "### Frequency Tables"
      ],
      "metadata": {
        "id": "ft1-aYVR1reP"
      }
    },
    {
      "cell_type": "markdown",
      "source": [
        "**Tabel distribusi frekuensi adalah alat penyajian data statistika yang berbentuk kolom dan baris yang didalamya terdapat susunan data yang telah\n",
        "dikelompokkan menurut kategori tertentu.** Umumnya, data atau nilai akan\n",
        "dikelompokkan menurut intervalnya.\n",
        "\n",
        "**Kita bisa menggunakan fungsi** .crosstab(). Berikut contoh :"
      ],
      "metadata": {
        "id": "b492367tteZF"
      }
    },
    {
      "cell_type": "code",
      "source": [
        "# Hubungkan dengan google drive\n",
        "from google.colab import drive\n",
        "drive.mount('/content/drive', force_remount=True)\n",
        "\n",
        "# Baca file, dan bentuk sebuah dataframe\n",
        "df = pd.read_csv('/content/drive/MyDrive/Piala Dunia Kumulatif.csv')\n",
        "df"
      ],
      "metadata": {
        "colab": {
          "base_uri": "https://localhost:8080/",
          "height": 904
        },
        "id": "uLNZg7BuCa4o",
        "outputId": "7313c71d-30aa-4c1e-e534-32cd893325a1"
      },
      "execution_count": null,
      "outputs": [
        {
          "output_type": "stream",
          "name": "stdout",
          "text": [
            "Mounted at /content/drive\n"
          ]
        },
        {
          "output_type": "execute_result",
          "data": {
            "text/plain": [
              "     Key Id Tournament Id               Match Name         Stage Name Score  \\\n",
              "0         1       WC-1930          France v Mexico        group stage   4–1   \n",
              "1         2       WC-1930  United States v Belgium        group stage   3–0   \n",
              "2         3       WC-1930      Yugoslavia v Brazil        group stage   2–1   \n",
              "3         4       WC-1930           Romania v Peru        group stage   3–1   \n",
              "4         5       WC-1930       Argentina v France        group stage   1–0   \n",
              "..      ...           ...                      ...                ...   ...   \n",
              "959     960       WC-2022         England v France     quarter-finals   1–2   \n",
              "960     961       WC-2022      Argentina v Croatia        semi-finals   3–0   \n",
              "961     962       WC-2022         France v Morocco        semi-finals   2–0   \n",
              "962     963       WC-2022        Croatia v Morocco  third-place match   2–1   \n",
              "963     964       WC-2022       Argentina v France              final   3–3   \n",
              "\n",
              "     Home Team Score  Away Team Score  Home Team Score Margin  \\\n",
              "0                  4                1                       3   \n",
              "1                  3                0                       3   \n",
              "2                  2                1                       1   \n",
              "3                  3                1                       2   \n",
              "4                  1                0                       1   \n",
              "..               ...              ...                     ...   \n",
              "959                1                2                      -1   \n",
              "960                3                0                       3   \n",
              "961                2                0                       2   \n",
              "962                2                1                       1   \n",
              "963                3                3                       0   \n",
              "\n",
              "     Away Team Score Margin  Extra Time  Penalty Shootout Score Penalties  \\\n",
              "0                        -3           0                 0             0-0   \n",
              "1                        -3           0                 0             0-0   \n",
              "2                        -1           0                 0             0-0   \n",
              "3                        -2           0                 0             0-0   \n",
              "4                        -1           0                 0             0-0   \n",
              "..                      ...         ...               ...             ...   \n",
              "959                       1           0                 0             0-0   \n",
              "960                      -3           0                 0             0-0   \n",
              "961                      -2           0                 0             0-0   \n",
              "962                      -1           0                 0             0-0   \n",
              "963                       0           1                 1             4–2   \n",
              "\n",
              "     Home Team Score Penalties  Away Team Score Penalties         Result  \n",
              "0                            0                          0  home team win  \n",
              "1                            0                          0  home team win  \n",
              "2                            0                          0  home team win  \n",
              "3                            0                          0  home team win  \n",
              "4                            0                          0  home team win  \n",
              "..                         ...                        ...            ...  \n",
              "959                          0                          0  away team win  \n",
              "960                          0                          0  home team win  \n",
              "961                          0                          0  home team win  \n",
              "962                          0                          0  home team win  \n",
              "963                          4                          2  home team win  \n",
              "\n",
              "[964 rows x 15 columns]"
            ],
            "text/html": [
              "\n",
              "  <div id=\"df-4199d4a5-b392-41ab-8e72-2b45f57d8ba7\">\n",
              "    <div class=\"colab-df-container\">\n",
              "      <div>\n",
              "<style scoped>\n",
              "    .dataframe tbody tr th:only-of-type {\n",
              "        vertical-align: middle;\n",
              "    }\n",
              "\n",
              "    .dataframe tbody tr th {\n",
              "        vertical-align: top;\n",
              "    }\n",
              "\n",
              "    .dataframe thead th {\n",
              "        text-align: right;\n",
              "    }\n",
              "</style>\n",
              "<table border=\"1\" class=\"dataframe\">\n",
              "  <thead>\n",
              "    <tr style=\"text-align: right;\">\n",
              "      <th></th>\n",
              "      <th>Key Id</th>\n",
              "      <th>Tournament Id</th>\n",
              "      <th>Match Name</th>\n",
              "      <th>Stage Name</th>\n",
              "      <th>Score</th>\n",
              "      <th>Home Team Score</th>\n",
              "      <th>Away Team Score</th>\n",
              "      <th>Home Team Score Margin</th>\n",
              "      <th>Away Team Score Margin</th>\n",
              "      <th>Extra Time</th>\n",
              "      <th>Penalty Shootout</th>\n",
              "      <th>Score Penalties</th>\n",
              "      <th>Home Team Score Penalties</th>\n",
              "      <th>Away Team Score Penalties</th>\n",
              "      <th>Result</th>\n",
              "    </tr>\n",
              "  </thead>\n",
              "  <tbody>\n",
              "    <tr>\n",
              "      <th>0</th>\n",
              "      <td>1</td>\n",
              "      <td>WC-1930</td>\n",
              "      <td>France v Mexico</td>\n",
              "      <td>group stage</td>\n",
              "      <td>4–1</td>\n",
              "      <td>4</td>\n",
              "      <td>1</td>\n",
              "      <td>3</td>\n",
              "      <td>-3</td>\n",
              "      <td>0</td>\n",
              "      <td>0</td>\n",
              "      <td>0-0</td>\n",
              "      <td>0</td>\n",
              "      <td>0</td>\n",
              "      <td>home team win</td>\n",
              "    </tr>\n",
              "    <tr>\n",
              "      <th>1</th>\n",
              "      <td>2</td>\n",
              "      <td>WC-1930</td>\n",
              "      <td>United States v Belgium</td>\n",
              "      <td>group stage</td>\n",
              "      <td>3–0</td>\n",
              "      <td>3</td>\n",
              "      <td>0</td>\n",
              "      <td>3</td>\n",
              "      <td>-3</td>\n",
              "      <td>0</td>\n",
              "      <td>0</td>\n",
              "      <td>0-0</td>\n",
              "      <td>0</td>\n",
              "      <td>0</td>\n",
              "      <td>home team win</td>\n",
              "    </tr>\n",
              "    <tr>\n",
              "      <th>2</th>\n",
              "      <td>3</td>\n",
              "      <td>WC-1930</td>\n",
              "      <td>Yugoslavia v Brazil</td>\n",
              "      <td>group stage</td>\n",
              "      <td>2–1</td>\n",
              "      <td>2</td>\n",
              "      <td>1</td>\n",
              "      <td>1</td>\n",
              "      <td>-1</td>\n",
              "      <td>0</td>\n",
              "      <td>0</td>\n",
              "      <td>0-0</td>\n",
              "      <td>0</td>\n",
              "      <td>0</td>\n",
              "      <td>home team win</td>\n",
              "    </tr>\n",
              "    <tr>\n",
              "      <th>3</th>\n",
              "      <td>4</td>\n",
              "      <td>WC-1930</td>\n",
              "      <td>Romania v Peru</td>\n",
              "      <td>group stage</td>\n",
              "      <td>3–1</td>\n",
              "      <td>3</td>\n",
              "      <td>1</td>\n",
              "      <td>2</td>\n",
              "      <td>-2</td>\n",
              "      <td>0</td>\n",
              "      <td>0</td>\n",
              "      <td>0-0</td>\n",
              "      <td>0</td>\n",
              "      <td>0</td>\n",
              "      <td>home team win</td>\n",
              "    </tr>\n",
              "    <tr>\n",
              "      <th>4</th>\n",
              "      <td>5</td>\n",
              "      <td>WC-1930</td>\n",
              "      <td>Argentina v France</td>\n",
              "      <td>group stage</td>\n",
              "      <td>1–0</td>\n",
              "      <td>1</td>\n",
              "      <td>0</td>\n",
              "      <td>1</td>\n",
              "      <td>-1</td>\n",
              "      <td>0</td>\n",
              "      <td>0</td>\n",
              "      <td>0-0</td>\n",
              "      <td>0</td>\n",
              "      <td>0</td>\n",
              "      <td>home team win</td>\n",
              "    </tr>\n",
              "    <tr>\n",
              "      <th>...</th>\n",
              "      <td>...</td>\n",
              "      <td>...</td>\n",
              "      <td>...</td>\n",
              "      <td>...</td>\n",
              "      <td>...</td>\n",
              "      <td>...</td>\n",
              "      <td>...</td>\n",
              "      <td>...</td>\n",
              "      <td>...</td>\n",
              "      <td>...</td>\n",
              "      <td>...</td>\n",
              "      <td>...</td>\n",
              "      <td>...</td>\n",
              "      <td>...</td>\n",
              "      <td>...</td>\n",
              "    </tr>\n",
              "    <tr>\n",
              "      <th>959</th>\n",
              "      <td>960</td>\n",
              "      <td>WC-2022</td>\n",
              "      <td>England v France</td>\n",
              "      <td>quarter-finals</td>\n",
              "      <td>1–2</td>\n",
              "      <td>1</td>\n",
              "      <td>2</td>\n",
              "      <td>-1</td>\n",
              "      <td>1</td>\n",
              "      <td>0</td>\n",
              "      <td>0</td>\n",
              "      <td>0-0</td>\n",
              "      <td>0</td>\n",
              "      <td>0</td>\n",
              "      <td>away team win</td>\n",
              "    </tr>\n",
              "    <tr>\n",
              "      <th>960</th>\n",
              "      <td>961</td>\n",
              "      <td>WC-2022</td>\n",
              "      <td>Argentina v Croatia</td>\n",
              "      <td>semi-finals</td>\n",
              "      <td>3–0</td>\n",
              "      <td>3</td>\n",
              "      <td>0</td>\n",
              "      <td>3</td>\n",
              "      <td>-3</td>\n",
              "      <td>0</td>\n",
              "      <td>0</td>\n",
              "      <td>0-0</td>\n",
              "      <td>0</td>\n",
              "      <td>0</td>\n",
              "      <td>home team win</td>\n",
              "    </tr>\n",
              "    <tr>\n",
              "      <th>961</th>\n",
              "      <td>962</td>\n",
              "      <td>WC-2022</td>\n",
              "      <td>France v Morocco</td>\n",
              "      <td>semi-finals</td>\n",
              "      <td>2–0</td>\n",
              "      <td>2</td>\n",
              "      <td>0</td>\n",
              "      <td>2</td>\n",
              "      <td>-2</td>\n",
              "      <td>0</td>\n",
              "      <td>0</td>\n",
              "      <td>0-0</td>\n",
              "      <td>0</td>\n",
              "      <td>0</td>\n",
              "      <td>home team win</td>\n",
              "    </tr>\n",
              "    <tr>\n",
              "      <th>962</th>\n",
              "      <td>963</td>\n",
              "      <td>WC-2022</td>\n",
              "      <td>Croatia v Morocco</td>\n",
              "      <td>third-place match</td>\n",
              "      <td>2–1</td>\n",
              "      <td>2</td>\n",
              "      <td>1</td>\n",
              "      <td>1</td>\n",
              "      <td>-1</td>\n",
              "      <td>0</td>\n",
              "      <td>0</td>\n",
              "      <td>0-0</td>\n",
              "      <td>0</td>\n",
              "      <td>0</td>\n",
              "      <td>home team win</td>\n",
              "    </tr>\n",
              "    <tr>\n",
              "      <th>963</th>\n",
              "      <td>964</td>\n",
              "      <td>WC-2022</td>\n",
              "      <td>Argentina v France</td>\n",
              "      <td>final</td>\n",
              "      <td>3–3</td>\n",
              "      <td>3</td>\n",
              "      <td>3</td>\n",
              "      <td>0</td>\n",
              "      <td>0</td>\n",
              "      <td>1</td>\n",
              "      <td>1</td>\n",
              "      <td>4–2</td>\n",
              "      <td>4</td>\n",
              "      <td>2</td>\n",
              "      <td>home team win</td>\n",
              "    </tr>\n",
              "  </tbody>\n",
              "</table>\n",
              "<p>964 rows × 15 columns</p>\n",
              "</div>\n",
              "      <button class=\"colab-df-convert\" onclick=\"convertToInteractive('df-4199d4a5-b392-41ab-8e72-2b45f57d8ba7')\"\n",
              "              title=\"Convert this dataframe to an interactive table.\"\n",
              "              style=\"display:none;\">\n",
              "        \n",
              "  <svg xmlns=\"http://www.w3.org/2000/svg\" height=\"24px\"viewBox=\"0 0 24 24\"\n",
              "       width=\"24px\">\n",
              "    <path d=\"M0 0h24v24H0V0z\" fill=\"none\"/>\n",
              "    <path d=\"M18.56 5.44l.94 2.06.94-2.06 2.06-.94-2.06-.94-.94-2.06-.94 2.06-2.06.94zm-11 1L8.5 8.5l.94-2.06 2.06-.94-2.06-.94L8.5 2.5l-.94 2.06-2.06.94zm10 10l.94 2.06.94-2.06 2.06-.94-2.06-.94-.94-2.06-.94 2.06-2.06.94z\"/><path d=\"M17.41 7.96l-1.37-1.37c-.4-.4-.92-.59-1.43-.59-.52 0-1.04.2-1.43.59L10.3 9.45l-7.72 7.72c-.78.78-.78 2.05 0 2.83L4 21.41c.39.39.9.59 1.41.59.51 0 1.02-.2 1.41-.59l7.78-7.78 2.81-2.81c.8-.78.8-2.07 0-2.86zM5.41 20L4 18.59l7.72-7.72 1.47 1.35L5.41 20z\"/>\n",
              "  </svg>\n",
              "      </button>\n",
              "      \n",
              "  <style>\n",
              "    .colab-df-container {\n",
              "      display:flex;\n",
              "      flex-wrap:wrap;\n",
              "      gap: 12px;\n",
              "    }\n",
              "\n",
              "    .colab-df-convert {\n",
              "      background-color: #E8F0FE;\n",
              "      border: none;\n",
              "      border-radius: 50%;\n",
              "      cursor: pointer;\n",
              "      display: none;\n",
              "      fill: #1967D2;\n",
              "      height: 32px;\n",
              "      padding: 0 0 0 0;\n",
              "      width: 32px;\n",
              "    }\n",
              "\n",
              "    .colab-df-convert:hover {\n",
              "      background-color: #E2EBFA;\n",
              "      box-shadow: 0px 1px 2px rgba(60, 64, 67, 0.3), 0px 1px 3px 1px rgba(60, 64, 67, 0.15);\n",
              "      fill: #174EA6;\n",
              "    }\n",
              "\n",
              "    [theme=dark] .colab-df-convert {\n",
              "      background-color: #3B4455;\n",
              "      fill: #D2E3FC;\n",
              "    }\n",
              "\n",
              "    [theme=dark] .colab-df-convert:hover {\n",
              "      background-color: #434B5C;\n",
              "      box-shadow: 0px 1px 3px 1px rgba(0, 0, 0, 0.15);\n",
              "      filter: drop-shadow(0px 1px 2px rgba(0, 0, 0, 0.3));\n",
              "      fill: #FFFFFF;\n",
              "    }\n",
              "  </style>\n",
              "\n",
              "      <script>\n",
              "        const buttonEl =\n",
              "          document.querySelector('#df-4199d4a5-b392-41ab-8e72-2b45f57d8ba7 button.colab-df-convert');\n",
              "        buttonEl.style.display =\n",
              "          google.colab.kernel.accessAllowed ? 'block' : 'none';\n",
              "\n",
              "        async function convertToInteractive(key) {\n",
              "          const element = document.querySelector('#df-4199d4a5-b392-41ab-8e72-2b45f57d8ba7');\n",
              "          const dataTable =\n",
              "            await google.colab.kernel.invokeFunction('convertToInteractive',\n",
              "                                                     [key], {});\n",
              "          if (!dataTable) return;\n",
              "\n",
              "          const docLinkHtml = 'Like what you see? Visit the ' +\n",
              "            '<a target=\"_blank\" href=https://colab.research.google.com/notebooks/data_table.ipynb>data table notebook</a>'\n",
              "            + ' to learn more about interactive tables.';\n",
              "          element.innerHTML = '';\n",
              "          dataTable['output_type'] = 'display_data';\n",
              "          await google.colab.output.renderOutput(dataTable, element);\n",
              "          const docLink = document.createElement('div');\n",
              "          docLink.innerHTML = docLinkHtml;\n",
              "          element.appendChild(docLink);\n",
              "        }\n",
              "      </script>\n",
              "    </div>\n",
              "  </div>\n",
              "  "
            ]
          },
          "metadata": {},
          "execution_count": 64
        }
      ]
    },
    {
      "cell_type": "code",
      "source": [
        "# Kita bentuk frequency tables\n",
        "freq_tab = pd.crosstab(index = [df['Tournament Id'], df['Stage Name']], columns = [df['Result']], rownames = [\"Tahun Turnamen\", \"Babak\"], colnames = [\"Nasib Tuan Rumah\"])\n",
        "freq_tab"
      ],
      "metadata": {
        "colab": {
          "base_uri": "https://localhost:8080/",
          "height": 659
        },
        "id": "JvtESJHgtvFn",
        "outputId": "fe2560ea-6d18-44ee-aecc-98e2130488fb"
      },
      "execution_count": null,
      "outputs": [
        {
          "output_type": "execute_result",
          "data": {
            "text/plain": [
              "Nasib Tuan Rumah                  away team win  draw  home team win\n",
              "Tahun Turnamen Babak                                                \n",
              "WC-1930        final                          0     0              1\n",
              "               group stage                    0     0             15\n",
              "               semi-finals                    0     0              2\n",
              "WC-1934        final                          0     0              1\n",
              "               quarter-finals                 0     1              4\n",
              "...                                         ...   ...            ...\n",
              "WC-2022        group stage                   19    10             19\n",
              "               quarter-finals                 2     0              2\n",
              "               round of 16                    1     0              7\n",
              "               semi-finals                    0     0              2\n",
              "               third-place match              0     0              1\n",
              "\n",
              "[113 rows x 3 columns]"
            ],
            "text/html": [
              "\n",
              "  <div id=\"df-a367a02e-aeb7-416d-94a0-3df694b15cf7\">\n",
              "    <div class=\"colab-df-container\">\n",
              "      <div>\n",
              "<style scoped>\n",
              "    .dataframe tbody tr th:only-of-type {\n",
              "        vertical-align: middle;\n",
              "    }\n",
              "\n",
              "    .dataframe tbody tr th {\n",
              "        vertical-align: top;\n",
              "    }\n",
              "\n",
              "    .dataframe thead th {\n",
              "        text-align: right;\n",
              "    }\n",
              "</style>\n",
              "<table border=\"1\" class=\"dataframe\">\n",
              "  <thead>\n",
              "    <tr style=\"text-align: right;\">\n",
              "      <th></th>\n",
              "      <th>Nasib Tuan Rumah</th>\n",
              "      <th>away team win</th>\n",
              "      <th>draw</th>\n",
              "      <th>home team win</th>\n",
              "    </tr>\n",
              "    <tr>\n",
              "      <th>Tahun Turnamen</th>\n",
              "      <th>Babak</th>\n",
              "      <th></th>\n",
              "      <th></th>\n",
              "      <th></th>\n",
              "    </tr>\n",
              "  </thead>\n",
              "  <tbody>\n",
              "    <tr>\n",
              "      <th rowspan=\"3\" valign=\"top\">WC-1930</th>\n",
              "      <th>final</th>\n",
              "      <td>0</td>\n",
              "      <td>0</td>\n",
              "      <td>1</td>\n",
              "    </tr>\n",
              "    <tr>\n",
              "      <th>group stage</th>\n",
              "      <td>0</td>\n",
              "      <td>0</td>\n",
              "      <td>15</td>\n",
              "    </tr>\n",
              "    <tr>\n",
              "      <th>semi-finals</th>\n",
              "      <td>0</td>\n",
              "      <td>0</td>\n",
              "      <td>2</td>\n",
              "    </tr>\n",
              "    <tr>\n",
              "      <th rowspan=\"2\" valign=\"top\">WC-1934</th>\n",
              "      <th>final</th>\n",
              "      <td>0</td>\n",
              "      <td>0</td>\n",
              "      <td>1</td>\n",
              "    </tr>\n",
              "    <tr>\n",
              "      <th>quarter-finals</th>\n",
              "      <td>0</td>\n",
              "      <td>1</td>\n",
              "      <td>4</td>\n",
              "    </tr>\n",
              "    <tr>\n",
              "      <th>...</th>\n",
              "      <th>...</th>\n",
              "      <td>...</td>\n",
              "      <td>...</td>\n",
              "      <td>...</td>\n",
              "    </tr>\n",
              "    <tr>\n",
              "      <th rowspan=\"5\" valign=\"top\">WC-2022</th>\n",
              "      <th>group stage</th>\n",
              "      <td>19</td>\n",
              "      <td>10</td>\n",
              "      <td>19</td>\n",
              "    </tr>\n",
              "    <tr>\n",
              "      <th>quarter-finals</th>\n",
              "      <td>2</td>\n",
              "      <td>0</td>\n",
              "      <td>2</td>\n",
              "    </tr>\n",
              "    <tr>\n",
              "      <th>round of 16</th>\n",
              "      <td>1</td>\n",
              "      <td>0</td>\n",
              "      <td>7</td>\n",
              "    </tr>\n",
              "    <tr>\n",
              "      <th>semi-finals</th>\n",
              "      <td>0</td>\n",
              "      <td>0</td>\n",
              "      <td>2</td>\n",
              "    </tr>\n",
              "    <tr>\n",
              "      <th>third-place match</th>\n",
              "      <td>0</td>\n",
              "      <td>0</td>\n",
              "      <td>1</td>\n",
              "    </tr>\n",
              "  </tbody>\n",
              "</table>\n",
              "<p>113 rows × 3 columns</p>\n",
              "</div>\n",
              "      <button class=\"colab-df-convert\" onclick=\"convertToInteractive('df-a367a02e-aeb7-416d-94a0-3df694b15cf7')\"\n",
              "              title=\"Convert this dataframe to an interactive table.\"\n",
              "              style=\"display:none;\">\n",
              "        \n",
              "  <svg xmlns=\"http://www.w3.org/2000/svg\" height=\"24px\"viewBox=\"0 0 24 24\"\n",
              "       width=\"24px\">\n",
              "    <path d=\"M0 0h24v24H0V0z\" fill=\"none\"/>\n",
              "    <path d=\"M18.56 5.44l.94 2.06.94-2.06 2.06-.94-2.06-.94-.94-2.06-.94 2.06-2.06.94zm-11 1L8.5 8.5l.94-2.06 2.06-.94-2.06-.94L8.5 2.5l-.94 2.06-2.06.94zm10 10l.94 2.06.94-2.06 2.06-.94-2.06-.94-.94-2.06-.94 2.06-2.06.94z\"/><path d=\"M17.41 7.96l-1.37-1.37c-.4-.4-.92-.59-1.43-.59-.52 0-1.04.2-1.43.59L10.3 9.45l-7.72 7.72c-.78.78-.78 2.05 0 2.83L4 21.41c.39.39.9.59 1.41.59.51 0 1.02-.2 1.41-.59l7.78-7.78 2.81-2.81c.8-.78.8-2.07 0-2.86zM5.41 20L4 18.59l7.72-7.72 1.47 1.35L5.41 20z\"/>\n",
              "  </svg>\n",
              "      </button>\n",
              "      \n",
              "  <style>\n",
              "    .colab-df-container {\n",
              "      display:flex;\n",
              "      flex-wrap:wrap;\n",
              "      gap: 12px;\n",
              "    }\n",
              "\n",
              "    .colab-df-convert {\n",
              "      background-color: #E8F0FE;\n",
              "      border: none;\n",
              "      border-radius: 50%;\n",
              "      cursor: pointer;\n",
              "      display: none;\n",
              "      fill: #1967D2;\n",
              "      height: 32px;\n",
              "      padding: 0 0 0 0;\n",
              "      width: 32px;\n",
              "    }\n",
              "\n",
              "    .colab-df-convert:hover {\n",
              "      background-color: #E2EBFA;\n",
              "      box-shadow: 0px 1px 2px rgba(60, 64, 67, 0.3), 0px 1px 3px 1px rgba(60, 64, 67, 0.15);\n",
              "      fill: #174EA6;\n",
              "    }\n",
              "\n",
              "    [theme=dark] .colab-df-convert {\n",
              "      background-color: #3B4455;\n",
              "      fill: #D2E3FC;\n",
              "    }\n",
              "\n",
              "    [theme=dark] .colab-df-convert:hover {\n",
              "      background-color: #434B5C;\n",
              "      box-shadow: 0px 1px 3px 1px rgba(0, 0, 0, 0.15);\n",
              "      filter: drop-shadow(0px 1px 2px rgba(0, 0, 0, 0.3));\n",
              "      fill: #FFFFFF;\n",
              "    }\n",
              "  </style>\n",
              "\n",
              "      <script>\n",
              "        const buttonEl =\n",
              "          document.querySelector('#df-a367a02e-aeb7-416d-94a0-3df694b15cf7 button.colab-df-convert');\n",
              "        buttonEl.style.display =\n",
              "          google.colab.kernel.accessAllowed ? 'block' : 'none';\n",
              "\n",
              "        async function convertToInteractive(key) {\n",
              "          const element = document.querySelector('#df-a367a02e-aeb7-416d-94a0-3df694b15cf7');\n",
              "          const dataTable =\n",
              "            await google.colab.kernel.invokeFunction('convertToInteractive',\n",
              "                                                     [key], {});\n",
              "          if (!dataTable) return;\n",
              "\n",
              "          const docLinkHtml = 'Like what you see? Visit the ' +\n",
              "            '<a target=\"_blank\" href=https://colab.research.google.com/notebooks/data_table.ipynb>data table notebook</a>'\n",
              "            + ' to learn more about interactive tables.';\n",
              "          element.innerHTML = '';\n",
              "          dataTable['output_type'] = 'display_data';\n",
              "          await google.colab.output.renderOutput(dataTable, element);\n",
              "          const docLink = document.createElement('div');\n",
              "          docLink.innerHTML = docLinkHtml;\n",
              "          element.appendChild(docLink);\n",
              "        }\n",
              "      </script>\n",
              "    </div>\n",
              "  </div>\n",
              "  "
            ]
          },
          "metadata": {},
          "execution_count": 37
        }
      ]
    },
    {
      "cell_type": "markdown",
      "source": [
        "### Scatterplot"
      ],
      "metadata": {
        "id": "28LAApoe1uO7"
      }
    },
    {
      "cell_type": "markdown",
      "source": [
        "**Scatterplot atau plot sebar adalah jenis plot yang menggunakan titik-titik untuk mewakili nilai dua variabel numerik yang berbeda.** Scatterplot digunakan untuk mengamati seberapa kuatnya hubungan antar 2 (dua) variabel serta menentukan jenis hubungan dari 2 (dua) variabel tersebut, apakah hubungan positif, hubungan negatif ataupun tidak ada hubungan sama sekali."
      ],
      "metadata": {
        "id": "3LNvIEDou_re"
      }
    },
    {
      "cell_type": "markdown",
      "source": [
        "**Membuat scatterplot menggunakan matplotlib**"
      ],
      "metadata": {
        "id": "keNAhMZpvNzb"
      }
    },
    {
      "cell_type": "code",
      "source": [
        "#Data\n",
        "Students = [2,4,6,8,6,10, 6]\n",
        "Courses = [4,5,3,2,4, 3, 4]\n",
        "plt.scatter(Students,Courses, label='Students/Courses',\n",
        "color='green', marker='*', s=75 )\n",
        "#Label sumbu\n",
        "plt.xlabel('Students')\n",
        "plt.ylabel('Courses')\n",
        "#Judul grafik\n",
        "plt.title('Students courses\\n Spring 2018')\n",
        "plt.legend()\n",
        "plt.show()"
      ],
      "metadata": {
        "colab": {
          "base_uri": "https://localhost:8080/",
          "height": 310
        },
        "id": "QblWwXm5vXbg",
        "outputId": "fa051fd9-b17d-4f75-d34e-985453cc0c1c"
      },
      "execution_count": null,
      "outputs": [
        {
          "output_type": "display_data",
          "data": {
            "text/plain": [
              "<Figure size 432x288 with 1 Axes>"
            ],
            "image/png": "[encoded data removed]"
          },
          "metadata": {
            "needs_background": "light"
          }
        }
      ]
    }
  ]
}